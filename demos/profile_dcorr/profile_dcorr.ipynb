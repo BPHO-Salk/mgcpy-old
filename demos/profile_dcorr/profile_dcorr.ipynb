{
 "cells": [
  {
   "cell_type": "code",
   "execution_count": null,
   "metadata": {},
   "outputs": [],
   "source": [
    "#%%\n",
    "import matplotlib.pyplot as plt\n",
    "import numpy as np\n",
    "import seaborn as sns\n",
    "from tqdm import tqdm\n",
    "from joblib import Parallel, delayed\n",
    "\n",
    "from mgcpy.hypothesis_tests.transforms import k_sample_transform\n",
    "from mgcpy.independence_tests.dcorr import DCorr"
   ]
  },
  {
   "cell_type": "code",
   "execution_count": null,
   "metadata": {},
   "outputs": [],
   "source": [
    "np.random.seed(8888)\n",
    "\n",
    "n_sims = 100\n",
    "n_samples = 300\n",
    "n_components = 2\n",
    "n_permutations = 100\n",
    "size = (n_samples, n_components)\n",
    "\n",
    "#%% mgcpy package\n",
    "dcorr = DCorr(which_test=\"biased\")\n",
    "p_vals = np.zeros(n_sims)\n",
    "def worker(i):\n",
    "    sample1 = np.random.uniform(0.2, 0.7, size = size)\n",
    "    sample2 = np.random.uniform(0.2, 0.7, size = size)\n",
    "\n",
    "    sample, indicator = k_sample_transform(sample1, sample2)\n",
    "    p, p_meta = dcorr.p_value(sample,\n",
    "                             indicator,\n",
    "                             replication_factor = n_permutations,\n",
    "                             is_fast=False\n",
    "    )\n",
    "    return p\n",
    "    \n",
    "p_vals = Parallel(n_jobs=-2, verbose=10)(delayed(worker)(i) for i in range(n_sims))"
   ]
  },
  {
   "cell_type": "code",
   "execution_count": null,
   "metadata": {},
   "outputs": [],
   "source": [
    "plt.style.use(\"seaborn-white\")\n",
    "sns.set_palette(\"deep\")\n",
    "\n",
    "plt.figure()\n",
    "sns.distplot(p_vals)\n",
    "plt.title(\"MGCPy DCorr, 2-sample under null, unbiased, not fast\")\n",
    "plt.xlabel(\"p-value\")\n",
    "plt.savefig(\"mgcpy_dcorr_profile.png\", facecolor=\"w\")"
   ]
  }
 ],
 "metadata": {
  "kernelspec": {
   "display_name": "Python 3",
   "language": "python",
   "name": "python3"
  },
  "language_info": {
   "codemirror_mode": {
    "name": "ipython",
    "version": 3
   },
   "file_extension": ".py",
   "mimetype": "text/x-python",
   "name": "python",
   "nbconvert_exporter": "python",
   "pygments_lexer": "ipython3",
   "version": "3.7.4"
  }
 },
 "nbformat": 4,
 "nbformat_minor": 2
}
