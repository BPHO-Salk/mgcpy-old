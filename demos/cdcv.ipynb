{
 "cells": [
  {
   "cell_type": "markdown",
   "metadata": {},
   "source": [
    "# CDCV Demo\n",
    "In this notebook, we demonstrate the cross-distance covariance test for independence of time series."
   ]
  },
  {
   "cell_type": "code",
   "execution_count": 1,
   "metadata": {
    "collapsed": true
   },
   "outputs": [],
   "source": [
    "%matplotlib inline\n",
    "import numpy as np\n",
    "from scipy.stats import chi2\n",
    "import matplotlib.pyplot as plt\n",
    "from mgcpy.independence_tests.cdcv import CDCV"
   ]
  },
  {
   "cell_type": "markdown",
   "metadata": {},
   "source": [
    "**Function to compute and print CDCV output values, given X and Y:**"
   ]
  },
  {
   "cell_type": "code",
   "execution_count": 2,
   "metadata": {
    "collapsed": true
   },
   "outputs": [],
   "source": [
    "def compute_cdcv(X, Y, max_lag):\n",
    "    cdcv = CDCV(max_lag = max_lag, which_test = 'unbiased')\n",
    "    cdcv_statistic, _ = cdcv.test_statistic(X, Y)\n",
    "    p_value, _ = cdcv.p_value(X, Y)\n",
    "\n",
    "    print(\"CDCV test statistic:\", cdcv_statistic)\n",
    "    print(\"P Value:\", p_value)\n",
    "    return cdcv_statistic, p_value"
   ]
  },
  {
   "cell_type": "markdown",
   "metadata": {},
   "source": [
    "**Example: simulate data `X` and `Y` in the form of `n`-by-`p` and `n`-by-`q` matrices respectively, where `n` is the sample size.**"
   ]
  },
  {
   "cell_type": "code",
   "execution_count": 3,
   "metadata": {},
   "outputs": [
    {
     "name": "stdout",
     "output_type": "stream",
     "text": [
      "CDCV test statistic: 3.59486142036074\n",
      "P Value: 0.131\n"
     ]
    }
   ],
   "source": [
    "n = 25\n",
    "p = 10\n",
    "q = 5\n",
    "\n",
    "X = np.random.normal(0.0, 1.0, n*p).reshape(n,p)\n",
    "Y = np.random.normal(0.0, 1.0, n*q).reshape(n,q)\n",
    "\n",
    "max_lag = 2 # 'M' parameter for CDCV test.\n",
    "\n",
    "CDCV_statistic, p_value = compute_cdcv(X, Y, max_lag)"
   ]
  },
  {
   "cell_type": "markdown",
   "metadata": {},
   "source": [
    "In the following cells, we simulate different time series processes and estimate the power of the test at varying choices of sample size. Additionally, we compare against the Ljung-Box test of correlation."
   ]
  },
  {
   "cell_type": "markdown",
   "metadata": {},
   "source": [
    "**Function to simulate time series.**"
   ]
  },
  {
   "cell_type": "code",
   "execution_count": 4,
   "metadata": {
    "collapsed": true
   },
   "outputs": [],
   "source": [
    "def indep_ar1(n):\n",
    "    # X_t and Y_t are univarite AR(1) with phi = 0.5.\n",
    "    \n",
    "    # Innovations.\n",
    "    epsilons = np.random.normal(0.0, 1.0, n)\n",
    "    etas = np.random.normal(0.0, 1.0, n)\n",
    "    \n",
    "    X = np.zeros(n)\n",
    "    Y = np.zeros(n)\n",
    "    X[0] = epsilons[0]\n",
    "    Y[0] = etas[0]\n",
    "    \n",
    "    # AR(1) process.\n",
    "    for t in range(1,n):\n",
    "        X[t] = 0.5*X[t-1] + epsilons[t]\n",
    "        Y[t] = 0.5*Y[t-1] + etas[t]\n",
    "        \n",
    "    return X, Y"
   ]
  },
  {
   "cell_type": "code",
   "execution_count": 5,
   "metadata": {
    "collapsed": true
   },
   "outputs": [],
   "source": [
    "def lin_dep_ar1(n):\n",
    "    # X_t and Y_t are together a bivarite AR(1) with Phi = [0 0.5; 0.5 0].\n",
    "    \n",
    "    # Innovations.\n",
    "    epsilons = np.random.normal(0.0, 1.0, n)\n",
    "    etas = np.random.normal(0.0, 1.0, n)\n",
    "    \n",
    "    X = np.zeros(n)\n",
    "    Y = np.zeros(n)\n",
    "    X[0] = epsilons[0]\n",
    "    Y[0] = etas[0]\n",
    "    \n",
    "    # AR(1) process.\n",
    "    for t in range(1,n):\n",
    "        X[t] = 0.5*Y[t-1] + epsilons[t]\n",
    "        Y[t] = 0.5*X[t-1] + etas[t]\n",
    "        \n",
    "    return X, Y"
   ]
  },
  {
   "cell_type": "code",
   "execution_count": 6,
   "metadata": {
    "collapsed": true
   },
   "outputs": [],
   "source": [
    "def nonlin_dep_ma1(n):\n",
    "    # X_t and Y_t are together a bivarite NMA(1).\n",
    "    \n",
    "    # Innovations.\n",
    "    epsilons = np.random.normal(0.0, 1.0, n)\n",
    "    etas = np.random.normal(0.0, 1.0, n)\n",
    "    \n",
    "    X = np.zeros(n)\n",
    "    Y = np.zeros(n)\n",
    "    X[0] = epsilons[0]\n",
    "    Y[0] = etas[0]\n",
    "    \n",
    "    # MA(1) process.\n",
    "    for t in range(1,n):\n",
    "        X[t] = epsilons[t]*epsilons[t-1]*etas[t-1]\n",
    "        Y[t] = etas[t]*etas[t-1]*epsilons[t-1]\n",
    "        \n",
    "    return X, Y"
   ]
  },
  {
   "cell_type": "code",
   "execution_count": 7,
   "metadata": {
    "collapsed": true
   },
   "outputs": [],
   "source": [
    "def ljung_box(X, Y, max_lag, alpha):\n",
    "    n = len(X)\n",
    "    test_statistic = 0\n",
    "    for j in range(1,max_lag+1):\n",
    "            lead_X = X[j:n]\n",
    "            lag_Y = Y[0:(n-j)]\n",
    "            test_statistic = test_statistic + ((np.corrcoef(lead_X,lag_Y)[1,0])**2 / (n-j))\n",
    "\n",
    "            lag_X = X[0:(n-j)]\n",
    "            lead_Y = Y[j:n]\n",
    "            test_statistic += ((np.corrcoef(lead_X,lag_Y)[1,0])**2 / (n-j))\n",
    "    test_statistic *= (n*(n+2))\n",
    "    \n",
    "    critical_value = chi2.ppf(1-alpha, df = 2*max_lag)\n",
    "    return(test_statistic >= critical_value)"
   ]
  },
  {
   "cell_type": "code",
   "execution_count": 8,
   "metadata": {
    "collapsed": true
   },
   "outputs": [],
   "source": [
    "def power_curve(sample_sizes, powers_cdcv, powers_lb, alpha, title):\n",
    "    fig, ax = plt.subplots()\n",
    "    plt.title(title)\n",
    "    plt.xlabel(\"n\")\n",
    "    plt.ylabel(\"Rejection Probability\")\n",
    "    plt.ylim((-0.05, 1.05)) \n",
    "    \n",
    "    err_cdcv = 1.96*np.sqrt(np.divide(np.multiply(powers_cdcv, 1-powers_cdcv), sample_sizes))\n",
    "    err_lb = 1.96*np.sqrt(np.divide(np.multiply(powers_lb, 1-powers_lb), sample_sizes))\n",
    "    plt.errorbar(x = sample_sizes, y = powers_cdcv, yerr = err_cdcv, linestyle = '-', color = 'blue')\n",
    "    plt.errorbar(x = sample_sizes, y = powers_lb, yerr = err_lb, color = 'red', linestyle = ':')\n",
    "    ax.legend(['CDCV', 'LB'], loc = 'upper left')\n",
    "    \n",
    "    ax.axhline(y=alpha, color = 'black', linestyle = '--')\n",
    "    ax.axhline(y=1, color = 'black', linestyle = '--')\n",
    "    plt.show()"
   ]
  },
  {
   "cell_type": "markdown",
   "metadata": {},
   "source": [
    "**Compute power curves of the test on each process.**"
   ]
  },
  {
   "cell_type": "code",
   "execution_count": 10,
   "metadata": {},
   "outputs": [
    {
     "name": "stdout",
     "output_type": "stream",
     "text": [
      "Estimating power at sample size:  10........................................\n",
      "Estimating power at sample size:  20........................................\n",
      "Estimating power at sample size:  30........................................\n",
      "Estimating power at sample size:  40........................................\n",
      "Estimating power at sample size:  50........................................\n",
      "Estimating power at sample size:  60........................................\n",
      "Estimating power at sample size:  70........................................\n",
      "Estimating power at sample size:  80........................................\n",
      "Estimating power at sample size:  90........................................\n",
      "Estimating power at sample size:  100........................................\n"
     ]
    },
    {
     "data": {
      "image/png": "[encoded data removed]",
      "text/plain": [
       "<matplotlib.figure.Figure at 0x2354c73d208>"
      ]
     },
     "metadata": {},
     "output_type": "display_data"
    }
   ],
   "source": [
    "# Experimental parameters.\n",
    "sample_sizes = range(10,110,10)\n",
    "num_sims = 10\n",
    "num_bootstrap = 10\n",
    "alpha = 0.05\n",
    "maxlag = 2\n",
    "\n",
    "cdcv = CDCV(max_lag = maxlag)\n",
    "powers_cdcv = np.zeros(num_sims*len(sample_sizes)).reshape(len(sample_sizes), num_sims)\n",
    "powers_lb = np.zeros(num_sims*len(sample_sizes)).reshape(len(sample_sizes), num_sims)\n",
    "\n",
    "sims      = [indep_ar1, \n",
    "             lin_dep_ar1, \n",
    "             nonlin_dep_ma1]\n",
    "sim_names = [\"Power vs. Sample Size for Independent AR(1)\", \n",
    "             \"Power vs. Sample Size for Correlated AR(1)\", \n",
    "             \"Power vs. Sample Size for Nonlin. Dependent MA(1)\"]\n",
    "\n",
    "for s in range(len(sims)):\n",
    "    sim_type = sims[s]\n",
    "    for i in range(len(sample_sizes)):\n",
    "        rejects_cdcv = 0.0\n",
    "        rejects_lb   = 0.0\n",
    "        n = sample_sizes[i]\n",
    "        print(\"Estimating power at sample size: \", str(n), end = \"\")\n",
    "        for t in range(num_sims):\n",
    "            print('.', end='')\n",
    "            X, Y = sim_type(n)\n",
    "            p_value, _ = cdcv.p_value(X, Y, replication_factor = num_bootstrap)\n",
    "            if p_value < alpha:\n",
    "                rejects_cdcv += 1\n",
    "            if ljung_box(X, Y, maxlag, alpha):\n",
    "                rejects_lb += 1\n",
    "        \n",
    "        powers_cdcv[i] = rejects_cdcv/num_sims\n",
    "        powers_lb[i] = rejects_lb/num_sims\n",
    "        print(\"\")\n",
    "    power_curve(sample_sizes, powers_cdcv, powers_lb, alpha, sim_names[s])"
   ]
  }
 ],
 "metadata": {
  "kernelspec": {
   "display_name": "Python 3",
   "language": "python",
   "name": "python3"
  },
  "language_info": {
   "codemirror_mode": {
    "name": "ipython",
    "version": 3
   },
   "file_extension": ".py",
   "mimetype": "text/x-python",
   "name": "python",
   "nbconvert_exporter": "python",
   "pygments_lexer": "ipython3",
   "version": "3.6.3"
  }
 },
 "nbformat": 4,
 "nbformat_minor": 2
}
