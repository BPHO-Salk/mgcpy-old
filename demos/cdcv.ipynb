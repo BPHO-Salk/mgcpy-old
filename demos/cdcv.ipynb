{
 "cells": [
  {
   "cell_type": "markdown",
   "metadata": {},
   "source": [
    "# CDCV Demo\n",
    "In this notebook, we demonstrate the cross-distance covariance test for independence of time series."
   ]
  },
  {
   "cell_type": "code",
   "execution_count": 13,
   "metadata": {
    "collapsed": true
   },
   "outputs": [],
   "source": [
    "%matplotlib inline\n",
    "import numpy as np\n",
    "import matplotlib.pyplot as plt\n",
    "from mgcpy.independence_tests.cdcv import CDCV"
   ]
  },
  {
   "cell_type": "code",
   "execution_count": 14,
   "metadata": {},
   "outputs": [
    {
     "name": "stdout",
     "output_type": "stream",
     "text": [
      "CDCV test statistic: -0.267264645412068\n",
      "p-Value: 0.663\n"
     ]
    },
    {
     "data": {
      "image/png": "[encoded data removed]",
      "text/plain": [
       "<matplotlib.figure.Figure at 0x2232be81048>"
      ]
     },
     "metadata": {},
     "output_type": "display_data"
    }
   ],
   "source": [
    "# Genereate object and use common function.\n",
    "cdcv = CDCV(max_lag = 0, which_test = 'unbiased')\n",
    "#X = np.array([1,2,3,4,5,6,7,8,9,10]).reshape(10,1)\n",
    "#Y = np.array([10,9,8,7,6,5,4,3,2,1]).reshape(10,1)\n",
    "\n",
    "X = np.array([-0.51738677, -1.64439642, -0.60009747,  0.53894222, -1.72383276,  0.46333893, -1.03497398,  1.44962798,\n",
    "0.14929333, 0.81706599])\n",
    "Y = np.array([-0.81774510,  1.31066093,  1.27424512,  0.04163060, -0.07324358,  0.48620917,\n",
    "-0.18051888, -1.25029914, -0.01411343, -0.16998125])\n",
    "\n",
    "cdcv_statistic, test_statistic_metadata = cdcv.test_statistic(X, Y)\n",
    "p_value, p_value_metadata = cdcv.p_value(X, Y, replication_factor = 1000)\n",
    "\n",
    "print(\"CDCV test statistic:\", cdcv_statistic)\n",
    "print(\"p-Value:\", p_value)\n",
    "\n",
    "test_stats_null = p_value_metadata['test_stats_null']\n",
    "plt.hist(test_stats_null, bins = 20)\n",
    "plt.title(\"Distribution of Test Statistic\")\n",
    "plt.show()"
   ]
  }
 ],
 "metadata": {
  "kernelspec": {
   "display_name": "Python 3",
   "language": "python",
   "name": "python3"
  },
  "language_info": {
   "codemirror_mode": {
    "name": "ipython",
    "version": 3
   },
   "file_extension": ".py",
   "mimetype": "text/x-python",
   "name": "python",
   "nbconvert_exporter": "python",
   "pygments_lexer": "ipython3",
   "version": "3.6.3"
  }
 },
 "nbformat": 4,
 "nbformat_minor": 2
}
