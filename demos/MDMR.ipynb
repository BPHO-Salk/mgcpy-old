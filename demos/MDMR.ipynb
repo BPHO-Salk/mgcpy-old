{
 "cells": [
  {
   "cell_type": "code",
   "execution_count": 9,
   "metadata": {},
   "outputs": [
    {
     "ename": "ModuleNotFoundError",
     "evalue": "No module named 'mgcpy.independence_tests.utils.compute_distance_matrix'",
     "output_type": "error",
     "traceback": [
      "\u001b[0;31m---------------------------------------------------------------------------\u001b[0m",
      "\u001b[0;31mModuleNotFoundError\u001b[0m                       Traceback (most recent call last)",
      "\u001b[0;32m<ipython-input-9-766e0fd41c92>\u001b[0m in \u001b[0;36m<module>\u001b[0;34m\u001b[0m\n\u001b[1;32m      7\u001b[0m \u001b[0;32mimport\u001b[0m \u001b[0mnumpy\u001b[0m \u001b[0;32mas\u001b[0m \u001b[0mnp\u001b[0m\u001b[0;34m\u001b[0m\u001b[0;34m\u001b[0m\u001b[0m\n\u001b[1;32m      8\u001b[0m \u001b[0;32mfrom\u001b[0m \u001b[0mmgcpy\u001b[0m\u001b[0;34m.\u001b[0m\u001b[0mindependence_tests\u001b[0m\u001b[0;34m.\u001b[0m\u001b[0mmdmr\u001b[0m \u001b[0;32mimport\u001b[0m \u001b[0mMDMR\u001b[0m\u001b[0;34m\u001b[0m\u001b[0;34m\u001b[0m\u001b[0m\n\u001b[0;32m----> 9\u001b[0;31m \u001b[0;32mfrom\u001b[0m \u001b[0mmgcpy\u001b[0m\u001b[0;34m.\u001b[0m\u001b[0mindependence_tests\u001b[0m\u001b[0;34m.\u001b[0m\u001b[0mutils\u001b[0m\u001b[0;34m.\u001b[0m\u001b[0mcompute_distance_matrix\u001b[0m \u001b[0;32mimport\u001b[0m \u001b[0mcompute_distance_matrix\u001b[0m\u001b[0;34m\u001b[0m\u001b[0;34m\u001b[0m\u001b[0m\n\u001b[0m",
      "\u001b[0;31mModuleNotFoundError\u001b[0m: No module named 'mgcpy.independence_tests.utils.compute_distance_matrix'"
     ]
    }
   ],
   "source": [
    "# please comment out the next 4 lines when running on the docker, they are meant to fix the path on a personal computer\n",
    "import sys\n",
    "module_path = \"C:\\\\Users\\\\sunda\\\\Desktop\\\\AAA FA18 JHU\\\\NDD1\\\\gitscr\\\\mgcpy\"\n",
    "if module_path not in sys.path:\n",
    "    sys.path.append(module_path)\n",
    "    \n",
    "import numpy as np\n",
    "from mgcpy.independence_tests.mdmr import MDMR\n",
    "from mgcpy.independence_tests.utils.compute_distance_matrix import compute_distance_matrix"
   ]
  },
  {
   "cell_type": "code",
   "execution_count": 5,
   "metadata": {},
   "outputs": [
    {
     "ename": "NameError",
     "evalue": "name 'compute_distance_matrix' is not defined",
     "output_type": "error",
     "traceback": [
      "\u001b[0;31m---------------------------------------------------------------------------\u001b[0m",
      "\u001b[0;31mNameError\u001b[0m                                 Traceback (most recent call last)",
      "\u001b[0;32m<ipython-input-5-e11f5a377c8e>\u001b[0m in \u001b[0;36m<module>\u001b[0;34m\u001b[0m\n\u001b[1;32m      4\u001b[0m \u001b[0;34m\u001b[0m\u001b[0m\n\u001b[1;32m      5\u001b[0m \u001b[0;31m#statistic for all of data\u001b[0m\u001b[0;34m\u001b[0m\u001b[0;34m\u001b[0m\u001b[0;34m\u001b[0m\u001b[0m\n\u001b[0;32m----> 6\u001b[0;31m \u001b[0mmdmr\u001b[0m \u001b[0;34m=\u001b[0m \u001b[0mMDMR\u001b[0m\u001b[0;34m(\u001b[0m\u001b[0mcompute_distance_matrix\u001b[0m\u001b[0;34m)\u001b[0m\u001b[0;34m\u001b[0m\u001b[0;34m\u001b[0m\u001b[0m\n\u001b[0m\u001b[1;32m      7\u001b[0m \u001b[0ma\u001b[0m\u001b[0;34m,\u001b[0m \u001b[0m_\u001b[0m \u001b[0;34m=\u001b[0m \u001b[0mmdmr\u001b[0m\u001b[0;34m.\u001b[0m\u001b[0mtest_statistic\u001b[0m\u001b[0;34m(\u001b[0m\u001b[0mX\u001b[0m\u001b[0;34m,\u001b[0m \u001b[0mY\u001b[0m\u001b[0;34m)\u001b[0m\u001b[0;34m\u001b[0m\u001b[0;34m\u001b[0m\u001b[0m\n\u001b[1;32m      8\u001b[0m \u001b[0mprint\u001b[0m\u001b[0;34m(\u001b[0m\u001b[0;34m\"MDMR statistic for data from R MDMR implementation =\"\u001b[0m\u001b[0;34m,\u001b[0m\u001b[0ma\u001b[0m\u001b[0;34m)\u001b[0m\u001b[0;34m\u001b[0m\u001b[0;34m\u001b[0m\u001b[0m\n",
      "\u001b[0;31mNameError\u001b[0m: name 'compute_distance_matrix' is not defined"
     ]
    }
   ],
   "source": [
    "# data from R's implementation of MDMR\n",
    "X = np.genfromtxt('../mgcpy/independence_tests/unit_tests/mdmr/data/X_mdmr.csv', delimiter=\",\")\n",
    "Y = np.genfromtxt('../mgcpy/independence_tests/unit_tests/mdmr/data/Y_mdmr.csv', delimiter=\",\")\n",
    "\n",
    "#statistic for all of data\n",
    "mdmr = MDMR(compute_distance_matrix)\n",
    "a, _ = mdmr.test_statistic(X, Y)\n",
    "print(\"MDMR statistic for data from R MDMR implementation =\",a)"
   ]
  },
  {
   "cell_type": "code",
   "execution_count": 3,
   "metadata": {},
   "outputs": [
    {
     "name": "stdout",
     "output_type": "stream",
     "text": [
      "MDMR statistic for data from R MDMR implementation = [75.11630064]\n",
      "MDMR statistic for variable 1 of X = 10.399530443897767\n",
      "MDMR statistic for variable 2 of X = 4.122633123353008\n",
      "MDMR statistic for variable 3 of X = 11.31712736920715\n"
     ]
    }
   ],
   "source": [
    "#statistics for each variable of X individually\n",
    "a, indarray = mdmr.test_statistic(X, Y, individual=1)\n",
    "print(\"MDMR statistic for data from R MDMR implementation =\",a)\n",
    "print(\"MDMR statistic for variable 1 of X =\", indarray[0,1])\n",
    "print(\"MDMR statistic for variable 2 of X =\", indarray[1,1])\n",
    "print(\"MDMR statistic for variable 3 of X =\", indarray[2,1])"
   ]
  },
  {
   "cell_type": "code",
   "execution_count": 4,
   "metadata": {},
   "outputs": [
    {
     "name": "stdout",
     "output_type": "stream",
     "text": [
      "P-value for data from R MDMR implementation = 0.0\n"
     ]
    }
   ],
   "source": [
    "#p-value for all of the data\n",
    "b, _ = mdmr.p_value(X, Y)\n",
    "print(\"P-value for data from R MDMR implementation =\", b)"
   ]
  },
  {
   "cell_type": "code",
   "execution_count": 5,
   "metadata": {},
   "outputs": [
    {
     "name": "stdout",
     "output_type": "stream",
     "text": [
      "P-value for variable 1 of X = 0.0\n",
      "P-value for variable 2 of X = 0.0\n",
      "P-value for variable 3 of X = 0.0\n"
     ]
    }
   ],
   "source": [
    "# p-value for each varibles of X individually\n",
    "indarray = mdmr.ind_p_value(X, Y)\n",
    "print(\"P-value for variable 1 of X =\", indarray[0,2])\n",
    "print(\"P-value for variable 2 of X =\", indarray[1,2])\n",
    "print(\"P-value for variable 3 of X =\", indarray[2,2])"
   ]
  },
  {
   "cell_type": "code",
   "execution_count": 6,
   "metadata": {},
   "outputs": [],
   "source": [
    "from mgcpy.benchmarks import simulations as sims"
   ]
  },
  {
   "cell_type": "code",
   "execution_count": 7,
   "metadata": {},
   "outputs": [
    {
     "name": "stdout",
     "output_type": "stream",
     "text": [
      "MDMR statistic for linear data = [2449.37187623]\n",
      "P-value for linear data = 0.0\n"
     ]
    }
   ],
   "source": [
    "# Linear data\n",
    "X, Y = sims.linear_sim(num_samp=60, num_dim=1, noise=0.1)\n",
    "mdmr = MDMR(compute_distance_matrix)\n",
    "statistic, _ = mdmr.test_statistic(X,Y)\n",
    "pval, _ = mdmr.p_value(X,Y)\n",
    "print(\"MDMR statistic for linear data =\", statistic)\n",
    "print(\"P-value for linear data =\", pval)"
   ]
  },
  {
   "cell_type": "code",
   "execution_count": 10,
   "metadata": {},
   "outputs": [
    {
     "name": "stdout",
     "output_type": "stream",
     "text": [
      "MDMR statistic for spiral data = [2.96644128]\n",
      "P-value for spiral data = 0.093\n"
     ]
    },
    {
     "name": "stderr",
     "output_type": "stream",
     "text": [
      "C:\\Users\\sunda\\Downloads\\WPy-3662\\python-3.6.6.amd64\\lib\\site-packages\\mgcpy-0.0.3-py3.6-win-amd64.egg\\mgcpy\\independence_tests\\abstract_class.py:154: UserWarning: The p-value is greater than 0.05, implying that the results are not statistically significant.\n",
      "Use results such as test_statistic and optimal_scale, with caution!\n",
      "  \"Use results such as test_statistic and optimal_scale, with caution!\")\n"
     ]
    }
   ],
   "source": [
    "# Spiral data\n",
    "X, Y = sims.spiral_sim(num_samp=60, num_dim=1, noise=0.1)\n",
    "mdmr = MDMR(compute_distance_matrix)\n",
    "statistic, _ = mdmr.test_statistic(X,Y)\n",
    "pval, _ = mdmr.p_value(X,Y)\n",
    "print(\"MDMR statistic for spiral data =\", statistic)\n",
    "print(\"P-value for spiral data =\", pval)"
   ]
  },
  {
   "cell_type": "code",
   "execution_count": 11,
   "metadata": {},
   "outputs": [
    {
     "name": "stdout",
     "output_type": "stream",
     "text": [
      "MDMR statistic for logarithmic data = [0.01367779]\n",
      "P-value for logarithmic data = 0.903\n"
     ]
    },
    {
     "name": "stderr",
     "output_type": "stream",
     "text": [
      "C:\\Users\\sunda\\Downloads\\WPy-3662\\python-3.6.6.amd64\\lib\\site-packages\\mgcpy-0.0.3-py3.6-win-amd64.egg\\mgcpy\\independence_tests\\abstract_class.py:154: UserWarning: The p-value is greater than 0.05, implying that the results are not statistically significant.\n",
      "Use results such as test_statistic and optimal_scale, with caution!\n",
      "  \"Use results such as test_statistic and optimal_scale, with caution!\")\n"
     ]
    }
   ],
   "source": [
    "# Logarithmic data\n",
    "X, Y = sims.log_sim(num_samp=60, num_dim=1, noise=0.1)\n",
    "mdmr = MDMR(compute_distance_matrix)\n",
    "statistic, _ = mdmr.test_statistic(X,Y)\n",
    "pval, _ = mdmr.p_value(X,Y)\n",
    "print(\"MDMR statistic for logarithmic data =\", statistic)\n",
    "print(\"P-value for logarithmic data =\", pval)"
   ]
  },
  {
   "cell_type": "code",
   "execution_count": 12,
   "metadata": {},
   "outputs": [
    {
     "name": "stdout",
     "output_type": "stream",
     "text": [
      "MDMR statistic for step data = [142.75290107]\n",
      "P-value for step data = 0.0\n"
     ]
    }
   ],
   "source": [
    "# Step data\n",
    "X, Y = sims.step_sim(num_samp=60, num_dim=1, noise=0.1)\n",
    "mdmr = MDMR(compute_distance_matrix)\n",
    "statistic, _ = mdmr.test_statistic(X,Y)\n",
    "pval, _ = mdmr.p_value(X,Y)\n",
    "print(\"MDMR statistic for step data =\", statistic)\n",
    "print(\"P-value for step data =\", pval)"
   ]
  },
  {
   "cell_type": "code",
   "execution_count": 13,
   "metadata": {},
   "outputs": [
    {
     "name": "stdout",
     "output_type": "stream",
     "text": [
      "MDMR statistic for W data = [9.31000713e-05]\n",
      "P-value for W data = 0.993\n"
     ]
    },
    {
     "name": "stderr",
     "output_type": "stream",
     "text": [
      "C:\\Users\\sunda\\Downloads\\WPy-3662\\python-3.6.6.amd64\\lib\\site-packages\\mgcpy-0.0.3-py3.6-win-amd64.egg\\mgcpy\\independence_tests\\abstract_class.py:154: UserWarning: The p-value is greater than 0.05, implying that the results are not statistically significant.\n",
      "Use results such as test_statistic and optimal_scale, with caution!\n",
      "  \"Use results such as test_statistic and optimal_scale, with caution!\")\n"
     ]
    }
   ],
   "source": [
    "# W data\n",
    "X, Y = sims.w_sim(num_samp=60, num_dim=1, noise=0.1)\n",
    "mdmr = MDMR(compute_distance_matrix)\n",
    "statistic, _ = mdmr.test_statistic(X,Y)\n",
    "pval, _ = mdmr.p_value(X,Y)\n",
    "print(\"MDMR statistic for W data =\", statistic)\n",
    "print(\"P-value for W data =\", pval)"
   ]
  },
  {
   "cell_type": "code",
   "execution_count": null,
   "metadata": {},
   "outputs": [],
   "source": []
  }
 ],
 "metadata": {
  "kernelspec": {
   "display_name": "Python 3",
   "language": "python",
   "name": "python3"
  },
  "language_info": {
   "codemirror_mode": {
    "name": "ipython",
    "version": 3
   },
   "file_extension": ".py",
   "mimetype": "text/x-python",
   "name": "python",
   "nbconvert_exporter": "python",
   "pygments_lexer": "ipython3",
   "version": "3.6.7"
  }
 },
 "nbformat": 4,
 "nbformat_minor": 2
}
