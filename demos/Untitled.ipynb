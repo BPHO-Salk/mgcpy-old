{
 "cells": [
  {
   "cell_type": "code",
   "execution_count": null,
   "metadata": {},
   "outputs": [
    {
     "name": "stderr",
     "output_type": "stream",
     "text": [
      "/root/code/mgcpy/independence_tests/abstract_class.py:154: UserWarning: The p-value is greater than 0.05, implying that the results are not statistically significant.\n",
      "Use results such as test_statistic and optimal_scale, with caution!\n",
      "  \"Use results such as test_statistic and optimal_scale, with caution!\")\n"
     ]
    }
   ],
   "source": [
    "import numpy as np\n",
    "from mgcpy.independence_tests.mgc.mgc import MGC\n",
    "\n",
    "atlas = 'aal'\n",
    "X = np.load('Xintersect_c_aal.npy')\n",
    "Y = np.load('Yintersect_c_aal.npy')\n",
    "mgc = MGC()\n",
    "\n",
    "p_s_reg = np.zeros(3)\n",
    "p_s_fast = np.zeros(3)\n",
    "\n",
    "for i in range(3):\n",
    "    p_s_reg[i], _ = mgc.p_value(X, Y, is_fast=False)\n",
    "    p_s_fast[i], _ = mgc.p_value(X, Y, is_fast=True)"
   ]
  },
  {
   "cell_type": "code",
   "execution_count": null,
   "metadata": {},
   "outputs": [],
   "source": [
    "import matplotlib.pyplot as plt\n",
    "import seaborn as sns\n",
    "from matplotlib.patches import Rectangle\n",
    "\n",
    "sns.color_palette('Set1')\n",
    "sns.set(color_codes=True, style='white', context='talk', font_scale=1)"
   ]
  },
  {
   "cell_type": "code",
   "execution_count": null,
   "metadata": {},
   "outputs": [],
   "source": [
    "plt.semilogy(p_s_reg, lw=3, color='blue')\n",
    "plt.semilogy(p_s_fast, lw=3, color='red')\n",
    "plt.xticks(np.arange(10), ('1', '2', '3', '4', '5', '6', '7', '8', '9', '10'))\n",
    "plt.xlabel('Run Number')\n",
    "plt.ylabel('P-Value')\n",
    "plt.show()"
   ]
  },
  {
   "cell_type": "code",
   "execution_count": null,
   "metadata": {},
   "outputs": [],
   "source": []
  },
  {
   "cell_type": "code",
   "execution_count": null,
   "metadata": {},
   "outputs": [],
   "source": []
  }
 ],
 "metadata": {
  "kernelspec": {
   "display_name": "Python 3",
   "language": "python",
   "name": "python3"
  },
  "language_info": {
   "codemirror_mode": {
    "name": "ipython",
    "version": 3
   },
   "file_extension": ".py",
   "mimetype": "text/x-python",
   "name": "python",
   "nbconvert_exporter": "python",
   "pygments_lexer": "ipython3",
   "version": "3.6.7"
  }
 },
 "nbformat": 4,
 "nbformat_minor": 2
}
