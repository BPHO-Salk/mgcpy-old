{
 "cells": [
  {
   "cell_type": "markdown",
   "metadata": {},
   "source": [
    "# Time Series Demo: Cross-DCorr and MGC-TS\n",
    "In this notebook, we demonstrate the cross-distance correlation (`cdcv`) test and the multiscale graph correlation time series (`mgc_ts`) test for independence of time series."
   ]
  },
  {
   "cell_type": "code",
   "execution_count": 1,
   "metadata": {
    "collapsed": true
   },
   "outputs": [],
   "source": [
    "%matplotlib inline\n",
    "import numpy as np\n",
    "from scipy.stats import chi2\n",
    "import matplotlib.pyplot as plt\n",
    "import random\n",
    "\n",
    "from mgcpy.independence_tests.cdcv import CDCV\n",
    "from mgcpy.independence_tests.mgc_ts import MGC_TS"
   ]
  },
  {
   "cell_type": "markdown",
   "metadata": {},
   "source": [
    "**Function to compute and print CDCV nd MGC_TS output values, given X and Y:**"
   ]
  },
  {
   "cell_type": "code",
   "execution_count": 2,
   "metadata": {
    "collapsed": true
   },
   "outputs": [],
   "source": [
    "def compute_cdcv(X, Y, max_lag):\n",
    "    cdcv = CDCV(max_lag = max_lag, which_test = 'unbiased')\n",
    "    cdcv_statistic, metadata = cdcv.test_statistic(X, Y)\n",
    "    p_value, _ = cdcv.p_value(X, Y)\n",
    "    optimal_lag = metadata['optimal_lag']\n",
    "\n",
    "    print(\"CDCV test statistic:\", cdcv_statistic)\n",
    "    print(\"P Value:\", p_value)\n",
    "    print(\"Optimal Lag:\", optimal_lag)\n",
    "    return cdcv_statistic, p_value, optimal_lag\n",
    "\n",
    "def compute_mgc_ts(X, Y, max_lag, is_fast = False):\n",
    "    mgc_ts = MGC_TS(max_lag = max_lag)\n",
    "    mgc_ts_statistic, metadata = mgc_ts.test_statistic(X, Y, is_fast = is_fast)\n",
    "    p_value, _ = mgc_ts.p_value(X, Y, is_fast = is_fast)\n",
    "    optimal_lag = metadata['optimal_lag']\n",
    "    \n",
    "    print(\"MGC TS test statistic:\", mgc_ts_statistic)\n",
    "    print(\"P Value:\", p_value)\n",
    "    print(\"Optimal Lag:\", optimal_lag)\n",
    "    return mgc_ts_statistic, p_value"
   ]
  },
  {
   "cell_type": "markdown",
   "metadata": {},
   "source": [
    "**Example: simulate data `X` and `Y` in the form of `n`-by-`p` and `n`-by-`q` matrices respectively, where `n` is the sample size.** In the following cells, we simulate different time series processes and estimate the power of the test at varying choices of sample size. Additionally, we compare against the Ljung-Box test of correlation."
   ]
  },
  {
   "cell_type": "markdown",
   "metadata": {},
   "source": [
    "**Function to simulate time series.**"
   ]
  },
  {
   "cell_type": "code",
   "execution_count": 3,
   "metadata": {
    "collapsed": true
   },
   "outputs": [],
   "source": [
    "def indep_ar1(n, phi = 0.5, sigma2 = 1.0):\n",
    "    # X_t and Y_t are univarite AR(1) with phi = 0.5 for both.\n",
    "    # Innovations follow N(0, sigma2).\n",
    "    \n",
    "    # Innovations.\n",
    "    epsilons = np.random.normal(0.0, sigma2, n)\n",
    "    etas = np.random.normal(0.0, sigma2, n)\n",
    "    \n",
    "    X = np.zeros(n)\n",
    "    Y = np.zeros(n)\n",
    "    X[0] = epsilons[0]\n",
    "    Y[0] = etas[0]\n",
    "    \n",
    "    # AR(1) process.\n",
    "    for t in range(1,n):\n",
    "        X[t] = phi*X[t-1] + epsilons[t]\n",
    "        Y[t] = phi*Y[t-1] + etas[t]\n",
    "        \n",
    "    return X, Y"
   ]
  },
  {
   "cell_type": "code",
   "execution_count": 4,
   "metadata": {
    "collapsed": true
   },
   "outputs": [],
   "source": [
    "def lin_dep_ar1(n, phi = 0.5, sigma2 = 1.0):\n",
    "    # X_t and Y_t are together a bivarite AR(1) with Phi = [0 0.5; 0.5 0].\n",
    "    # Innovations follow N(0, sigma2).\n",
    "    \n",
    "    # Innovations.\n",
    "    epsilons = np.random.normal(0.0, sigma2, n)\n",
    "    etas = np.random.normal(0.0, sigma2, n)\n",
    "    \n",
    "    X = np.zeros(n)\n",
    "    Y = np.zeros(n)\n",
    "    X[0] = epsilons[0]\n",
    "    Y[0] = etas[0]\n",
    "    \n",
    "    # AR(1) process.\n",
    "    for t in range(1,n):\n",
    "        X[t] = phi*Y[t-1] + epsilons[t]\n",
    "        Y[t] = phi*X[t-1] + etas[t]\n",
    "        \n",
    "    return X, Y"
   ]
  },
  {
   "cell_type": "code",
   "execution_count": 5,
   "metadata": {
    "collapsed": true
   },
   "outputs": [],
   "source": [
    "def nonlin_dep_lag_m(n, m = 1, phi_m = 1, sigma2 = 0.5):\n",
    "    # X_t and Y_t are together a bivarite nonlinear process.\n",
    "    # Innovations follow N(0, sigma2).\n",
    "    \n",
    "    # Innovations.\n",
    "    epsilons = np.random.normal(0.0, sigma2, n)\n",
    "    etas = np.random.normal(0.0, sigma2, n)\n",
    "    \n",
    "    X = np.zeros(n)\n",
    "    Y = np.zeros(n)\n",
    "    for t in range(m):\n",
    "        Y[t] = etas[t]\n",
    "    \n",
    "    # AR(1) process.\n",
    "    for t in range(m,n):\n",
    "        X[t] = phi_m*epsilons[t]*Y[t-m]\n",
    "        Y[t] = etas[t]\n",
    "        \n",
    "    return X, Y"
   ]
  },
  {
   "cell_type": "markdown",
   "metadata": {},
   "source": [
    "**Function to run the Ljung-Box test of dependence using cross-correlations.**"
   ]
  },
  {
   "cell_type": "code",
   "execution_count": 6,
   "metadata": {
    "collapsed": true
   },
   "outputs": [],
   "source": [
    "class LJUNG_BOX():\n",
    "    def __init__(self, max_lag = 0):\n",
    "        self.max_lag = max_lag\n",
    "        self.test_stat = None\n",
    "    def test_statistic(self, X, Y):\n",
    "        n = len(X)\n",
    "        test_statistic = 0\n",
    "        for j in range(self.max_lag+1):\n",
    "                lead_X = X[j:n]\n",
    "                lag_Y = Y[0:(n-j)]\n",
    "                test_statistic += ((np.corrcoef(lead_X,lag_Y)[1,0])**2 / (n-j))\n",
    "        self.test_stat = test_statistic*n*(n+2)\n",
    "        metadata = {}\n",
    "        return self.test_stat, metadata\n",
    "    def p_value(self, X, Y, replication_factor = 100):\n",
    "        test_stat, metadata = self.test_statistic(X, Y)\n",
    "        pval = 1 - chi2.cdf(test_stat, df = self.max_lag+4)\n",
    "        metadata = {}\n",
    "        return pval,  metadata\n",
    "    def get_test_statistic(self):\n",
    "        return self.test_stat"
   ]
  },
  {
   "cell_type": "markdown",
   "metadata": {},
   "source": [
    "**Power as a function of `n` of the tests on each process.** Probability of correctly rejecting the null hypothesis that the time series are independent."
   ]
  },
  {
   "cell_type": "code",
   "execution_count": 7,
   "metadata": {
    "collapsed": true
   },
   "outputs": [],
   "source": [
    "def format_filename(s):\n",
    "    # Take title and format as filename.\n",
    "    filename = list(s.lower())\n",
    "    for i in range(len(filename)):\n",
    "        if filename[i] == \" \":\n",
    "            filename[i] = \"_\"\n",
    "    return(''.join(filename))"
   ]
  },
  {
   "cell_type": "code",
   "execution_count": 8,
   "metadata": {
    "collapsed": true
   },
   "outputs": [],
   "source": [
    "def power_curve(sample_sizes, powers, alpha, title):\n",
    "    fig, ax = plt.subplots()\n",
    "    plt.title(title)\n",
    "    plt.xlabel(\"n\")\n",
    "    plt.ylabel(\"Rejection Probability\")\n",
    "    \n",
    "    plt.plot(sample_sizes, powers['cdcv'], linestyle = '-', color = 'blue')\n",
    "    # plt.plot(sample_sizes, powers['lb'], linestyle = ':', color = 'red')\n",
    "    plt.plot(sample_sizes, powers['mgc_ts'], linestyle = '--', color = 'green')\n",
    "    ax.legend(['Cross-DCorr', 'MGC-TS'], loc = 'upper left') # Add back LB\n",
    "    \n",
    "    ax.axhline(y=alpha, color = 'black', linestyle = '--')\n",
    "    ax.axhline(y=1, color = 'black', linestyle = '--')\n",
    "    filename = \"power_curve_%s.png\" % format_filename(title)\n",
    "    plt.savefig(filename)\n",
    "    plt.show()"
   ]
  },
  {
   "cell_type": "markdown",
   "metadata": {},
   "source": [
    "**Optimal lag as a function of `n` of the tests on each process.** Probability of detecting the final lag at which there is dependence between the time series, i.e. the window of dependence."
   ]
  },
  {
   "cell_type": "code",
   "execution_count": 9,
   "metadata": {
    "collapsed": true
   },
   "outputs": [],
   "source": [
    "def optimal_lag_curve(sample_sizes, lag_probs, title):\n",
    "    fig, ax = plt.subplots()\n",
    "    plt.title(title)\n",
    "    plt.xlabel(\"n\")\n",
    "    plt.ylabel(\"Probability of Detecting Correct Lag\")\n",
    "    \n",
    "    plt.plot(sample_sizes, lag_probs['cdcv'], linestyle = '-', color = 'blue')\n",
    "    plt.plot(sample_sizes, lag_probs['mgc_ts'], linestyle = '--', color = 'green')\n",
    "    ax.legend(['Cross-DCorr', 'MGC-TS'], loc = 'upper left')\n",
    "    \n",
    "    ax.axhline(y=1, color = 'black', linestyle = '--')\n",
    "    filename = \"optimal_lag_%s.png\" % format_filename(title)\n",
    "    plt.savefig(filename)\n",
    "    plt.show()"
   ]
  },
  {
   "cell_type": "markdown",
   "metadata": {},
   "source": [
    "**Distribution of optimal lags for finite `n`.** The empirical distribution of the optimal lag returned by the test, visualized over the true Pearson's correlation of `X_t` and `Y_t` at each lag."
   ]
  },
  {
   "cell_type": "code",
   "execution_count": 10,
   "metadata": {
    "collapsed": true
   },
   "outputs": [],
   "source": [
    "def opt_lag_dist_stems(optimal_lags, true_correlations, title, color = 'powderblue'):\n",
    "    # True correlations at various lags.\n",
    "    j = range(true_correlations.shape[0])\n",
    "    markerline, stemlines, baseline = plt.stem(j, true_correlations, '-k')\n",
    "    plt.setp(baseline, 'color', 'k', 'linewidth', 1)\n",
    "    plt.setp(markerline, 'markerfacecolor', 'k')\n",
    "    plt.xlabel('Lag j')\n",
    "    plt.ylabel(\"Corr(X(t), Y(t-j)) / Freq. of Optimal Lag Estimates\")\n",
    "    \n",
    "    # Optimal lab predictions.\n",
    "    weights = np.ones_like(optimal_lags)/float(len(optimal_lags))\n",
    "    plt.hist(optimal_lags, \n",
    "             bins = np.arange(len(true_correlations))-0.5, \n",
    "             weights = weights, \n",
    "             align = 'mid',\n",
    "             edgecolor ='black',\n",
    "             color = color)\n",
    "    \n",
    "    filename = \"optimal_lag_dist_stems_%s.png\" % format_filename(title)\n",
    "    plt.title(title)\n",
    "    plt.savefig(filename)\n",
    "    plt.show()"
   ]
  },
  {
   "cell_type": "code",
   "execution_count": 11,
   "metadata": {
    "collapsed": true
   },
   "outputs": [],
   "source": [
    "def opt_lag_dist(optimal_lags, title, color = 'lightgreen'):\n",
    "    # True correlations at various lags.\n",
    "    plt.xlabel('Lag j')\n",
    "    plt.ylabel(\"Freq. of Optimal Lag Estimates\")\n",
    "    \n",
    "    # Optimal lab predictions.\n",
    "    weights = np.ones_like(optimal_lags)/float(len(optimal_lags))\n",
    "    plt.hist(optimal_lags, \n",
    "             bins = np.arange(len(true_correlations))-0.5, \n",
    "             weights = weights, \n",
    "             align = 'mid',\n",
    "             edgecolor ='black',\n",
    "             color = color)\n",
    "    \n",
    "    filename = \"optimal_lag_dist_%s.png\" % format_filename(title)\n",
    "    plt.title(title)\n",
    "    plt.savefig(filename)\n",
    "    plt.show()"
   ]
  },
  {
   "cell_type": "markdown",
   "metadata": {},
   "source": [
    "**Full experiment, simulating the above time series, and counting the rejections and optimal lag detections by each test (as a function of `n`).**"
   ]
  },
  {
   "cell_type": "code",
   "execution_count": 12,
   "metadata": {
    "collapsed": true
   },
   "outputs": [],
   "source": [
    "# Experimental parameters.\n",
    "sample_sizes  = range(10,60,10)\n",
    "num_sims      = 100\n",
    "num_bootstrap = 100\n",
    "alpha         = 0.05\n",
    "maxlag        = 1\n",
    "compute_pval  = True\n",
    "processes = {\n",
    "    'indep_ar1'  : { 'simulate': indep_ar1,  'name': \"Independent AR(1)\", 'true_lag': -1},\n",
    "    'lin_dep_ar1': { 'simulate': lin_dep_ar1,  'name': \"Correlated AR(1)\", 'true_lag': 1},\n",
    "    'nonlin_dep_lag_m' : { 'simulate': nonlin_dep_lag_m,  'name': \"Nonlinearly Dependent at Lag 1\", 'true_lag': 1}, \n",
    "}"
   ]
  },
  {
   "cell_type": "code",
   "execution_count": 13,
   "metadata": {},
   "outputs": [
    {
     "name": "stdout",
     "output_type": "stream",
     "text": [
      "Estimating power/lag detection prob. at n = 10....................................................................................................\n",
      "Estimating power/lag detection prob. at n = 20....................................................................................................\n",
      "Estimating power/lag detection prob. at n = 30....................................................................................................\n",
      "Estimating power/lag detection prob. at n = 40....................................................................................................\n",
      "Estimating power/lag detection prob. at n = 50....................................................................................................\n"
     ]
    },
    {
     "data": {
      "image/png": "[encoded data removed]",
      "text/plain": [
       "<matplotlib.figure.Figure at 0x21111eb7e10>"
      ]
     },
     "metadata": {},
     "output_type": "display_data"
    },
    {
     "data": {
      "image/png": "[encoded data removed]",
      "text/plain": [
       "<matplotlib.figure.Figure at 0x21113f18908>"
      ]
     },
     "metadata": {},
     "output_type": "display_data"
    }
   ],
   "source": [
    "# Initialize objects and holders.\n",
    "random.seed(123)\n",
    "cdcv      = CDCV(max_lag = maxlag)\n",
    "mgc_ts    = MGC_TS(max_lag = maxlag)\n",
    "lb        = LJUNG_BOX(max_lag = maxlag)\n",
    "tests     = {'cdcv': cdcv, 'mgc_ts': mgc_ts, 'lb': lb}\n",
    "powers    = {'cdcv': np.zeros(len(sample_sizes)), \n",
    "             'mgc_ts': np.zeros(len(sample_sizes)), \n",
    "             'lb': np.zeros(len(sample_sizes))}\n",
    "lag_probs = {'cdcv': np.zeros(len(sample_sizes)), \n",
    "             'mgc_ts': np.zeros(len(sample_sizes))}\n",
    "\n",
    "# Run experiments.\n",
    "for p in ['indep_ar1']:\n",
    "    process = processes[p]\n",
    "    simulate = process['simulate']\n",
    "    for i in range(len(sample_sizes)):\n",
    "        rejects  = {'cdcv': 0.0, 'mgc_ts': 0.0, 'lb': 0.0}\n",
    "        opt_lags = {'cdcv': np.zeros(num_sims), 'mgc_ts': np.zeros(num_sims)}\n",
    "        n = sample_sizes[i]\n",
    "        print(\"Estimating power/lag detection prob. at n =\", str(n), end = \"\")\n",
    "        \n",
    "        # Simulate time series and count rejections.\n",
    "        for t in range(num_sims):\n",
    "            print('.', end='')\n",
    "            X, Y = simulate(n)\n",
    "            \n",
    "            for r in ['cdcv', 'lb']: # add mgc_ts #################\n",
    "                test = tests[r]\n",
    "                if r is not 'lb':\n",
    "                    test_statistic, metadata = test.test_statistic(X, Y)\n",
    "                    detects = opt_lags[r]\n",
    "                    detects[t] = metadata['optimal_lag']\n",
    "                if compute_pval:\n",
    "                    p_value, _ = test.p_value(X, Y, replication_factor = num_bootstrap)\n",
    "                    if (p_value < alpha): rejects[r] += 1\n",
    "        for r in ['cdcv', 'lb']: # add mgc_ts #####################\n",
    "            power = powers[r]\n",
    "            power[i] = rejects[r]/num_sims\n",
    "            if r is not 'lb':\n",
    "                lag_prob = lag_probs[r]\n",
    "                lag_prob[i] = np.count_nonzero(opt_lags[r] == process['true_lag'])/num_sims\n",
    "        print(\"\")\n",
    "        \n",
    "    # Display power estimates and probility of detecting the correct lag.\n",
    "    if compute_pval:\n",
    "        power_curve(sample_sizes, powers, alpha, process['name'])\n",
    "    optimal_lag_curve(sample_sizes, lag_probs, process['name'])"
   ]
  },
  {
   "cell_type": "code",
   "execution_count": null,
   "metadata": {
    "collapsed": true
   },
   "outputs": [],
   "source": [
    "# Experimental parameters.\n",
    "sample_sizes  = range(10,185,25)\n",
    "num_sims      = 60\n",
    "num_bootstrap = 100\n",
    "alpha         = 0.05\n",
    "maxlag        = 1\n",
    "compute_pval  = True\n",
    "processes = {\n",
    "    'indep_ar1'  : { 'simulate': indep_ar1,  'name': \"Independent AR(1)\", 'true_lag': -1},\n",
    "    'lin_dep_ar1': { 'simulate': lin_dep_ar1,  'name': \"Correlated AR(1)\", 'true_lag': 1},\n",
    "    'nonlin_dep_lag_m' : { 'simulate': nonlin_dep_lag_m,  'name': \"Nonlinearly Dependent at Lag 1\", 'true_lag': 1}, \n",
    "}"
   ]
  },
  {
   "cell_type": "code",
   "execution_count": null,
   "metadata": {
    "collapsed": true
   },
   "outputs": [],
   "source": [
    "# Initialize objects and holders.\n",
    "cdcv      = CDCV(max_lag = maxlag)\n",
    "mgc_ts    = MGC_TS(max_lag = maxlag)\n",
    "lb        = LJUNG_BOX(max_lag = maxlag)\n",
    "tests     = {'cdcv': cdcv, 'mgc_ts': mgc_ts, 'lb': lb}\n",
    "powers    = {'cdcv': np.zeros(len(sample_sizes)), \n",
    "             'mgc_ts': np.zeros(len(sample_sizes)), \n",
    "             'lb': np.zeros(len(sample_sizes))}\n",
    "lag_probs = {'cdcv': np.zeros(len(sample_sizes)), \n",
    "             'mgc_ts': np.zeros(len(sample_sizes))}\n",
    "\n",
    "# Run experiments.\n",
    "for p in ['nonlin_dep_lag_m']:\n",
    "    process = processes[p]\n",
    "    simulate = process['simulate']\n",
    "    for i in range(len(sample_sizes)):\n",
    "        rejects  = {'cdcv': 0.0, 'mgc_ts': 0.0, 'lb': 0.0}\n",
    "        opt_lags = {'cdcv': np.zeros(num_sims), 'mgc_ts': np.zeros(num_sims)}\n",
    "        n = sample_sizes[i]\n",
    "        print(\"Estimating power/lag detection prob. at n =\", str(n), end = \"\")\n",
    "        \n",
    "        # Simulate time series and count rejections.\n",
    "        for t in range(num_sims):\n",
    "            print('.', end='')\n",
    "            X, Y = simulate(n)\n",
    "            \n",
    "            for r in ['cdcv', 'mgc_ts', 'lb']:\n",
    "                test = tests[r]\n",
    "                if r is not 'lb':\n",
    "                    test_statistic, metadata = test.test_statistic(X, Y)\n",
    "                    detects = opt_lags[r]\n",
    "                    detects[t] = metadata['optimal_lag']\n",
    "                if compute_pval:\n",
    "                    p_value, _ = test.p_value(X, Y, replication_factor = num_bootstrap)\n",
    "                    if (p_value < alpha): rejects[r] += 1\n",
    "        for r in ['cdcv', 'mgc_ts', 'lb']:\n",
    "            power = powers[r]\n",
    "            power[i] = rejects[r]/num_sims\n",
    "            if r is not 'lb':\n",
    "                lag_prob = lag_probs[r]\n",
    "                lag_prob[i] = np.count_nonzero(opt_lags[r] == process['true_lag'])/num_sims\n",
    "        print(\"\")\n",
    "        \n",
    "    # Display power estimates and probility of detecting the correct lag.\n",
    "    if compute_pval:\n",
    "        power_curve(sample_sizes, powers, alpha, process['name'])\n",
    "    optimal_lag_curve(sample_sizes, lag_probs, process['name'])"
   ]
  },
  {
   "cell_type": "markdown",
   "metadata": {},
   "source": [
    "**Analyzing the distribution of optimal lags returned by the tests.** We see how that the optimal lags returned by the test corresponds with the true dependence structure of the simulated time series."
   ]
  },
  {
   "cell_type": "code",
   "execution_count": null,
   "metadata": {
    "collapsed": true
   },
   "outputs": [],
   "source": [
    "def lin_dep_ar3(n, phi_1 = 0.5, phi_3 = 0.5, sigma2 = 1.0):\n",
    "    # X_t and Y_t are together a bivarite AR(3).\n",
    "    # Innovations follow N(0, sigma2).\n",
    "    \n",
    "    # Innovations.\n",
    "    epsilons = np.random.normal(0.0, sigma2, n)\n",
    "    etas = np.random.normal(0.0, sigma2, n)\n",
    "    \n",
    "    X = np.zeros(n)\n",
    "    Y = np.zeros(n)\n",
    "    for s in range(3):\n",
    "        X[s] = epsilons[s]\n",
    "        Y[s] = etas[s]\n",
    "    \n",
    "    # AR(1) process.\n",
    "    for t in range(3,n):\n",
    "        X[t] = phi_1*Y[t-1] + phi_3*Y[t-3] + epsilons[t]\n",
    "        Y[t] = phi_1*X[t-1] + phi_3*X[t-3] + etas[t]\n",
    "        \n",
    "    return X, Y"
   ]
  },
  {
   "cell_type": "code",
   "execution_count": null,
   "metadata": {
    "collapsed": true
   },
   "outputs": [],
   "source": [
    "# Correlated AR(3)\n",
    "phi_1 = 0.8\n",
    "phi_3 = 0.1\n",
    "sigma2 = 1.0\n",
    "M = 10\n",
    "num_sims = 100\n",
    "\n",
    "# Determine true correlations.\n",
    "rho_XY = np.zeros(M+1)\n",
    "rho_X = np.zeros(M+1)\n",
    "rho_X[0] = 1\n",
    "rho_XY[1] = phi_1 / (1 - phi_3*(phi_1 + phi_3))\n",
    "rho_X[2] = (phi_1 + phi_3)*rho_XY[1]\n",
    "for j in range(3, M+1):\n",
    "    if j%2:\n",
    "        rho_XY[j] = phi_1*rho_X[j-1] + phi_3*rho_X[j-3]\n",
    "    else:\n",
    "        rho_X[j] = phi_1*rho_XY[j-1] + phi_3*rho_XY[j-3]\n",
    "\n",
    "cdcv = CDCV(max_lag = M)\n",
    "mgc_ts = MGC_TS(max_lag = M)\n",
    "true_correlations = rho_XY\n",
    "optimal_lags_cdcv = np.zeros(num_sims)\n",
    "optimal_lags_mgc_ts = np.zeros(num_sims)\n",
    "\n",
    "# Run experiments.\n",
    "for n in [15, 30, 60]:\n",
    "    for t in range(num_sims):\n",
    "        X, Y = lin_dep_ar3(n, phi_1 = phi_1, phi_3 = phi_3, sigma2 = sigma2)\n",
    "        # test_statistic, metadata = cdcv.test_statistic(X, Y)\n",
    "        # optimal_lags_cdcv[t] = metadata['optimal_lag']\n",
    "        test_statistic, metadata = mgc_ts.test_statistic(X, Y)\n",
    "        optimal_lags_mgc_ts[t] = metadata['optimal_lag']\n",
    "    # title_cdcv = \"Cross-Dcorr, Crosscorrelated AR(3), n = %d\" % n\n",
    "    title_mgc_ts = \"MGC-TS, Crosscorrelated AR(3), n = %d\" % n\n",
    "    # opt_lag_dist_stems(optimal_lags_cdcv, true_correlations, title = title_cdcv, color = 'powderblue')\n",
    "    opt_lag_dist_stems(optimal_lags_mgc_ts, true_correlations, title = title_mgc_ts, color = 'lightgreen')"
   ]
  },
  {
   "cell_type": "markdown",
   "metadata": {},
   "source": [
    "**Simulate a nonlinear process, estimate the Cross Distance Correlation Function, and show that the optimal lag is correct for large n.**"
   ]
  },
  {
   "cell_type": "code",
   "execution_count": null,
   "metadata": {
    "collapsed": true
   },
   "outputs": [],
   "source": [
    "sigma2 = 1.0\n",
    "M = 10\n",
    "m = 3\n",
    "num_sims = 100\n",
    "\n",
    "cdcv = CDCV(max_lag = M)\n",
    "mgc_ts = MGC_TS(max_lag = M)\n",
    "optimal_lags_cdcv = np.zeros(num_sims)\n",
    "optimal_lags_mgc_ts = np.zeros(num_sims)\n",
    "\n",
    "# Run experiments.\n",
    "for n in [25, 50, 100]:\n",
    "    for t in range(num_sims):\n",
    "        X, Y = nonlin_dep_lag_m(n, m, phi_m = 0.8, sigma2 = 1.0)\n",
    "        # test_statistic, metadata = cdcv.test_statistic(X, Y)\n",
    "        # optimal_lags_cdcv[t] = metadata['optimal_lag']\n",
    "        test_statistic, metadata = mgc_ts.test_statistic(X, Y)\n",
    "        optimal_lags_mgc_ts[t] = metadata['optimal_lag']\n",
    "    # title_cdcv = \"Cross-Dcorr, Nonlinearly Dependent at Lag 3, n = %d\" % n\n",
    "    title_mgc_ts = \"MGC-TS, Nonlinearly Dependent at Lag 3, n = %d\" % n\n",
    "    # opt_lag_dist(optimal_lags_cdcv, title = title_cdcv, color = 'powderblue')\n",
    "    opt_lag_dist(optimal_lags_mgc_ts, title = title_mgc_ts, color = 'lightgreen')"
   ]
  },
  {
   "cell_type": "code",
   "execution_count": null,
   "metadata": {
    "collapsed": true
   },
   "outputs": [],
   "source": []
  }
 ],
 "metadata": {
  "kernelspec": {
   "display_name": "Python 3",
   "language": "python",
   "name": "python3"
  },
  "language_info": {
   "codemirror_mode": {
    "name": "ipython",
    "version": 3
   },
   "file_extension": ".py",
   "mimetype": "text/x-python",
   "name": "python",
   "nbconvert_exporter": "python",
   "pygments_lexer": "ipython3",
   "version": "3.6.3"
  }
 },
 "nbformat": 4,
 "nbformat_minor": 2
}
