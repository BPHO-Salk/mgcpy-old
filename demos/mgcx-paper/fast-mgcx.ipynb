{
 "cells": [
  {
   "cell_type": "code",
   "execution_count": 1,
   "metadata": {},
   "outputs": [],
   "source": [
    "%matplotlib inline\n",
    "import matplotlib.pyplot as plt\n",
    "import numpy as np\n",
    "import random\n",
    "from joblib import Parallel, delayed\n",
    "\n",
    "from mgcpy.independence_tests.dcorrx import DCorrX\n",
    "from mgcpy.independence_tests.mgcx import MGCX\n",
    "from mgcpy.benchmarks.ts_benchmarks import IndependentAR1, CorrelatedAR1, NonlinearLag1"
   ]
  },
  {
   "cell_type": "code",
   "execution_count": 2,
   "metadata": {},
   "outputs": [],
   "source": [
    "# Plotting univariate time series.\n",
    "\n",
    "def plot_1d_ts(X, Y, title, xlab = \"X_t\", ylab = \"Y_t\"):\n",
    "    n = X.shape[0]\n",
    "    t = range(1, n + 1)\n",
    "\n",
    "    fig, (ax1, ax2) = plt.subplots(1, 2, figsize=(15,7.5))\n",
    "    fig.suptitle(title)\n",
    "    plt.rcParams.update({'font.size': 15})\n",
    "\n",
    "    ax1.plot(t, X)\n",
    "    ax1.plot(t, Y)\n",
    "    ax1.legend(['X_t', 'Y_t'], loc = 'upper left', prop={'size': 12})\n",
    "    ax1.set_xlabel(\"t\")\n",
    "\n",
    "    ax2.scatter(X,Y, color=\"black\")\n",
    "    ax2.set_ylabel(ylab)\n",
    "    ax2.set_xlabel(xlab)\n",
    "\n",
    "# Power computation functions.\n",
    "\n",
    "def power_curve(tests, process, num_sims, alpha, sample_size, verbose = False):\n",
    "    \"\"\"\n",
    "    Method to generate power curves for time series.\n",
    "\n",
    "    :param tests: An array-like object containing TimeSeriesIndependenceTest objects.\n",
    "    :type tests: 1-D array-like\n",
    "\n",
    "    :param process: A TimeSeriesProcess object for which to profile the test.\n",
    "    :type process: TimeSeriesProcess\n",
    "\n",
    "    :param num_sims: number of simulation at each sample size.\n",
    "    :type num_sims: integer\n",
    "\n",
    "    :param alpha: significance level.\n",
    "    :type alpha: float\n",
    "\n",
    "    :param verbose: whether to display output.\n",
    "    :type verbose: boolean\n",
    "\n",
    "    :param sample_sizes: range of sample sizes for which to estimate power.\n",
    "    :type sample_sizes: 1-D array-like\n",
    "    \"\"\"\n",
    "    # Store simulate processes.\n",
    "    n_full = sample_sizes[len(sample_sizes) - 1]\n",
    "    X_full = np.zeros((n_full, num_sims))\n",
    "    Y_full = np.zeros((n_full, num_sims))\n",
    "    for s in range(num_sims):\n",
    "        X_full[:, s], Y_full[:, s] = process.simulate(n_full)\n",
    "\n",
    "    for test in tests:\n",
    "        powers = np.zeros(len(sample_sizes))\n",
    "        for i in range(len(sample_sizes)):\n",
    "            n = sample_sizes[i]\n",
    "            if verbose: print(\"Estimating power at sample size: %d\" % n)\n",
    "            powers[i] = _compute_power(test, X_full, Y_full, num_sims, alpha, n)\n",
    "        test['powers'] = powers\n",
    "\n",
    "    # Display.\n",
    "    _plot_power(tests, sample_sizes, alpha, process)\n",
    "\n",
    "def _compute_power(test, X_full, Y_full, num_sims, alpha, n):\n",
    "    \"\"\"\n",
    "    Helper method estimate power of a test on a given simulation.\n",
    "\n",
    "    :param test: Test to profile, either DCorrX or MGCX.\n",
    "    :type test: TimeSeriesIndependenceTest\n",
    "\n",
    "    :param X_full: An ``[n*num_sims]`` data matrix where ``n`` is the highest sample size.\n",
    "    :type X_full: 2D ``numpy.array``\n",
    "\n",
    "    :param Y_full: An ``[n*num_sims]`` data matrix where ``n`` is the highest sample size.\n",
    "    :type Y_full: 2D ``numpy.array``\n",
    "\n",
    "    :param num_sims: number of simulation at each sample size.\n",
    "    :type num_sims: integer\n",
    "\n",
    "    :param alpha: significance level.\n",
    "    :type alpha: float\n",
    "\n",
    "    :param n: sample size.\n",
    "    :type n: integer\n",
    "\n",
    "    :return: returns the estimated power.\n",
    "    :rtype: float\n",
    "    \"\"\"\n",
    "    num_rejects = 0.0\n",
    "\n",
    "    def worker(s):\n",
    "        X = X_full[range(n), s]\n",
    "        Y = Y_full[range(n), s]\n",
    "\n",
    "        p_value, _ = test['object'].p_value(X, Y, is_fast = test['is_fast'], subsample_size = test['subsample_size'])\n",
    "        if p_value <= alpha:\n",
    "            return 1\n",
    "\n",
    "        return 0\n",
    "\n",
    "    num_rejects = np.sum(Parallel(n_jobs=-2, verbose=10)(delayed(worker)(s) for s in range(num_sims)))\n",
    "\n",
    "    return num_rejects / num_sims\n",
    "\n",
    "def _plot_power(tests, sample_sizes, alpha, process):\n",
    "    \"\"\"\n",
    "    Helper method to generate power curves for time series.\n",
    "\n",
    "    :param tests: An array-like object containing TimeSeriesIndependenceTest objects.\n",
    "    :type tests: 1-D array-like\n",
    "\n",
    "    :param sample_sizes: range of sample sizes for which to estimate power.\n",
    "    :type sample_sizes: 1-D array-like\n",
    "\n",
    "    :param alpha: significance level.\n",
    "    :type alpha: float\n",
    "\n",
    "    :param process: A TimeSeriesProcess object for which to profile the test.\n",
    "    :type process: TimeSeriesProcess\n",
    "    \"\"\"\n",
    "    plt.rcParams.update({'font.size': 15})\n",
    "    fig, ax = plt.subplots()\n",
    "    plt.title(process.name)\n",
    "    plt.xlabel(\"n\")\n",
    "    plt.ylabel(\"Rejection Probability\")\n",
    "    plt.ylim((-0.05, 1.05))\n",
    "\n",
    "    for test in tests:\n",
    "        plt.plot(sample_sizes, test['powers'], linestyle = '-', color = test['color'])\n",
    "    ax.legend([test['name'] for test in tests], loc = 'upper left', prop={'size': 12})\n",
    "\n",
    "    ax.axhline(y = alpha, color = 'black', linestyle = '--')\n",
    "    plt.show()"
   ]
  },
  {
   "cell_type": "markdown",
   "metadata": {},
   "source": [
    "Simple test that everything works."
   ]
  },
  {
   "cell_type": "code",
   "execution_count": 3,
   "metadata": {},
   "outputs": [
    {
     "name": "stdout",
     "output_type": "stream",
     "text": [
      "The p_value for DCorrX is: 0.875893\n",
      "The p_value for MGCX is: 0.875893\n"
     ]
    }
   ],
   "source": [
    "n = 40\n",
    "X = np.random.normal(0.0, 1.0, n).reshape(n,1)\n",
    "Y = np.random.normal(0.0, 1.0, n).reshape(n,1)\n",
    "\n",
    "max_lag = 0\n",
    "\n",
    "dcorrx = DCorrX(max_lag = max_lag)\n",
    "p_value, dcorrx_metadata = dcorrx.p_value(X, Y, is_fast = True)\n",
    "print(\"The p_value for DCorrX is: %f\" % p_value)\n",
    "\n",
    "mgcx = MGCX(max_lag = max_lag)\n",
    "p_value, mgcx_metadata = mgcx.p_value(X, Y, is_fast = True)\n",
    "print(\"The p_value for MGCX is: %f\" % p_value)"
   ]
  },
  {
   "cell_type": "code",
   "execution_count": 4,
   "metadata": {},
   "outputs": [
    {
     "data": {
      "text/plain": [
       "(array([3., 0., 0., 0., 0., 0., 0., 0., 0., 1.]),\n",
       " array([0.        , 0.0007574 , 0.0015148 , 0.0022722 , 0.00302959,\n",
       "        0.00378699, 0.00454439, 0.00530179, 0.00605919, 0.00681659,\n",
       "        0.00757399]),\n",
       " <a list of 10 Patch objects>)"
      ]
     },
     "execution_count": 4,
     "metadata": {},
     "output_type": "execute_result"
    },
    {
     "data": {
      "image/png": "[encoded data removed]",
      "text/plain": [
       "<Figure size 432x288 with 1 Axes>"
      ]
     },
     "metadata": {
      "needs_background": "light"
     },
     "output_type": "display_data"
    }
   ],
   "source": [
    "null_dist = mgcx_metadata['null_distribution']\n",
    "plt.hist(null_dist)"
   ]
  },
  {
   "cell_type": "markdown",
   "metadata": {},
   "source": [
    "Experiments."
   ]
  },
  {
   "cell_type": "code",
   "execution_count": 15,
   "metadata": {},
   "outputs": [],
   "source": [
    "max_lag = 1\n",
    "num_sims = 35\n",
    "alpha = 0.05\n",
    "sample_sizes = range(50, 100, 10)\n",
    "\n",
    "dcorrx = DCorrX(max_lag = max_lag)\n",
    "mgcx = MGCX(max_lag = max_lag)\n",
    "\n",
    "tests = [\n",
    "    {\n",
    "        'name' : 'DCorr-X',\n",
    "        'filename' : 'dcorrx',\n",
    "        'is_fast' : False,\n",
    "        'subsample_size' : -1,\n",
    "        'object' : dcorrx,\n",
    "        'color' : 'red',\n",
    "    },\n",
    "    {\n",
    "        'name' : 'Fast DCorr-X',\n",
    "        'filename' : 'fast_dcorrx',\n",
    "        'is_fast' : True,\n",
    "        'subsample_size' : 10,\n",
    "        'object' : dcorrx,\n",
    "        'color' : 'blue',\n",
    "    },\n",
    "#     {\n",
    "#         'name' : 'MGC-X',\n",
    "#         'filename' : 'mgcx',\n",
    "#         'is_fast' : False,\n",
    "#         'object' : mgcx,\n",
    "#         'color' : 'orange',\n",
    "#     },\n",
    "#     {\n",
    "#         'name' : 'Fast MGC-X',\n",
    "#         'filename' : 'fast_mgcx',\n",
    "#         'is_fast' : True,\n",
    "#         'object' : mgcx,\n",
    "#         'color' : 'green',\n",
    "#     },\n",
    "]"
   ]
  },
  {
   "cell_type": "code",
   "execution_count": null,
   "metadata": {
    "scrolled": true
   },
   "outputs": [
    {
     "name": "stderr",
     "output_type": "stream",
     "text": [
      "[Parallel(n_jobs=-2)]: Using backend LokyBackend with 7 concurrent workers.\n",
      "[Parallel(n_jobs=-2)]: Done   4 tasks      | elapsed:    2.1s\n",
      "[Parallel(n_jobs=-2)]: Done  11 tasks      | elapsed:    4.1s\n",
      "[Parallel(n_jobs=-2)]: Done  18 tasks      | elapsed:    6.1s\n",
      "[Parallel(n_jobs=-2)]: Done  26 out of  35 | elapsed:    8.3s remaining:    2.9s\n",
      "[Parallel(n_jobs=-2)]: Done  30 out of  35 | elapsed:   10.6s remaining:    1.8s\n",
      "[Parallel(n_jobs=-2)]: Done  35 out of  35 | elapsed:   11.0s finished\n",
      "[Parallel(n_jobs=-2)]: Using backend LokyBackend with 7 concurrent workers.\n",
      "[Parallel(n_jobs=-2)]: Done   4 tasks      | elapsed:    2.5s\n",
      "[Parallel(n_jobs=-2)]: Done  11 tasks      | elapsed:    5.1s\n",
      "[Parallel(n_jobs=-2)]: Done  18 tasks      | elapsed:    7.8s\n",
      "[Parallel(n_jobs=-2)]: Done  26 out of  35 | elapsed:   10.4s remaining:    3.6s\n",
      "[Parallel(n_jobs=-2)]: Done  30 out of  35 | elapsed:   13.2s remaining:    2.2s\n",
      "[Parallel(n_jobs=-2)]: Done  35 out of  35 | elapsed:   13.4s finished\n",
      "[Parallel(n_jobs=-2)]: Using backend LokyBackend with 7 concurrent workers.\n",
      "[Parallel(n_jobs=-2)]: Done   4 tasks      | elapsed:    2.9s\n",
      "[Parallel(n_jobs=-2)]: Done  11 tasks      | elapsed:    5.7s\n",
      "[Parallel(n_jobs=-2)]: Done  18 tasks      | elapsed:    8.8s\n",
      "[Parallel(n_jobs=-2)]: Done  26 out of  35 | elapsed:   12.0s remaining:    4.2s\n",
      "[Parallel(n_jobs=-2)]: Done  30 out of  35 | elapsed:   15.1s remaining:    2.5s\n",
      "[Parallel(n_jobs=-2)]: Done  35 out of  35 | elapsed:   15.4s finished\n",
      "[Parallel(n_jobs=-2)]: Using backend LokyBackend with 7 concurrent workers.\n",
      "[Parallel(n_jobs=-2)]: Done   4 tasks      | elapsed:    3.5s\n",
      "[Parallel(n_jobs=-2)]: Done  11 tasks      | elapsed:    7.1s\n",
      "[Parallel(n_jobs=-2)]: Done  18 tasks      | elapsed:   10.6s\n",
      "[Parallel(n_jobs=-2)]: Done  26 out of  35 | elapsed:   14.1s remaining:    4.9s\n",
      "[Parallel(n_jobs=-2)]: Done  30 out of  35 | elapsed:   17.3s remaining:    2.9s\n",
      "[Parallel(n_jobs=-2)]: Done  35 out of  35 | elapsed:   17.5s finished\n",
      "[Parallel(n_jobs=-2)]: Using backend LokyBackend with 7 concurrent workers.\n",
      "[Parallel(n_jobs=-2)]: Done   4 tasks      | elapsed:    3.7s\n"
     ]
    }
   ],
   "source": [
    "process = IndependentAR1()\n",
    "power_curve(tests, process, num_sims, alpha, sample_sizes)"
   ]
  },
  {
   "cell_type": "code",
   "execution_count": null,
   "metadata": {},
   "outputs": [],
   "source": []
  }
 ],
 "metadata": {
  "kernelspec": {
   "display_name": "Python 3",
   "language": "python",
   "name": "python3"
  },
  "language_info": {
   "codemirror_mode": {
    "name": "ipython",
    "version": 3
   },
   "file_extension": ".py",
   "mimetype": "text/x-python",
   "name": "python",
   "nbconvert_exporter": "python",
   "pygments_lexer": "ipython3",
   "version": "3.7.4"
  }
 },
 "nbformat": 4,
 "nbformat_minor": 2
}
