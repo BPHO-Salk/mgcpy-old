{
 "cells": [
  {
   "cell_type": "code",
   "execution_count": 1,
   "metadata": {},
   "outputs": [],
   "source": [
    "%matplotlib inline\n",
    "import matplotlib.pyplot as plt\n",
    "import numpy as np\n",
    "import random\n",
    "\n",
    "from mgcpy.independence_tests.dcorrx import DCorrX\n",
    "from mgcpy.independence_tests.mgcx import MGCX\n",
    "from mgcpy.benchmarks.ts_benchmarks import IndependentAR1, CorrelatedAR1, NonlinearLag1, power_curve"
   ]
  },
  {
   "cell_type": "markdown",
   "metadata": {},
   "source": [
    "Simple test that everything works."
   ]
  },
  {
   "cell_type": "code",
   "execution_count": 2,
   "metadata": {},
   "outputs": [
    {
     "name": "stdout",
     "output_type": "stream",
     "text": [
      "The p_value for DCorrX is: 0.181000\n",
      "The p_value for MGCX is: 0.173000\n"
     ]
    }
   ],
   "source": [
    "n = 40\n",
    "X = np.random.normal(0.0, 1.0, n).reshape(n,1)\n",
    "Y = np.random.normal(0.0, 1.0, n).reshape(n,1)\n",
    "\n",
    "max_lag = 0\n",
    "\n",
    "dcorrx = DCorrX(max_lag = max_lag)\n",
    "p_value, dcorrx_metadata = dcorrx.p_value(X, Y, is_fast = False)\n",
    "print(\"The p_value for DCorrX is: %f\" % p_value)\n",
    "\n",
    "mgcx = MGCX(max_lag = max_lag)\n",
    "p_value, mgcx_metadata = mgcx.p_value(X, Y, is_fast = False)\n",
    "print(\"The p_value for MGCX is: %f\" % p_value)"
   ]
  },
  {
   "cell_type": "code",
   "execution_count": 3,
   "metadata": {},
   "outputs": [
    {
     "data": {
      "text/plain": [
       "(array([839.,  74.,  41.,   4.,   4.,  14.,  13.,   6.,   3.,   2.]),\n",
       " array([0.        , 0.02662059, 0.05324118, 0.07986177, 0.10648236,\n",
       "        0.13310294, 0.15972353, 0.18634412, 0.21296471, 0.2395853 ,\n",
       "        0.26620589]),\n",
       " <a list of 10 Patch objects>)"
      ]
     },
     "execution_count": 3,
     "metadata": {},
     "output_type": "execute_result"
    },
    {
     "data": {
      "image/png": "[encoded data removed]",
      "text/plain": [
       "<Figure size 432x288 with 1 Axes>"
      ]
     },
     "metadata": {
      "needs_background": "light"
     },
     "output_type": "display_data"
    }
   ],
   "source": [
    "null_dist = mgcx_metadata['null_distribution']\n",
    "plt.hist(null_dist)"
   ]
  },
  {
   "cell_type": "markdown",
   "metadata": {},
   "source": [
    "Experiments."
   ]
  },
  {
   "cell_type": "code",
   "execution_count": 4,
   "metadata": {},
   "outputs": [],
   "source": [
    "max_lag = 1\n",
    "num_sims = 40\n",
    "alpha = 0.05\n",
    "sample_sizes = range(20, 110, 10)\n",
    "\n",
    "dcorrx = DCorrX(max_lag = max_lag)\n",
    "mgcx = MGCX(max_lag = max_lag)\n",
    "\n",
    "tests = [\n",
    "    {\n",
    "        'name' : 'DCorr-X',\n",
    "        'filename' : 'dcorrx',\n",
    "        'is_fast' : False,\n",
    "        'object' : dcorrx,\n",
    "        'color' : 'red',\n",
    "    },\n",
    "    {\n",
    "        'name' : 'Fast DCorr-X',\n",
    "        'filename' : 'fast_dcorrx',\n",
    "        'is_fast' : True,\n",
    "        'object' : dcorrx,\n",
    "        'color' : 'blue',\n",
    "    },\n",
    "#     {\n",
    "#         'name' : 'MGC-X',\n",
    "#         'filename' : 'mgcx',\n",
    "#         'is_fast' : False,\n",
    "#         'object' : mgcx,\n",
    "#         'color' : 'orange',\n",
    "#     },\n",
    "#     {\n",
    "#         'name' : 'Fast MGC-X',\n",
    "#         'filename' : 'fast_mgcx',\n",
    "#         'is_fast' : True,\n",
    "#         'object' : mgcx,\n",
    "#         'color' : 'green',\n",
    "#     },\n",
    "]"
   ]
  },
  {
   "cell_type": "code",
   "execution_count": 5,
   "metadata": {},
   "outputs": [
    {
     "name": "stderr",
     "output_type": "stream",
     "text": [
      "[Parallel(n_jobs=-2)]: Using backend LokyBackend with 7 concurrent workers.\n",
      "[Parallel(n_jobs=-2)]: Done   4 tasks      | elapsed:    1.4s\n",
      "[Parallel(n_jobs=-2)]: Done  11 tasks      | elapsed:    2.7s\n",
      "[Parallel(n_jobs=-2)]: Done  18 tasks      | elapsed:    4.0s\n",
      "[Parallel(n_jobs=-2)]: Done  27 tasks      | elapsed:    5.4s\n",
      "[Parallel(n_jobs=-2)]: Done  32 out of  40 | elapsed:    6.7s remaining:    1.7s\n",
      "[Parallel(n_jobs=-2)]: Done  37 out of  40 | elapsed:    7.6s remaining:    0.6s\n",
      "[Parallel(n_jobs=-2)]: Done  40 out of  40 | elapsed:    7.9s finished\n",
      "[Parallel(n_jobs=-2)]: Using backend LokyBackend with 7 concurrent workers.\n",
      "[Parallel(n_jobs=-2)]: Done   4 tasks      | elapsed:    1.9s\n",
      "[Parallel(n_jobs=-2)]: Done  11 tasks      | elapsed:    3.7s\n",
      "[Parallel(n_jobs=-2)]: Done  18 tasks      | elapsed:    5.6s\n",
      "[Parallel(n_jobs=-2)]: Done  27 tasks      | elapsed:    7.4s\n",
      "[Parallel(n_jobs=-2)]: Done  32 out of  40 | elapsed:    9.1s remaining:    2.3s\n",
      "[Parallel(n_jobs=-2)]: Done  37 out of  40 | elapsed:   10.9s remaining:    0.9s\n",
      "[Parallel(n_jobs=-2)]: Done  40 out of  40 | elapsed:   11.0s finished\n",
      "[Parallel(n_jobs=-2)]: Using backend LokyBackend with 7 concurrent workers.\n",
      "[Parallel(n_jobs=-2)]: Done   4 tasks      | elapsed:    2.0s\n",
      "[Parallel(n_jobs=-2)]: Done  11 tasks      | elapsed:    3.9s\n",
      "[Parallel(n_jobs=-2)]: Done  18 tasks      | elapsed:    5.9s\n",
      "[Parallel(n_jobs=-2)]: Done  27 tasks      | elapsed:    8.0s\n",
      "[Parallel(n_jobs=-2)]: Done  32 out of  40 | elapsed:    9.9s remaining:    2.5s\n",
      "[Parallel(n_jobs=-2)]: Done  37 out of  40 | elapsed:   11.8s remaining:    1.0s\n",
      "[Parallel(n_jobs=-2)]: Done  40 out of  40 | elapsed:   11.8s finished\n",
      "[Parallel(n_jobs=-2)]: Using backend LokyBackend with 7 concurrent workers.\n",
      "[Parallel(n_jobs=-2)]: Done   4 tasks      | elapsed:    2.3s\n",
      "[Parallel(n_jobs=-2)]: Done  11 tasks      | elapsed:    4.6s\n",
      "[Parallel(n_jobs=-2)]: Done  18 tasks      | elapsed:    6.9s\n",
      "[Parallel(n_jobs=-2)]: Done  27 tasks      | elapsed:    9.2s\n",
      "[Parallel(n_jobs=-2)]: Done  32 out of  40 | elapsed:   11.6s remaining:    2.9s\n",
      "[Parallel(n_jobs=-2)]: Done  37 out of  40 | elapsed:   13.8s remaining:    1.1s\n",
      "[Parallel(n_jobs=-2)]: Done  40 out of  40 | elapsed:   13.8s finished\n",
      "[Parallel(n_jobs=-2)]: Using backend LokyBackend with 7 concurrent workers.\n",
      "[Parallel(n_jobs=-2)]: Done   4 tasks      | elapsed:    2.5s\n",
      "[Parallel(n_jobs=-2)]: Done  11 tasks      | elapsed:    5.2s\n",
      "[Parallel(n_jobs=-2)]: Done  18 tasks      | elapsed:    7.7s\n",
      "[Parallel(n_jobs=-2)]: Done  27 tasks      | elapsed:   10.5s\n",
      "[Parallel(n_jobs=-2)]: Done  32 out of  40 | elapsed:   13.1s remaining:    3.3s\n",
      "[Parallel(n_jobs=-2)]: Done  37 out of  40 | elapsed:   15.5s remaining:    1.3s\n",
      "[Parallel(n_jobs=-2)]: Done  40 out of  40 | elapsed:   15.6s finished\n",
      "[Parallel(n_jobs=-2)]: Using backend LokyBackend with 7 concurrent workers.\n",
      "[Parallel(n_jobs=-2)]: Done   4 tasks      | elapsed:    3.1s\n",
      "[Parallel(n_jobs=-2)]: Done  11 tasks      | elapsed:    6.2s\n",
      "[Parallel(n_jobs=-2)]: Done  18 tasks      | elapsed:    9.3s\n",
      "[Parallel(n_jobs=-2)]: Done  27 tasks      | elapsed:   12.5s\n",
      "[Parallel(n_jobs=-2)]: Done  32 out of  40 | elapsed:   15.4s remaining:    3.8s\n",
      "[Parallel(n_jobs=-2)]: Done  37 out of  40 | elapsed:   18.4s remaining:    1.5s\n",
      "[Parallel(n_jobs=-2)]: Done  40 out of  40 | elapsed:   18.5s finished\n",
      "[Parallel(n_jobs=-2)]: Using backend LokyBackend with 7 concurrent workers.\n",
      "[Parallel(n_jobs=-2)]: Done   4 tasks      | elapsed:    3.4s\n",
      "[Parallel(n_jobs=-2)]: Done  11 tasks      | elapsed:    6.9s\n",
      "[Parallel(n_jobs=-2)]: Done  18 tasks      | elapsed:   10.2s\n",
      "[Parallel(n_jobs=-2)]: Done  27 tasks      | elapsed:   13.7s\n",
      "[Parallel(n_jobs=-2)]: Done  32 out of  40 | elapsed:   17.2s remaining:    4.3s\n",
      "[Parallel(n_jobs=-2)]: Done  37 out of  40 | elapsed:   20.5s remaining:    1.7s\n",
      "[Parallel(n_jobs=-2)]: Done  40 out of  40 | elapsed:   20.6s finished\n",
      "[Parallel(n_jobs=-2)]: Using backend LokyBackend with 7 concurrent workers.\n",
      "[Parallel(n_jobs=-2)]: Done   4 tasks      | elapsed:    3.7s\n",
      "[Parallel(n_jobs=-2)]: Done  11 tasks      | elapsed:    7.6s\n",
      "[Parallel(n_jobs=-2)]: Done  18 tasks      | elapsed:   11.3s\n",
      "[Parallel(n_jobs=-2)]: Done  27 tasks      | elapsed:   15.2s\n",
      "[Parallel(n_jobs=-2)]: Done  32 out of  40 | elapsed:   19.1s remaining:    4.8s\n",
      "[Parallel(n_jobs=-2)]: Done  37 out of  40 | elapsed:   23.1s remaining:    1.9s\n",
      "[Parallel(n_jobs=-2)]: Done  40 out of  40 | elapsed:   23.1s finished\n",
      "[Parallel(n_jobs=-2)]: Using backend LokyBackend with 7 concurrent workers.\n",
      "[Parallel(n_jobs=-2)]: Done   4 tasks      | elapsed:    4.3s\n",
      "[Parallel(n_jobs=-2)]: Done  11 tasks      | elapsed:    8.6s\n",
      "[Parallel(n_jobs=-2)]: Done  18 tasks      | elapsed:   12.8s\n",
      "[Parallel(n_jobs=-2)]: Done  27 tasks      | elapsed:   17.2s\n",
      "[Parallel(n_jobs=-2)]: Done  32 out of  40 | elapsed:   21.5s remaining:    5.4s\n",
      "[Parallel(n_jobs=-2)]: Done  37 out of  40 | elapsed:   25.6s remaining:    2.1s\n",
      "[Parallel(n_jobs=-2)]: Done  40 out of  40 | elapsed:   25.7s finished\n",
      "[Parallel(n_jobs=-2)]: Using backend LokyBackend with 7 concurrent workers.\n",
      "[Parallel(n_jobs=-2)]: Batch computation too fast (0.0101s.) Setting batch_size=38.\n",
      "[Parallel(n_jobs=-2)]: Done   7 out of  40 | elapsed:    0.0s remaining:    0.1s\n",
      "[Parallel(n_jobs=-2)]: Done  12 out of  40 | elapsed:    0.0s remaining:    0.1s\n",
      "[Parallel(n_jobs=-2)]: Done  40 out of  40 | elapsed:    0.1s finished\n",
      "[Parallel(n_jobs=-2)]: Using backend LokyBackend with 7 concurrent workers.\n",
      "[Parallel(n_jobs=-2)]: Batch computation too fast (0.0066s.) Setting batch_size=60.\n",
      "[Parallel(n_jobs=-2)]: Done   7 out of  40 | elapsed:    0.0s remaining:    0.1s\n",
      "[Parallel(n_jobs=-2)]: Done  12 out of  40 | elapsed:    0.0s remaining:    0.0s\n",
      "[Parallel(n_jobs=-2)]: Done  40 out of  40 | elapsed:    0.1s finished\n",
      "[Parallel(n_jobs=-2)]: Using backend LokyBackend with 7 concurrent workers.\n",
      "[Parallel(n_jobs=-2)]: Batch computation too fast (0.0060s.) Setting batch_size=66.\n",
      "[Parallel(n_jobs=-2)]: Done   7 out of  40 | elapsed:    0.0s remaining:    0.1s\n",
      "[Parallel(n_jobs=-2)]: Done  12 out of  40 | elapsed:    0.0s remaining:    0.0s\n",
      "[Parallel(n_jobs=-2)]: Done  40 out of  40 | elapsed:    0.1s finished\n",
      "[Parallel(n_jobs=-2)]: Using backend LokyBackend with 7 concurrent workers.\n",
      "[Parallel(n_jobs=-2)]: Batch computation too fast (0.0061s.) Setting batch_size=64.\n",
      "[Parallel(n_jobs=-2)]: Done   7 out of  40 | elapsed:    0.0s remaining:    0.1s\n",
      "[Parallel(n_jobs=-2)]: Done  12 out of  40 | elapsed:    0.0s remaining:    0.1s\n",
      "[Parallel(n_jobs=-2)]: Done  40 out of  40 | elapsed:    0.1s finished\n",
      "[Parallel(n_jobs=-2)]: Using backend LokyBackend with 7 concurrent workers.\n",
      "[Parallel(n_jobs=-2)]: Batch computation too fast (0.0099s.) Setting batch_size=40.\n",
      "[Parallel(n_jobs=-2)]: Done   7 out of  40 | elapsed:    0.0s remaining:    0.1s\n",
      "[Parallel(n_jobs=-2)]: Done  12 out of  40 | elapsed:    0.0s remaining:    0.1s\n",
      "[Parallel(n_jobs=-2)]: Done  40 out of  40 | elapsed:    0.1s finished\n",
      "[Parallel(n_jobs=-2)]: Using backend LokyBackend with 7 concurrent workers.\n",
      "[Parallel(n_jobs=-2)]: Batch computation too fast (0.0081s.) Setting batch_size=48.\n",
      "[Parallel(n_jobs=-2)]: Done   7 out of  40 | elapsed:    0.0s remaining:    0.1s\n",
      "[Parallel(n_jobs=-2)]: Done  12 out of  40 | elapsed:    0.0s remaining:    0.1s\n",
      "[Parallel(n_jobs=-2)]: Done  40 out of  40 | elapsed:    0.1s finished\n",
      "[Parallel(n_jobs=-2)]: Using backend LokyBackend with 7 concurrent workers.\n",
      "[Parallel(n_jobs=-2)]: Batch computation too fast (0.0089s.) Setting batch_size=44.\n",
      "[Parallel(n_jobs=-2)]: Done   7 out of  40 | elapsed:    0.0s remaining:    0.1s\n",
      "[Parallel(n_jobs=-2)]: Done  12 out of  40 | elapsed:    0.0s remaining:    0.1s\n",
      "[Parallel(n_jobs=-2)]: Done  40 out of  40 | elapsed:    0.2s finished\n",
      "[Parallel(n_jobs=-2)]: Using backend LokyBackend with 7 concurrent workers.\n",
      "[Parallel(n_jobs=-2)]: Batch computation too fast (0.0111s.) Setting batch_size=36.\n",
      "[Parallel(n_jobs=-2)]: Done   7 out of  40 | elapsed:    0.0s remaining:    0.1s\n",
      "[Parallel(n_jobs=-2)]: Done  12 out of  40 | elapsed:    0.0s remaining:    0.1s\n",
      "[Parallel(n_jobs=-2)]: Done  40 out of  40 | elapsed:    0.2s finished\n",
      "[Parallel(n_jobs=-2)]: Using backend LokyBackend with 7 concurrent workers.\n",
      "[Parallel(n_jobs=-2)]: Batch computation too fast (0.0092s.) Setting batch_size=42.\n",
      "[Parallel(n_jobs=-2)]: Done   7 out of  40 | elapsed:    0.0s remaining:    0.2s\n",
      "[Parallel(n_jobs=-2)]: Done  12 out of  40 | elapsed:    0.0s remaining:    0.1s\n",
      "[Parallel(n_jobs=-2)]: Done  40 out of  40 | elapsed:    0.2s finished\n"
     ]
    },
    {
     "data": {
      "image/png": "[encoded data removed]",
      "text/plain": [
       "<Figure size 432x288 with 1 Axes>"
      ]
     },
     "metadata": {
      "needs_background": "light"
     },
     "output_type": "display_data"
    }
   ],
   "source": [
    "process = NonlinearLag1()\n",
    "power_curve(tests, process, num_sims, alpha, sample_sizes)"
   ]
  },
  {
   "cell_type": "code",
   "execution_count": null,
   "metadata": {},
   "outputs": [],
   "source": []
  }
 ],
 "metadata": {
  "kernelspec": {
   "display_name": "Python 3",
   "language": "python",
   "name": "python3"
  },
  "language_info": {
   "codemirror_mode": {
    "name": "ipython",
    "version": 3
   },
   "file_extension": ".py",
   "mimetype": "text/x-python",
   "name": "python",
   "nbconvert_exporter": "python",
   "pygments_lexer": "ipython3",
   "version": "3.7.4"
  }
 },
 "nbformat": 4,
 "nbformat_minor": 2
}
