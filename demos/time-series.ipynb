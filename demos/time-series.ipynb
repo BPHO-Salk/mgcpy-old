{
 "cells": [
  {
   "cell_type": "markdown",
   "metadata": {},
   "source": [
    "# Time Series Demo: CDCV and MGC-TS\n",
    "In this notebook, we demonstrate the cross-distance covariance (`cdcv`) test and the multiscale graph correlation time series (`mgc_ts`) test for independence of time series."
   ]
  },
  {
   "cell_type": "code",
   "execution_count": 1,
   "metadata": {},
   "outputs": [],
   "source": [
    "%matplotlib inline\n",
    "import numpy as np\n",
    "from scipy.stats import chi2\n",
    "import matplotlib.pyplot as plt\n",
    "\n",
    "from mgcpy.independence_tests.cdcv import CDCV\n",
    "from mgcpy.independence_tests.mgc_ts import MGC_TS"
   ]
  },
  {
   "cell_type": "markdown",
   "metadata": {},
   "source": [
    "**Function to compute and print CDCV nd MGC_TS output values, given X and Y:**"
   ]
  },
  {
   "cell_type": "code",
   "execution_count": 2,
   "metadata": {},
   "outputs": [],
   "source": [
    "def compute_cdcv(X, Y, max_lag):\n",
    "    cdcv = CDCV(max_lag = max_lag, which_test = 'unbiased')\n",
    "    cdcv_statistic, metadata = cdcv.test_statistic(X, Y)\n",
    "    p_value, _ = cdcv.p_value(X, Y)\n",
    "    optimal_lag = metadata['optimal_lag']\n",
    "\n",
    "    print(\"CDCV test statistic:\", cdcv_statistic)\n",
    "    print(\"P Value:\", p_value)\n",
    "    print(\"Optimal Lag:\", optimal_lag)\n",
    "    return cdcv_statistic, p_value, optimal_lag\n",
    "\n",
    "def compute_mgc_ts(X, Y, max_lag, is_fast = False):\n",
    "    mgc_ts = MGC_TS(max_lag = max_lag)\n",
    "    mgc_ts_statistic, metadata = mgc_ts.test_statistic(X, Y, is_fast = is_fast)\n",
    "    p_value, _ = mgc_ts.p_value(X, Y, is_fast = is_fast)\n",
    "    optimal_lag = metadata['optimal_lag']\n",
    "    \n",
    "    print(\"MGC TS test statistic:\", mgc_ts_statistic)\n",
    "    print(\"P Value:\", p_value)\n",
    "    print(\"Optimal Lag:\", optimal_lag)\n",
    "    return mgc_ts_statistic, p_value"
   ]
  },
  {
   "cell_type": "markdown",
   "metadata": {},
   "source": [
    "**Example: simulate data `X` and `Y` in the form of `n`-by-`p` and `n`-by-`q` matrices respectively, where `n` is the sample size.**"
   ]
  },
  {
   "cell_type": "markdown",
   "metadata": {},
   "source": [
    "In the following cells, we simulate different time series processes and estimate the power of the test at varying choices of sample size. Additionally, we compare against the Ljung-Box test of correlation."
   ]
  },
  {
   "cell_type": "markdown",
   "metadata": {},
   "source": [
    "**Function to simulate time series.**"
   ]
  },
  {
   "cell_type": "code",
   "execution_count": 5,
   "metadata": {},
   "outputs": [],
   "source": [
    "def indep_ar1(n):\n",
    "    # X_t and Y_t are univarite AR(1) with phi = 0.5.\n",
    "    \n",
    "    # Innovations.\n",
    "    epsilons = np.random.normal(0.0, 1.0, n)\n",
    "    etas = np.random.normal(0.0, 1.0, n)\n",
    "    \n",
    "    X = np.zeros(n)\n",
    "    Y = np.zeros(n)\n",
    "    X[0] = epsilons[0]\n",
    "    Y[0] = etas[0]\n",
    "    \n",
    "    # AR(1) process.\n",
    "    for t in range(1,n):\n",
    "        X[t] = 0.5*X[t-1] + epsilons[t]\n",
    "        Y[t] = 0.5*Y[t-1] + etas[t]\n",
    "        \n",
    "    return X, Y"
   ]
  },
  {
   "cell_type": "code",
   "execution_count": 6,
   "metadata": {},
   "outputs": [],
   "source": [
    "def lin_dep_ar1(n):\n",
    "    # X_t and Y_t are together a bivarite AR(1) with Phi = [0 0.5; 0.5 0].\n",
    "    \n",
    "    # Innovations.\n",
    "    epsilons = np.random.normal(0.0, 1.0, n)\n",
    "    etas = np.random.normal(0.0, 1.0, n)\n",
    "    \n",
    "    X = np.zeros(n)\n",
    "    Y = np.zeros(n)\n",
    "    X[0] = epsilons[0]\n",
    "    Y[0] = etas[0]\n",
    "    \n",
    "    # AR(1) process.\n",
    "    for t in range(1,n):\n",
    "        X[t] = 0.5*Y[t-1] + epsilons[t]\n",
    "        Y[t] = 0.5*X[t-1] + etas[t]\n",
    "        \n",
    "    return X, Y"
   ]
  },
  {
   "cell_type": "code",
   "execution_count": 7,
   "metadata": {},
   "outputs": [],
   "source": [
    "def nonlin_dep_ma1(n):\n",
    "    # X_t and Y_t are together a bivarite NMA(1).\n",
    "    \n",
    "    # Innovations.\n",
    "    epsilons = np.random.normal(0.0, 1.0, n)\n",
    "    etas = np.random.normal(0.0, 1.0, n)\n",
    "    \n",
    "    X = np.zeros(n)\n",
    "    Y = np.zeros(n)\n",
    "    X[0] = epsilons[0]\n",
    "    Y[0] = etas[0]\n",
    "    \n",
    "    # MA(1) process.\n",
    "    for t in range(1,n):\n",
    "        X[t] = epsilons[t]*epsilons[t-1]*etas[t-1]\n",
    "        Y[t] = etas[t]*etas[t-1]*epsilons[t-1]\n",
    "        \n",
    "    return X, Y"
   ]
  },
  {
   "cell_type": "code",
   "execution_count": 14,
   "metadata": {
    "scrolled": false
   },
   "outputs": [
    {
     "name": "stdout",
     "output_type": "stream",
     "text": [
      "CDCV test statistic: 3.079471009585178\n",
      "P Value: 0.01\n",
      "Optimal Lag: 1\n"
     ]
    }
   ],
   "source": [
    "# Test for optimal lag.\n",
    "n = 30\n",
    "max_lag = 3\n",
    "# num_sims = 20\n",
    "# opt_lags = np.zeros(num_sims)\n",
    "\n",
    "X, Y = lin_dep_ar1(n)\n",
    "CDCV_statistic, p_value, optimal_lag = compute_cdcv(X, Y, max_lag)\n",
    "opt_lags[s] = optimal_lag\n",
    "\n",
    "# plt.hist(opt_lags, bins=3)\n",
    "# MGC_TS_statistic, p_value, = compute_mgc_ts(X, Y, max_lag)"
   ]
  },
  {
   "cell_type": "markdown",
   "metadata": {},
   "source": [
    "**Function to run the Ljung-Box test of dependence using cross-correlations.**"
   ]
  },
  {
   "cell_type": "code",
   "execution_count": 15,
   "metadata": {},
   "outputs": [],
   "source": [
    "def ljung_box(X, Y, max_lag, alpha):\n",
    "    n = len(X)\n",
    "    test_statistic = (np.corrcoef(X,Y)[1,0])**2 / n\n",
    "    for j in range(1,max_lag+1):\n",
    "            lead_X = X[j:n]\n",
    "            lag_Y = Y[0:(n-j)]\n",
    "            test_statistic += (np.corrcoef(lead_X,lag_Y)[1,0])**2 / (n-j)\n",
    "\n",
    "            lag_X = X[0:(n-j)]\n",
    "            lead_Y = Y[j:n]\n",
    "            test_statistic += (np.corrcoef(lead_X,lag_Y)[1,0])**2 / (n-j)\n",
    "    test_statistic *= (n*(n+2))\n",
    "    \n",
    "    critical_value = chi2.ppf(1-alpha, df = 2*max_lag+1)\n",
    "    return(test_statistic >= critical_value)"
   ]
  },
  {
   "cell_type": "markdown",
   "metadata": {},
   "source": [
    "**Compute power curves of the test on each process.**"
   ]
  },
  {
   "cell_type": "code",
   "execution_count": 23,
   "metadata": {},
   "outputs": [],
   "source": [
    "def power_curve(sample_sizes, powers_cdcv, powers_lb, powers_mgc_ts, alpha, title):\n",
    "    fig, ax = plt.subplots()\n",
    "    plt.title(title)\n",
    "    plt.xlabel(\"n\")\n",
    "    plt.ylabel(\"Rejection Probability\")\n",
    "    \n",
    "    plt.plot(sample_sizes, powers_cdcv, linestyle = '-', color = 'blue')\n",
    "    plt.plot(sample_sizes, powers_lb, linestyle = ':', color = 'red')\n",
    "    plt.plot(sample_sizes, powers_mgc_ts, linestyle = '--', color = 'green')\n",
    "    ax.legend(['CDCV', 'LB', 'MGC-TS'], loc = 'upper left')\n",
    "    \n",
    "    ax.axhline(y=alpha, color = 'black', linestyle = '--')\n",
    "    ax.axhline(y=1, color = 'black', linestyle = '--')\n",
    "    filename = \"power_curve_%s.png\" % title\n",
    "    plt.savefig(filename)\n",
    "    plt.show()"
   ]
  },
  {
   "cell_type": "code",
   "execution_count": 24,
   "metadata": {},
   "outputs": [],
   "source": [
    "def optimal_lag_curve(sample_sizes, probs_cdcv, probs_mgc_ts, title):\n",
    "    fig, ax = plt.subplots()\n",
    "    plt.title(title)\n",
    "    plt.xlabel(\"n\")\n",
    "    plt.ylabel(\"Probability of Detecting Correct Lag\")\n",
    "    \n",
    "    plt.plot(sample_sizes, probs_cdcv, linestyle = '-', color = 'blue')\n",
    "    plt.plot(sample_sizes, probs_mgc_ts, linestyle = '--', color = 'green')\n",
    "    ax.legend(['CDCV', 'MGC-TS'], loc = 'upper left')\n",
    "    \n",
    "    ax.axhline(y=1, color = 'black', linestyle = '--')\n",
    "    filename = \"optimal_lag_%s.png\" % title\n",
    "    plt.savefig(filename)\n",
    "    plt.show()"
   ]
  },
  {
   "cell_type": "markdown",
   "metadata": {},
   "source": [
    "**Full experiment, simulating the above time series, and counting the rejections by each test (as a function of `n`).**"
   ]
  },
  {
   "cell_type": "code",
   "execution_count": 43,
   "metadata": {},
   "outputs": [
    {
     "name": "stdout",
     "output_type": "stream",
     "text": [
      "Estimating power/detection prob. at sample size:  10........................................\n",
      "Estimating power/detection prob. at sample size:  20........................................\n",
      "Estimating power/detection prob. at sample size:  30........................................\n",
      "Estimating power/detection prob. at sample size:  40........................................\n",
      "Estimating power/detection prob. at sample size:  50........................................\n",
      "Estimating power/detection prob. at sample size:  60........................................\n",
      "Estimating power/detection prob. at sample size:  70........................................\n",
      "Estimating power/detection prob. at sample size:  80........................................\n",
      "Estimating power/detection prob. at sample size:  90........................................\n",
      "Estimating power/detection prob. at sample size:  100........................................\n"
     ]
    },
    {
     "data": {
      "image/png": "[encoded data removed]",
      "text/plain": [
       "<Figure size 432x288 with 1 Axes>"
      ]
     },
     "metadata": {
      "needs_background": "light"
     },
     "output_type": "display_data"
    }
   ],
   "source": [
    "# Experimental parameters.\n",
    "sample_sizes  = range(10,110,10)\n",
    "num_sims      = 40\n",
    "num_bootstrap = 100\n",
    "alpha         = 0.05\n",
    "maxlag        = 2\n",
    "\n",
    "cdcv   = CDCV(max_lag = maxlag)\n",
    "mgc_ts = MGC_TS(max_lag = maxlag)\n",
    "\n",
    "powers_cdcv   = np.zeros(len(sample_sizes))\n",
    "powers_lb     = np.zeros(len(sample_sizes))\n",
    "powers_mgc_ts = np.zeros(len(sample_sizes))\n",
    "probs_cdcv    = np.zeros(len(sample_sizes))\n",
    "probs_mgc_ts  = np.zeros(len(sample_sizes))\n",
    "\n",
    "sims = [\n",
    "    #indep_ar1, \n",
    "    #lin_dep_ar1, \n",
    "    nonlin_dep_ma1\n",
    "]\n",
    "sim_names = [\n",
    "    #\"Independent AR(1)\", \n",
    "    #\"Correlated AR(1)\", \n",
    "    \"Nonlinearly Dependent MA(1)\"\n",
    "]\n",
    "\n",
    "# For each simulated process:\n",
    "for s in range(len(sims)):\n",
    "    sim_type = sims[s]\n",
    "    for i in range(len(sample_sizes)):\n",
    "        rejects_cdcv   = 0.0\n",
    "        rejects_lb     = 0.0\n",
    "        rejects_mgc_ts = 0.0\n",
    "        detects_cdcv   = np.zeros(num_sims)\n",
    "        detects_mgc_ts = np.zeros(num_sims)\n",
    "        n = sample_sizes[i]\n",
    "        print(\"Estimating power/detection prob. at sample size: \", str(n), end = \"\")\n",
    "        \n",
    "        # Simulate time series and count rejections.\n",
    "        for t in range(num_sims):\n",
    "            print('.', end='')\n",
    "            X, Y = sim_type(n)\n",
    "            \n",
    "            # CDCV\n",
    "            CDCV_statistic, metadata = cdcv.test_statistic(X, Y)\n",
    "            #p_value, _ = cdcv.p_value(X, Y, replication_factor = num_bootstrap)\n",
    "            #if p_value < alpha:\n",
    "            #    rejects_cdcv += 1\n",
    "            detects_cdcv[t] = metadata['optimal_lag']\n",
    "            \n",
    "            # MGC TS\n",
    "            MGC_TS_statistic, metadata = mgc_ts.test_statistic(X, Y)\n",
    "            #p_value, _ = mgc_ts.p_value(X, Y, replication_factor = num_bootstrap, is_fast = False)\n",
    "            #if p_value < alpha:\n",
    "            #    rejects_mgc_ts += 1\n",
    "            detects_mgc_ts[t] = metadata['optimal_lag']\n",
    "                \n",
    "            # Ljung-Box\n",
    "            if ljung_box(X, Y, maxlag, alpha):\n",
    "                rejects_lb += 1\n",
    "        \n",
    "        powers_cdcv[i]   = rejects_cdcv/num_sims\n",
    "        powers_lb[i]     = rejects_lb/num_sims\n",
    "        powers_mgc_ts[i] = rejects_mgc_ts/num_sims\n",
    "        probs_cdcv[i]    = len(detects_cdcv[np.where(detects_cdcv == 0)])/num_sims\n",
    "        probs_mgc_ts[i]  = len(detects_mgc_ts[np.where(detects_mgc_ts == 0)])/num_sims\n",
    "        print(\"\")\n",
    "        \n",
    "    # Display power estimates and probility of detecting the correct lag.\n",
    "    #power_curve(sample_sizes, powers_cdcv, powers_lb, powers_mgc_ts, alpha, sim_names[s])\n",
    "    optimal_lag_curve(sample_sizes, probs_cdcv, probs_mgc_ts, sim_names[s])"
   ]
  },
  {
   "cell_type": "code",
   "execution_count": 39,
   "metadata": {},
   "outputs": [
    {
     "data": {
      "text/plain": [
       "(array([ 0., 40.,  0.]),\n",
       " array([-0.5       , -0.16666667,  0.16666667,  0.5       ]),\n",
       " <a list of 3 Patch objects>)"
      ]
     },
     "execution_count": 39,
     "metadata": {},
     "output_type": "execute_result"
    },
    {
     "data": {
      "image/png": "[encoded data removed]",
      "text/plain": [
       "<Figure size 432x288 with 1 Axes>"
      ]
     },
     "metadata": {
      "needs_background": "light"
     },
     "output_type": "display_data"
    }
   ],
   "source": [
    "plt.hist(detects_cdcv, bins = 3)"
   ]
  },
  {
   "cell_type": "code",
   "execution_count": 40,
   "metadata": {},
   "outputs": [
    {
     "data": {
      "text/plain": [
       "(array([ 0., 40.,  0.]),\n",
       " array([-0.5       , -0.16666667,  0.16666667,  0.5       ]),\n",
       " <a list of 3 Patch objects>)"
      ]
     },
     "execution_count": 40,
     "metadata": {},
     "output_type": "execute_result"
    },
    {
     "data": {
      "image/png": "[encoded data removed]",
      "text/plain": [
       "<Figure size 432x288 with 1 Axes>"
      ]
     },
     "metadata": {
      "needs_background": "light"
     },
     "output_type": "display_data"
    }
   ],
   "source": [
    "plt.hist(detects_mgc_ts, bins = 3)"
   ]
  },
  {
   "cell_type": "code",
   "execution_count": null,
   "metadata": {},
   "outputs": [],
   "source": []
  }
 ],
 "metadata": {
  "kernelspec": {
   "display_name": "Python 3",
   "language": "python",
   "name": "python3"
  },
  "language_info": {
   "codemirror_mode": {
    "name": "ipython",
    "version": 3
   },
   "file_extension": ".py",
   "mimetype": "text/x-python",
   "name": "python",
   "nbconvert_exporter": "python",
   "pygments_lexer": "ipython3",
   "version": "3.6.0"
  }
 },
 "nbformat": 4,
 "nbformat_minor": 2
}
