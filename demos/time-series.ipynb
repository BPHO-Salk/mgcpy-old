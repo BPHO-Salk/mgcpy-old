{
 "cells": [
  {
   "cell_type": "markdown",
   "metadata": {},
   "source": [
    "# Time Series Demo: CDCV and MGC-TS\n",
    "In this notebook, we demonstrate the cross-distance covariance (`cdcv`) test and the multiscale graph correlation time series (`mgc_ts`) test for independence of time series."
   ]
  },
  {
   "cell_type": "code",
   "execution_count": 1,
   "metadata": {
    "collapsed": true
   },
   "outputs": [],
   "source": [
    "%matplotlib inline\n",
    "import numpy as np\n",
    "from scipy.stats import chi2\n",
    "import matplotlib.pyplot as plt\n",
    "\n",
    "from mgcpy.independence_tests.cdcv import CDCV\n",
    "from mgcpy.independence_tests.mgc_ts import MGC_TS\n",
    "from mgcpy.independence_tests.mgc import MGC"
   ]
  },
  {
   "cell_type": "markdown",
   "metadata": {},
   "source": [
    "**Function to compute and print CDCV nd MGC_TS output values, given X and Y:**"
   ]
  },
  {
   "cell_type": "code",
   "execution_count": 2,
   "metadata": {
    "collapsed": true
   },
   "outputs": [],
   "source": [
    "def compute_cdcv(X, Y, max_lag):\n",
    "    cdcv = CDCV(max_lag = max_lag, which_test = 'unbiased')\n",
    "    cdcv_statistic, _ = cdcv.test_statistic(X, Y)\n",
    "    p_value, _ = cdcv.p_value(X, Y)\n",
    "\n",
    "    print(\"CDCV test statistic:\", cdcv_statistic)\n",
    "    print(\"P Value:\", p_value)\n",
    "    return cdcv_statistic, p_value\n",
    "\n",
    "def compute_mgc_ts(X, Y, max_lag):\n",
    "    mgc_ts = CDCV(max_lag = max_lag)\n",
    "    mgc_ts_statistic, _ = mgc_ts.test_statistic(X, Y)\n",
    "    p_value, _ = mgc_ts.p_value(X, Y)\n",
    "\n",
    "    print(\"MGC TS test statistic:\", mgc_ts_statistic)\n",
    "    print(\"P Value:\", p_value)\n",
    "    return mgc_ts_statistic, p_value"
   ]
  },
  {
   "cell_type": "markdown",
   "metadata": {},
   "source": [
    "**Example: simulate data `X` and `Y` in the form of `n`-by-`p` and `n`-by-`q` matrices respectively, where `n` is the sample size.**"
   ]
  },
  {
   "cell_type": "code",
   "execution_count": 6,
   "metadata": {},
   "outputs": [
    {
     "name": "stdout",
     "output_type": "stream",
     "text": [
      "int32\n"
     ]
    },
    {
     "ename": "ValueError",
     "evalue": "Buffer dtype mismatch, expected 'int_t' but got 'long long'",
     "output_type": "error",
     "traceback": [
      "\u001b[1;31m---------------------------------------------------------------------------\u001b[0m",
      "\u001b[1;31mValueError\u001b[0m                                Traceback (most recent call last)",
      "\u001b[1;32m<ipython-input-6-29000f764852>\u001b[0m in \u001b[0;36m<module>\u001b[1;34m()\u001b[0m\n\u001b[0;32m     12\u001b[0m \u001b[1;31m#MGC_TS_statistic, p_value = compute_mgc_ts(X, Y, max_lag)\u001b[0m\u001b[1;33m\u001b[0m\u001b[1;33m\u001b[0m\u001b[0m\n\u001b[0;32m     13\u001b[0m \u001b[0mmgc\u001b[0m \u001b[1;33m=\u001b[0m \u001b[0mMGC\u001b[0m\u001b[1;33m(\u001b[0m\u001b[1;33m)\u001b[0m\u001b[1;33m\u001b[0m\u001b[0m\n\u001b[1;32m---> 14\u001b[1;33m \u001b[0mmgc_statistic\u001b[0m\u001b[1;33m,\u001b[0m \u001b[0m_\u001b[0m \u001b[1;33m=\u001b[0m \u001b[0mmgc\u001b[0m\u001b[1;33m.\u001b[0m\u001b[0mtest_statistic\u001b[0m\u001b[1;33m(\u001b[0m\u001b[0mX\u001b[0m\u001b[1;33m,\u001b[0m \u001b[0mY\u001b[0m\u001b[1;33m)\u001b[0m\u001b[1;33m\u001b[0m\u001b[0m\n\u001b[0m\u001b[0;32m     15\u001b[0m \u001b[0mp_value\u001b[0m\u001b[1;33m,\u001b[0m \u001b[0m_\u001b[0m \u001b[1;33m=\u001b[0m \u001b[0mmgc\u001b[0m\u001b[1;33m.\u001b[0m\u001b[0mp_value\u001b[0m\u001b[1;33m(\u001b[0m\u001b[0mX\u001b[0m\u001b[1;33m,\u001b[0m \u001b[0mY\u001b[0m\u001b[1;33m)\u001b[0m\u001b[1;33m\u001b[0m\u001b[0m\n",
      "\u001b[1;32m~\\Desktop\\Jovo\\mgcpy\\mgcpy\\independence_tests\\mgc.py\u001b[0m in \u001b[0;36mtest_statistic\u001b[1;34m(self, matrix_X, matrix_Y, is_fast, fast_mgc_data)\u001b[0m\n\u001b[0;32m     93\u001b[0m             \u001b[0mdistance_matrix_X\u001b[0m\u001b[1;33m,\u001b[0m \u001b[0mdistance_matrix_Y\u001b[0m \u001b[1;33m=\u001b[0m \u001b[0mcompute_distance\u001b[0m\u001b[1;33m(\u001b[0m\u001b[0mmatrix_X\u001b[0m\u001b[1;33m,\u001b[0m \u001b[0mmatrix_Y\u001b[0m\u001b[1;33m,\u001b[0m \u001b[0mself\u001b[0m\u001b[1;33m.\u001b[0m\u001b[0mcompute_distance_matrix\u001b[0m\u001b[1;33m)\u001b[0m\u001b[1;33m\u001b[0m\u001b[0m\n\u001b[0;32m     94\u001b[0m             local_correlation_matrix = local_correlations(distance_matrix_X, distance_matrix_Y,\n\u001b[1;32m---> 95\u001b[1;33m                                                           base_global_correlation=self.base_global_correlation)[\"local_correlation_matrix\"]\n\u001b[0m\u001b[0;32m     96\u001b[0m             \u001b[0mm\u001b[0m\u001b[1;33m,\u001b[0m \u001b[0mn\u001b[0m \u001b[1;33m=\u001b[0m \u001b[0mlocal_correlation_matrix\u001b[0m\u001b[1;33m.\u001b[0m\u001b[0mshape\u001b[0m\u001b[1;33m\u001b[0m\u001b[0m\n\u001b[0;32m     97\u001b[0m             \u001b[1;32mif\u001b[0m \u001b[0mm\u001b[0m \u001b[1;33m==\u001b[0m \u001b[1;36m1\u001b[0m \u001b[1;32mor\u001b[0m \u001b[0mn\u001b[0m \u001b[1;33m==\u001b[0m \u001b[1;36m1\u001b[0m\u001b[1;33m:\u001b[0m\u001b[1;33m\u001b[0m\u001b[0m\n",
      "\u001b[1;32m~\\Desktop\\Jovo\\mgcpy\\mgcpy\\independence_tests\\mgc_utils\\local_correlation.pyx\u001b[0m in \u001b[0;36mmgcpy.independence_tests.mgc_utils.local_correlation.local_correlations\u001b[1;34m()\u001b[0m\n",
      "\u001b[1;32m~\\Desktop\\Jovo\\mgcpy\\mgcpy\\independence_tests\\mgc_utils\\local_correlation.pyx\u001b[0m in \u001b[0;36mmgcpy.independence_tests.mgc_utils.local_correlation.local_correlations\u001b[1;34m()\u001b[0m\n",
      "\u001b[1;32m~\\Desktop\\Jovo\\mgcpy\\mgcpy\\independence_tests\\mgc_utils\\local_correlation.pyx\u001b[0m in \u001b[0;36mmgcpy.independence_tests.mgc_utils.local_correlation.local_covariance\u001b[1;34m()\u001b[0m\n",
      "\u001b[1;31mValueError\u001b[0m: Buffer dtype mismatch, expected 'int_t' but got 'long long'"
     ]
    }
   ],
   "source": [
    "n = 25\n",
    "p = 10\n",
    "q = 5\n",
    "max_lag = 0 # 'M' parameter for CDCV test.\n",
    "\n",
    "X = np.array([1,2,3,4]).reshape(4, 1)\n",
    "Y = np.array([1,2,3,4]).reshape(4, 1)\n",
    "\n",
    "print(X.dtype)\n",
    "\n",
    "#CDCV_statistic, p_value = compute_cdcv(X, Y, max_lag)\n",
    "#MGC_TS_statistic, p_value = compute_mgc_ts(X, Y, max_lag)\n",
    "mgc = MGC()\n",
    "mgc_statistic, _ = mgc.test_statistic(X, Y)\n",
    "p_value, _ = mgc.p_value(X, Y)"
   ]
  },
  {
   "cell_type": "markdown",
   "metadata": {},
   "source": [
    "In the following cells, we simulate different time series processes and estimate the power of the test at varying choices of sample size. Additionally, we compare against the Ljung-Box test of correlation."
   ]
  },
  {
   "cell_type": "markdown",
   "metadata": {},
   "source": [
    "**Function to simulate time series.**"
   ]
  },
  {
   "cell_type": "code",
   "execution_count": null,
   "metadata": {
    "collapsed": true
   },
   "outputs": [],
   "source": [
    "def indep_ar1(n):\n",
    "    # X_t and Y_t are univarite AR(1) with phi = 0.5.\n",
    "    \n",
    "    # Innovations.\n",
    "    epsilons = np.random.normal(0.0, 1.0, n)\n",
    "    etas = np.random.normal(0.0, 1.0, n)\n",
    "    \n",
    "    X = np.zeros(n)\n",
    "    Y = np.zeros(n)\n",
    "    X[0] = epsilons[0]\n",
    "    Y[0] = etas[0]\n",
    "    \n",
    "    # AR(1) process.\n",
    "    for t in range(1,n):\n",
    "        X[t] = 0.5*X[t-1] + epsilons[t]\n",
    "        Y[t] = 0.5*Y[t-1] + etas[t]\n",
    "        \n",
    "    return X, Y"
   ]
  },
  {
   "cell_type": "code",
   "execution_count": null,
   "metadata": {
    "collapsed": true
   },
   "outputs": [],
   "source": [
    "def lin_dep_ar1(n):\n",
    "    # X_t and Y_t are together a bivarite AR(1) with Phi = [0 0.5; 0.5 0].\n",
    "    \n",
    "    # Innovations.\n",
    "    epsilons = np.random.normal(0.0, 1.0, n)\n",
    "    etas = np.random.normal(0.0, 1.0, n)\n",
    "    \n",
    "    X = np.zeros(n)\n",
    "    Y = np.zeros(n)\n",
    "    X[0] = epsilons[0]\n",
    "    Y[0] = etas[0]\n",
    "    \n",
    "    # AR(1) process.\n",
    "    for t in range(1,n):\n",
    "        X[t] = 0.5*Y[t-1] + epsilons[t]\n",
    "        Y[t] = 0.5*X[t-1] + etas[t]\n",
    "        \n",
    "    return X, Y"
   ]
  },
  {
   "cell_type": "code",
   "execution_count": null,
   "metadata": {
    "collapsed": true
   },
   "outputs": [],
   "source": [
    "def nonlin_dep_ma1(n):\n",
    "    # X_t and Y_t are together a bivarite NMA(1).\n",
    "    \n",
    "    # Innovations.\n",
    "    epsilons = np.random.normal(0.0, 1.0, n)\n",
    "    etas = np.random.normal(0.0, 1.0, n)\n",
    "    \n",
    "    X = np.zeros(n)\n",
    "    Y = np.zeros(n)\n",
    "    X[0] = epsilons[0]\n",
    "    Y[0] = etas[0]\n",
    "    \n",
    "    # MA(1) process.\n",
    "    for t in range(1,n):\n",
    "        X[t] = epsilons[t]*epsilons[t-1]*etas[t-1]\n",
    "        Y[t] = etas[t]*etas[t-1]*epsilons[t-1]\n",
    "        \n",
    "    return X, Y"
   ]
  },
  {
   "cell_type": "markdown",
   "metadata": {},
   "source": [
    "** Function to run the Ljung-Box test of dependence using cross-correlations.**"
   ]
  },
  {
   "cell_type": "code",
   "execution_count": null,
   "metadata": {
    "collapsed": true
   },
   "outputs": [],
   "source": [
    "def ljung_box(X, Y, max_lag, alpha):\n",
    "    n = len(X)\n",
    "    test_statistic = (np.corrcoef(X,Y)[1,0])**2 / n\n",
    "    for j in range(1,max_lag+1):\n",
    "            lead_X = X[j:n]\n",
    "            lag_Y = Y[0:(n-j)]\n",
    "            test_statistic += (np.corrcoef(lead_X,lag_Y)[1,0])**2 / (n-j)\n",
    "\n",
    "            lag_X = X[0:(n-j)]\n",
    "            lead_Y = Y[j:n]\n",
    "            test_statistic += (np.corrcoef(lead_X,lag_Y)[1,0])**2 / (n-j)\n",
    "    test_statistic *= (n*(n+2))\n",
    "    \n",
    "    critical_value = chi2.ppf(1-alpha, df = 2*max_lag+1)\n",
    "    return(test_statistic >= critical_value)"
   ]
  },
  {
   "cell_type": "markdown",
   "metadata": {},
   "source": [
    "**Compute power curves of the test on each process.**"
   ]
  },
  {
   "cell_type": "code",
   "execution_count": null,
   "metadata": {
    "collapsed": true
   },
   "outputs": [],
   "source": [
    "def power_curve(sample_sizes, powers_cdcv, powers_lb, powers_mgc_ts, alpha, title):\n",
    "    fig, ax = plt.subplots()\n",
    "    plt.title(title)\n",
    "    plt.xlabel(\"n\")\n",
    "    plt.ylabel(\"Rejection Probability\")\n",
    "    \n",
    "    plt.plot(sample_sizes, powers_cdcv, linestyle = '-', color = 'blue')\n",
    "    plt.plot(sample_sizes, powers_lb, linestyle = ':', color = 'red')\n",
    "    plt.plot(sample_sizes, powers_mgc_ts, linestyle = '--', color = 'green')\n",
    "    ax.legend(['CDCV', 'LB', 'MGC-TS'], loc = 'upper left')\n",
    "    \n",
    "    ax.axhline(y=alpha, color = 'black', linestyle = '--')\n",
    "    ax.axhline(y=1, color = 'black', linestyle = '--')\n",
    "    plt.show()"
   ]
  },
  {
   "cell_type": "markdown",
   "metadata": {},
   "source": [
    "**Full experiment, simulating the above time series, and counting the rejections by each test (as a function of `n`).**"
   ]
  },
  {
   "cell_type": "code",
   "execution_count": null,
   "metadata": {},
   "outputs": [],
   "source": [
    "# Experimental parameters.\n",
    "sample_sizes  = range(10,110,10)\n",
    "num_sims      = 10\n",
    "num_bootstrap = 10\n",
    "alpha         = 0.05\n",
    "maxlag        = 0\n",
    "\n",
    "cdcv   = CDCV(max_lag = maxlag)\n",
    "mgc_ts = CDCV(max_lag = maxlag)\n",
    "\n",
    "powers_cdcv   = np.zeros(len(sample_sizes))\n",
    "powers_lb     = np.zeros(len(sample_sizes))\n",
    "powers_mgc_ts = np.zeros(len(sample_sizes))\n",
    "\n",
    "sims      = [indep_ar1, \n",
    "             lin_dep_ar1, \n",
    "             nonlin_dep_ma1]\n",
    "sim_names = [\"Power vs. Sample Size for Independent AR(1)\", \n",
    "             \"Power vs. Sample Size for Correlated AR(1)\", \n",
    "             \"Power vs. Sample Size for Nonlin. Dependent MA(1)\"]\n",
    "\n",
    "# For each simulated process:\n",
    "for s in range(len(sims)):\n",
    "    sim_type = sims[s]\n",
    "    # For each choice of sample size n:\n",
    "    for i in range(len(sample_sizes)):\n",
    "        rejects_cdcv   = 0.0\n",
    "        rejects_lb     = 0.0\n",
    "        rejects_mgc_ts = 0.0\n",
    "        n = sample_sizes[i]\n",
    "        print(\"Estimating power at sample size: \", str(n), end = \"\")\n",
    "        \n",
    "        # Simulate time series and count rejections.\n",
    "        for t in range(num_sims):\n",
    "            print('.', end='')\n",
    "            X, Y = sim_type(n)\n",
    "            \n",
    "            # CDCV\n",
    "            p_value, _ = cdcv.p_value(X, Y, replication_factor = num_bootstrap)\n",
    "            if p_value < alpha:\n",
    "                rejects_cdcv += 1\n",
    "                \n",
    "            # MGC TS\n",
    "            p_value, _ = mgc_ts.p_value(X, Y, replication_factor = num_bootstrap)\n",
    "            if p_value < alpha:\n",
    "                rejects_mgc_ts += 1\n",
    "                \n",
    "            # Ljung-Box\n",
    "            if ljung_box(X, Y, maxlag, alpha):\n",
    "                rejects_lb += 1\n",
    "        \n",
    "        powers_cdcv[i] = rejects_cdcv/num_sims\n",
    "        powers_lb[i] = rejects_lb/num_sims\n",
    "        powers_mgc_ts[i] = rejects_mgc_ts/num_sims\n",
    "        print(\"\")\n",
    "        \n",
    "    # Display power estimates.\n",
    "    power_curve(sample_sizes, powers_cdcv, powers_lb, powers_mgc_ts, alpha, sim_names[s])"
   ]
  }
 ],
 "metadata": {
  "kernelspec": {
   "display_name": "Python 3",
   "language": "python",
   "name": "python3"
  },
  "language_info": {
   "codemirror_mode": {
    "name": "ipython",
    "version": 3
   },
   "file_extension": ".py",
   "mimetype": "text/x-python",
   "name": "python",
   "nbconvert_exporter": "python",
   "pygments_lexer": "ipython3",
   "version": "3.6.3"
  }
 },
 "nbformat": 4,
 "nbformat_minor": 2
}
