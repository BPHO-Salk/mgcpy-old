{
 "cells": [
  {
   "cell_type": "markdown",
   "metadata": {},
   "source": [
    "## CDCV and MGC-TS on fMRI Data\n",
    "\n",
    "The demo below shows the cross-distance covariance (CDCV) test and multiscale graph correlation time series (MGC-TS) test for independence of time series on fMRI data."
   ]
  },
  {
   "cell_type": "code",
   "execution_count": null,
   "metadata": {},
   "outputs": [],
   "source": [
    "# Import dependencies.\n",
    "import numpy as np\n",
    "import nibabel.cifti2 as ci\n",
    "import matplotlib.pyplot as plt\n",
    "import seaborn as sns; sns.set()\n",
    "import math\n",
    "\n",
    "from mgcpy.independence_tests.cdcv import CDCV\n",
    "from mgcpy.independence_tests.mgc_ts import MGC_TS"
   ]
  },
  {
   "cell_type": "code",
   "execution_count": null,
   "metadata": {},
   "outputs": [],
   "source": [
    "# Load image - individual 100307.\n",
    "img = ci.load(\"rfMRI_REST1_LR_Atlas_hp2000_clean_filt_sm6.HCPMMP.ptseries.nii\")\n",
    "fmri_data = np.array(img.get_fdata())"
   ]
  },
  {
   "cell_type": "code",
   "execution_count": null,
   "metadata": {},
   "outputs": [],
   "source": [
    "# Visualize data, i.e. inspect the first 30 timesteps of each parcel.\n",
    "\n",
    "# Generate heatmap.\n",
    "timesteps = 30\n",
    "displayed_data = np.transpose(fmri_data[range(timesteps),:])\n",
    "plt.subplots(figsize=(15,10))\n",
    "ax = sns.heatmap(displayed_data, yticklabels=False)\n",
    "\n",
    "# Plot parameters.\n",
    "plt.title('Resting fMRI Signal by Parcel - Individual 100307 LR', fontsize = 20)\n",
    "plt.ylabel('Parcel', fontsize = 15)\n",
    "plt.xlabel('Timestep', fontsize = 15)\n",
    "plt.show()"
   ]
  },
  {
   "cell_type": "markdown",
   "metadata": {},
   "source": [
    "**We now inspect the dependence between parcels using CDCV and MGC-TS.**"
   ]
  },
  {
   "cell_type": "code",
   "execution_count": null,
   "metadata": {},
   "outputs": [],
   "source": [
    "# Parameters and constants.\n",
    "sample_indices = range(600) # Which timesteps to consider.\n",
    "n = len(sample_indices)\n",
    "p = fmri_data.shape[1] # Number of parcels.\n",
    "num_bootstrap = 500 # Number of permutations to estimate p-value.\n",
    "verbose = True # Print output to track progress.\n",
    "M = 0 # Number of lags in the past to inspect."
   ]
  },
  {
   "cell_type": "code",
   "execution_count": null,
   "metadata": {},
   "outputs": [],
   "source": [
    "# Cross-distance covariance: computation.\n",
    "\n",
    "cdcv = CDCV(max_lag = M)\n",
    "cdcv_stat_matrix = np.zeros(p*p).reshape(p, p)\n",
    "cdcv_pval_matrix = np.zeros(p*p).reshape(p, p)\n",
    "\n",
    "for sample_indices in (range(10), range(15)):\n",
    "    n = len(sample_indices)\n",
    "    for i in range(p):\n",
    "        if verbose and not i % math.floor(p / 10):\n",
    "            print(\"Estimating dependence within and between of parcel \", str(i))\n",
    "\n",
    "        # Diagonal entries - measure dependence of parcel with itself (for calibration).\n",
    "        X = fmri_data[sample_indices,i].reshape(n, 1)\n",
    "        # cdcv_statistic, _ = cdcv.test_statistic(X, X)\n",
    "        # cdcv_stat_matrix[i,i] = cdcv_statistic\n",
    "        cdcv_p_value, _ = cdcv.p_value(X, X, replication_factor = num_bootstrap)\n",
    "        cdcv_pval_matrix[i,i] = cdcv_p_value\n",
    "\n",
    "        # Off-diagonal entries - measure dependence between parcels.\n",
    "        for j in range(i):\n",
    "            X = fmri_data[sample_indices,i].reshape(n, 1)\n",
    "            Y = fmri_data[sample_indices,j].reshape(n, 1)\n",
    "\n",
    "            # cdcv_statistic, _ = cdcv.test_statistic(X, Y)\n",
    "            # cdcv_stat_matrix[i,j] = cdcv_statistic\n",
    "            # cdcv_stat_matrix[j,i] = cdcv_statistic\n",
    "            cdcv_p_value, _ = cdcv.p_value(X, Y, replication_factor = num_bootstrap)\n",
    "            cdcv_pval_matrix[i,j] = cdcv_p_value\n",
    "            cdcv_pval_matrix[j,i] = cdcv_p_value\n",
    "\n",
    "    # filename = \"cdcv_stat_matrix_%d.csv\" % n\n",
    "    # np.savetxt(filename, cdcv_stat_matrix, delimiter=\",\")\n",
    "    filename = \"cdcv_pval_matrix_%d.csv\" % n\n",
    "    np.savetxt(filename, cdcv_pval_matrix, delimiter=\",\")"
   ]
  },
  {
   "cell_type": "code",
   "execution_count": null,
   "metadata": {},
   "outputs": [],
   "source": [
    "# Cross-distance covariance: visualization.\n",
    "\n",
    "# TO DO: Use labels organizing parcels into regions, and visualize heatmap of p-values and test_statistics.\n",
    "\n",
    "# Be sure to check the file name from which you want to read!\n",
    "cdcv_stat_matrix_600 = np.genfromtxt(\"cdcv_stat_matrix_600.csv\", delimiter=',')\n",
    "spread = cdcv_stat_matrix_300.max() - cdcv_stat_matrix_300.min()\n",
    "cdcv_stat_matrix_600 = cdcv_stat_matrix_300 / spread\n",
    "plt.subplots(figsize=(18,16))\n",
    "ax = sns.heatmap(cdcv_stat_matrix_300)\n",
    "\n",
    "# Plot parameters.\n",
    "plt.title('CDCV Test Statistic Resting fMRI 600 Timesteps - 100307 LR', fontsize = 20)\n",
    "plt.ylabel('Parcel', fontsize = 17)\n",
    "plt.xlabel('Parcel', fontsize = 17)\n",
    "plt.show()\n",
    "\n",
    "# TO DO: Repeat for p-values."
   ]
  },
  {
   "cell_type": "code",
   "execution_count": null,
   "metadata": {},
   "outputs": [],
   "source": [
    "# MGC time series: computation.\n",
    "\n",
    "mgc_ts = MGC_TS(max_lag = M)\n",
    "mgc_ts_stat_matrix = np.zeros(p*p).reshape(p, p)\n",
    "mgc_ts_pval_matrix = np.zeros(p*p).reshape(p, p)\n",
    "\n",
    "for sample_indices in (range(300), range(600)):\n",
    "    for i in range(p):\n",
    "        if verbose and not i % math.floor(p / 10):\n",
    "            print(\"Estimating dependence within and between of parcel \", str(i))\n",
    "\n",
    "        # Diagonal entries - measure dependence of parcel with itself (for calibration).\n",
    "        mgc_ts_statistic, _ = mgc_ts.test_statistic(fmri_data[:,i].reshape(n, 1), fmri_data[:,i].reshape(n, 1))\n",
    "        mgc_ts_stat_matrix[i,i] = mgc_ts_statistic\n",
    "        # cdcv_p_value, _ = cdcv.p_value(X, X, replication_factor = num_bootstrap)\n",
    "        # cdcv_pval_matrix[i,i] = cdcv_p_value\n",
    "\n",
    "        # Off-diagonal entries - measure dependence between parcels.\n",
    "        for j in range(i):\n",
    "            X = fmri_data[:,i].reshape(n, 1)\n",
    "            Y = fmri_data[:,j].reshape(n, 1)\n",
    "\n",
    "            mgc_ts_statistic, _ = mgc_ts.test_statistic(X, Y, is_fast = True)\n",
    "            mgc_ts_stat_matrix[i,j] = mgc_ts_statistic\n",
    "            mgc_ts_stat_matrix[j,i] = mgc_ts_statistic\n",
    "            mgc_ts_p_value, _ = mgc_ts.p_value(X, Y, replication_factor = num_bootstrap, is_fast = True)\n",
    "            mgc_ts_pval_matrix[i,j] = mgc_ts_p_value\n",
    "            mgc_ts_pval_matrix[j,i] = mgc_ts_p_value\n",
    "\n",
    "    filename = \"mgc_ts_stat_matrix_%d.csv % n\n",
    "    np.savetxt(filename, mgc_ts_stat_matrix, delimiter=\",\")\n",
    "    filename = \"mgc_ts_pval_matrix_%d.csv\" % n\n",
    "    np.savetxt(filename, mgc_ts_pval_matrix, delimiter=\",\")"
   ]
  },
  {
   "cell_type": "code",
   "execution_count": null,
   "metadata": {},
   "outputs": [],
   "source": [
    "# MGC time series: computation.\n",
    "\n",
    "# TO DO: Use labels organizing parcels into regions, and visualize heatmap of p-values and test_statistics."
   ]
  }
 ],
 "metadata": {
  "kernelspec": {
   "display_name": "Python 3",
   "language": "python",
   "name": "python3"
  },
  "language_info": {
   "codemirror_mode": {
    "name": "ipython",
    "version": 3
   },
   "file_extension": ".py",
   "mimetype": "text/x-python",
   "name": "python",
   "nbconvert_exporter": "python",
   "pygments_lexer": "ipython3",
   "version": "3.6.0"
  }
 },
 "nbformat": 4,
 "nbformat_minor": 2
}
