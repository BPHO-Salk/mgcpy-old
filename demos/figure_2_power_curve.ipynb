{
 "cells": [
  {
   "cell_type": "code",
   "execution_count": 1,
   "metadata": {},
   "outputs": [],
   "source": [
    "import numpy as np\n",
    "from scipy.spatial.distance import pdist, squareform\n",
    "import matplotlib.pyplot as plt\n",
    "import pickle"
   ]
  },
  {
   "cell_type": "code",
   "execution_count": 11,
   "metadata": {},
   "outputs": [],
   "source": [
    "import sys\n",
    "module_path = '/Users/junhaoxiong 1/Documents/Projects/mgcpy'\n",
    "if module_path not in sys.path:\n",
    "    sys.path.append(module_path)\n",
    "from mgcpy.independence_tests.dcorr import DCorr\n",
    "from mgcpy.benchmarks.power import power\n",
    "from mgcpy.benchmarks.simulations import linear_sim, quad_sim, ubern_sim, exp_sim, w_sim, joint_sim, spiral_sim, two_parab_sim\n",
    "from mgcpy.independence_tests.mgc.mgc import MGC\n",
    "from mgcpy.independence_tests.rv_corr import RVCorr\n",
    "from mgcpy.independence_tests.hhg import HHG\n",
    "from mgcpy.independence_tests.kendall_spearman import KendallSpearman"
   ]
  },
  {
   "cell_type": "code",
   "execution_count": 3,
   "metadata": {},
   "outputs": [],
   "source": [
    "def compute_distance_matrix(data_matrix_X, data_matrix_Y):\n",
    "    # obtain the pairwise distance matrix for X and Y\n",
    "    dist_mtx_X = squareform(pdist(data_matrix_X, metric='euclidean'))\n",
    "    dist_mtx_Y = squareform(pdist(data_matrix_Y, metric='euclidean'))\n",
    "    return (dist_mtx_X, dist_mtx_Y)"
   ]
  },
  {
   "cell_type": "code",
   "execution_count": 4,
   "metadata": {},
   "outputs": [],
   "source": [
    "def power_vs_dimension(independence_test, simulation_type, dim_range):\n",
    "    '''\n",
    "    Generate power of an independence test given a simulation for a range of dimensions\n",
    "    \n",
    "    :param independence_test: an independence_test object\n",
    "    :param simulation_type: a simulation function from mgcpy.benchmarks.simulations\n",
    "    :param dim_range: the upper end of the range of dimension\n",
    "    :return: power for each dimension\n",
    "    '''\n",
    "    estimated_power = np.zeros(dim_range)\n",
    "    for d in range(1, dim_range+1):\n",
    "        estimated_power[d-1] = power(independence_test, simulation_type, num_samples=100, num_dimensions=d)\n",
    "    return estimated_power"
   ]
  },
  {
   "cell_type": "code",
   "execution_count": 5,
   "metadata": {},
   "outputs": [],
   "source": [
    "def compute_all_power(simulation_type, dim_range):\n",
    "    '''\n",
    "    Compute power for each independence test for each dimension in a specified range \n",
    "    '''\n",
    "\n",
    "    '''\n",
    "    Initialize all independence test objects\n",
    "    Data matrices initialized to np.nan, because in power computation each repeats involves generating new samples\n",
    "    '''\n",
    "    mcorr = DCorr(data_matrix_X=np.nan, data_matrix_Y=np.nan,\n",
    "                  compute_distance_matrix=compute_distance_matrix, corr_type='mcorr')\n",
    "    dcorr = DCorr(data_matrix_X=np.nan, data_matrix_Y=np.nan,\n",
    "                  compute_distance_matrix=compute_distance_matrix, corr_type='dcorr')\n",
    "    mantel = DCorr(data_matrix_X=np.nan, data_matrix_Y=np.nan,\n",
    "                  compute_distance_matrix=compute_distance_matrix, corr_type='mantel')\n",
    "    mgc = MGC(data_matrix_X=np.nan, data_matrix_Y=np.nan, compute_distance_matrix=compute_distance_matrix)\n",
    "    rv_corr = RVCorr(data_matrix_X=np.nan, data_matrix_Y=np.nan, compute_distance_matrix=compute_distance_matrix)\n",
    "    hhg = HHG(data_matrix_X=np.nan, data_matrix_Y=np.nan, compute_distance_matrix=compute_distance_matrix)\n",
    "    \n",
    "    independence_tests = {'MGC': mgc, 'MCorr': mcorr, 'DCorr': dcorr, 'Mantel': mantel, 'RV Corr': rv_corr} \n",
    "                          #'HHG': hhg, 'Kendall Spearman': ks}\n",
    "    power_results = {}\n",
    "    \n",
    "    # compute power for each test for each dimension\n",
    "    for name, test in independence_tests.items():\n",
    "        power = power_vs_dimension(test, simulation_type, dim_range)\n",
    "        power_results[name] = power\n",
    "        print('{} finished'.format(name))\n",
    "    \n",
    "    return power_results"
   ]
  },
  {
   "cell_type": "code",
   "execution_count": 6,
   "metadata": {},
   "outputs": [],
   "source": [
    "def plot_power_curve(power_results, simulation_name):\n",
    "    '''\n",
    "    Plot the power of each independence test relative to mgc\n",
    "    '''\n",
    "    mgc_power = power_results['MGC']\n",
    "\n",
    "    for name, power in power_results.items():     \n",
    "        plt.plot(power-mgc_power, label=name)\n",
    "   \n",
    "    plt.xlabel('Dimensions')\n",
    "    plt.ylabel('Power')\n",
    "    plt.legend()\n",
    "    plt.gca().set_xlim(1, mgc_power.shape[0]+1)\n",
    "    plt.xticks(np.arange(1, mgc_power.shape[0]+1))\n",
    "    plt.title('Power \\n Data: {} Simulation, 100 samples, noise=0'.format(simulation_name))\n",
    "    plt.show()"
   ]
  },
  {
   "cell_type": "code",
   "execution_count": 12,
   "metadata": {},
   "outputs": [
    {
     "name": "stdout",
     "output_type": "stream",
     "text": [
      "MGC finished\n",
      "MCorr finished\n",
      "DCorr finished\n",
      "Mantel finished\n",
      "RV Corr finished\n",
      "CPU times: user 29min 56s, sys: 25.5 s, total: 30min 21s\n",
      "Wall time: 31min 2s\n"
     ]
    }
   ],
   "source": [
    "%%time\n",
    "power_results = compute_all_power(two_parab_sim, 20)"
   ]
  },
  {
   "cell_type": "code",
   "execution_count": 13,
   "metadata": {},
   "outputs": [
    {
     "data": {
      "text/plain": [
       "{'DCorr': array([1.   , 0.982, 0.807, 0.492, 0.369, 0.243, 0.236, 0.218, 0.172,\n",
       "        0.162, 0.182, 0.12 , 0.191, 0.155, 0.114, 0.124, 0.112, 0.096,\n",
       "        0.103, 0.071]),\n",
       " 'MCorr': array([1.   , 0.96 , 0.555, 0.379, 0.248, 0.241, 0.18 , 0.162, 0.102,\n",
       "        0.097, 0.122, 0.093, 0.117, 0.114, 0.085, 0.109, 0.103, 0.088,\n",
       "        0.075, 0.071]),\n",
       " 'MGC': array([1.   , 1.   , 1.   , 1.   , 0.973, 0.89 , 0.794, 0.683, 0.589,\n",
       "        0.497, 0.406, 0.38 , 0.334, 0.306, 0.275, 0.231, 0.203, 0.209,\n",
       "        0.206, 0.156]),\n",
       " 'Mantel': array([1.   , 1.   , 1.   , 0.998, 0.984, 0.927, 0.875, 0.846, 0.779,\n",
       "        0.753, 0.732, 0.722, 0.62 , 0.603, 0.503, 0.553, 0.51 , 0.509,\n",
       "        0.542, 0.454]),\n",
       " 'RV Corr': array([1.   , 0.989, 0.886, 0.828, 0.685, 0.624, 0.515, 0.526, 0.443,\n",
       "        0.404, 0.364, 0.33 , 0.347, 0.312, 0.306, 0.276, 0.277, 0.252,\n",
       "        0.247, 0.21 ])}"
      ]
     },
     "execution_count": 13,
     "metadata": {},
     "output_type": "execute_result"
    }
   ],
   "source": [
    "power_results"
   ]
  },
  {
   "cell_type": "code",
   "execution_count": 15,
   "metadata": {},
   "outputs": [
    {
     "data": {
      "image/png": "[encoded data removed]",
      "text/plain": [
       "<matplotlib.figure.Figure at 0x1a129ecdd8>"
      ]
     },
     "metadata": {},
     "output_type": "display_data"
    },
    {
     "name": "stdout",
     "output_type": "stream",
     "text": [
      "CPU times: user 161 ms, sys: 17.2 ms, total: 178 ms\n",
      "Wall time: 176 ms\n"
     ]
    }
   ],
   "source": [
    "%%time\n",
    "plot_power_curve(power_results, 'Two Parabolas')"
   ]
  },
  {
   "cell_type": "code",
   "execution_count": 16,
   "metadata": {},
   "outputs": [
    {
     "name": "stderr",
     "output_type": "stream",
     "text": [
      "/anaconda3/lib/python3.6/site-packages/ipykernel_launcher.py:1: ResourceWarning: unclosed file <_io.BufferedWriter name='../../NeuroData/power_curve_two_parabolas.pkl'>\n",
      "  \"\"\"Entry point for launching an IPython kernel.\n"
     ]
    }
   ],
   "source": [
    "pickle.dump(power_results, open('../../NeuroData/power_curve_two_parabolas.pkl', 'wb'))"
   ]
  }
 ],
 "metadata": {
  "kernelspec": {
   "display_name": "Python 3",
   "language": "python",
   "name": "python3"
  },
  "language_info": {
   "codemirror_mode": {
    "name": "ipython",
    "version": 3
   },
   "file_extension": ".py",
   "mimetype": "text/x-python",
   "name": "python",
   "nbconvert_exporter": "python",
   "pygments_lexer": "ipython3",
   "version": "3.6.4"
  }
 },
 "nbformat": 4,
 "nbformat_minor": 2
}
