{
 "cells": [
  {
   "cell_type": "code",
   "execution_count": 2,
   "metadata": {},
   "outputs": [],
   "source": [
    "import numpy as np\n",
    "from scipy.spatial.distance import pdist, squareform\n",
    "import matplotlib.pyplot as plt\n",
    "import pickle"
   ]
  },
  {
   "cell_type": "code",
   "execution_count": 8,
   "metadata": {},
   "outputs": [],
   "source": [
    "import sys\n",
    "module_path = '/Users/junhaoxiong 1/Documents/Projects/mgcpy'\n",
    "if module_path not in sys.path:\n",
    "    sys.path.append(module_path)\n",
    "from mgcpy.independence_tests.dcorr import DCorr\n",
    "from mgcpy.benchmarks.power import power\n",
    "from mgcpy.benchmarks.simulations import *\n",
    "from mgcpy.independence_tests.mgc.mgc import MGC\n",
    "from mgcpy.independence_tests.rv_corr import RVCorr\n",
    "from mgcpy.independence_tests.hhg import HHG\n",
    "from mgcpy.independence_tests.kendall_spearman import KendallSpearman"
   ]
  },
  {
   "cell_type": "code",
   "execution_count": 4,
   "metadata": {},
   "outputs": [],
   "source": [
    "def compute_distance_matrix(data_matrix_X, data_matrix_Y):\n",
    "    # obtain the pairwise distance matrix for X and Y\n",
    "    dist_mtx_X = squareform(pdist(data_matrix_X, metric='euclidean'))\n",
    "    dist_mtx_Y = squareform(pdist(data_matrix_Y, metric='euclidean'))\n",
    "    return (dist_mtx_X, dist_mtx_Y)"
   ]
  },
  {
   "cell_type": "code",
   "execution_count": 5,
   "metadata": {},
   "outputs": [],
   "source": [
    "def power_vs_dimension(independence_test, simulation_type, dim_range):\n",
    "    '''\n",
    "    Generate power of an independence test given a simulation for a range of dimensions\n",
    "    \n",
    "    :param independence_test: an independence_test object\n",
    "    :param simulation_type: a simulation function from mgcpy.benchmarks.simulations\n",
    "    :param dim_range: the upper end of the range of dimension\n",
    "    :return: power for each dimension\n",
    "    '''\n",
    "    estimated_power = np.zeros(dim_range)\n",
    "    for d in range(1, dim_range+1):\n",
    "        estimated_power[d-1] = power(independence_test, simulation_type, num_samples=100, num_dimensions=d)\n",
    "    return estimated_power"
   ]
  },
  {
   "cell_type": "code",
   "execution_count": 6,
   "metadata": {},
   "outputs": [],
   "source": [
    "def compute_all_power(simulation_type, dim_range):\n",
    "    '''\n",
    "    Compute power for each independence test for each dimension in a specified range \n",
    "    '''\n",
    "\n",
    "    '''\n",
    "    Initialize all independence test objects\n",
    "    Data matrices initialized to np.nan, because in power computation each repeats involves generating new samples\n",
    "    '''\n",
    "    mcorr = DCorr(data_matrix_X=np.nan, data_matrix_Y=np.nan,\n",
    "                  compute_distance_matrix=compute_distance_matrix, corr_type='mcorr')\n",
    "    dcorr = DCorr(data_matrix_X=np.nan, data_matrix_Y=np.nan,\n",
    "                  compute_distance_matrix=compute_distance_matrix, corr_type='dcorr')\n",
    "    mantel = DCorr(data_matrix_X=np.nan, data_matrix_Y=np.nan,\n",
    "                  compute_distance_matrix=compute_distance_matrix, corr_type='mantel')\n",
    "    mgc = MGC(data_matrix_X=np.nan, data_matrix_Y=np.nan, compute_distance_matrix=compute_distance_matrix)\n",
    "    rv_corr = RVCorr(data_matrix_X=np.nan, data_matrix_Y=np.nan, compute_distance_matrix=compute_distance_matrix)\n",
    "    hhg = HHG(data_matrix_X=np.nan, data_matrix_Y=np.nan, compute_distance_matrix=compute_distance_matrix)\n",
    "    \n",
    "    independence_tests = {'MGC': mgc, 'MCorr': mcorr, 'DCorr': dcorr, 'Mantel': mantel, 'RV Corr': rv_corr}#, 'HHG': hhg}\n",
    "    power_results = {}\n",
    "    \n",
    "    # compute power for each test for each dimension\n",
    "    for name, test in independence_tests.items():\n",
    "        power = power_vs_dimension(test, simulation_type, dim_range)\n",
    "        power_results[name] = power\n",
    "        print('{} finished'.format(name))\n",
    "    \n",
    "    return power_results"
   ]
  },
  {
   "cell_type": "code",
   "execution_count": 7,
   "metadata": {},
   "outputs": [],
   "source": [
    "def plot_power_curve(power_results, simulation_name):\n",
    "    '''\n",
    "    Plot the power of each independence test relative to mgc\n",
    "    '''\n",
    "    mgc_power = power_results['MGC']\n",
    "\n",
    "    for name, power in power_results.items():     \n",
    "        plt.plot(power-mgc_power, label=name)\n",
    "   \n",
    "    plt.xlabel('Dimensions')\n",
    "    plt.ylabel('Power Relative to MGC')\n",
    "    plt.legend()\n",
    "    plt.gca().set_xlim(1, mgc_power.shape[0]+1)\n",
    "    plt.xticks(np.arange(1, mgc_power.shape[0]+1))\n",
    "    plt.title('Power \\n Data: {} Simulation, 100 samples, noise=0'.format(simulation_name))\n",
    "    plt.show()"
   ]
  },
  {
   "cell_type": "code",
   "execution_count": 17,
   "metadata": {},
   "outputs": [
    {
     "name": "stdout",
     "output_type": "stream",
     "text": [
      "MGC finished\n",
      "MCorr finished\n",
      "DCorr finished\n",
      "Mantel finished\n",
      "RV Corr finished\n",
      "CPU times: user 13min 56s, sys: 5.14 s, total: 14min 1s\n",
      "Wall time: 14min\n"
     ]
    }
   ],
   "source": [
    "%%time\n",
    "power_results = compute_all_power(sin_sim, 10)"
   ]
  },
  {
   "cell_type": "code",
   "execution_count": 16,
   "metadata": {},
   "outputs": [
    {
     "name": "stderr",
     "output_type": "stream",
     "text": [
      "/anaconda3/lib/python3.6/site-packages/ipykernel_launcher.py:2: ResourceWarning: unclosed file <_io.BufferedWriter name='../../NeuroData/power_curve_root.pkl'>\n",
      "  \n"
     ]
    }
   ],
   "source": [
    "#power_results = pickle.load(open('../../NeuroData/power_curve_root.pkl', 'rb'))\n",
    "#pickle.dump(power_results, open('../../NeuroData/power_curve_root.pkl', 'wb'))"
   ]
  },
  {
   "cell_type": "code",
   "execution_count": 18,
   "metadata": {},
   "outputs": [
    {
     "data": {
      "text/plain": [
       "{'DCorr': array([0.658, 0.395, 0.273, 0.214, 0.143, 0.102, 0.056, 0.045, 0.039,\n",
       "        0.045]),\n",
       " 'MCorr': array([0.721, 0.407, 0.268, 0.248, 0.109, 0.08 , 0.058, 0.05 , 0.049,\n",
       "        0.041]),\n",
       " 'MGC': array([1.   , 0.951, 0.288, 0.225, 0.087, 0.082, 0.061, 0.034, 0.042,\n",
       "        0.047]),\n",
       " 'Mantel': array([0.505, 0.245, 0.165, 0.144, 0.098, 0.06 , 0.041, 0.051, 0.051,\n",
       "        0.037]),\n",
       " 'RV Corr': array([0.345, 0.32 , 0.228, 0.184, 0.088, 0.064, 0.057, 0.039, 0.041,\n",
       "        0.047])}"
      ]
     },
     "execution_count": 18,
     "metadata": {},
     "output_type": "execute_result"
    }
   ],
   "source": [
    "power_results"
   ]
  },
  {
   "cell_type": "code",
   "execution_count": 20,
   "metadata": {},
   "outputs": [
    {
     "data": {
      "image/png": "[encoded data removed]",
      "text/plain": [
       "<matplotlib.figure.Figure at 0x10b443160>"
      ]
     },
     "metadata": {},
     "output_type": "display_data"
    },
    {
     "name": "stdout",
     "output_type": "stream",
     "text": [
      "CPU times: user 129 ms, sys: 13.6 ms, total: 143 ms\n",
      "Wall time: 142 ms\n"
     ]
    }
   ],
   "source": [
    "%%time\n",
    "plot_power_curve(power_results, 'Sine (default)')"
   ]
  },
  {
   "cell_type": "markdown",
   "metadata": {},
   "source": [
    "## Results for simulations\n",
    "* ones that got the correct power curve\n",
    "    * quadratic, w shape, two parabolas, fourth root, \n",
    "* ones that are incorrect\n",
    "    * step function, spiral, sine(?)"
   ]
  },
  {
   "cell_type": "code",
   "execution_count": null,
   "metadata": {},
   "outputs": [],
   "source": []
  }
 ],
 "metadata": {
  "kernelspec": {
   "display_name": "Python 3",
   "language": "python",
   "name": "python3"
  },
  "language_info": {
   "codemirror_mode": {
    "name": "ipython",
    "version": 3
   },
   "file_extension": ".py",
   "mimetype": "text/x-python",
   "name": "python",
   "nbconvert_exporter": "python",
   "pygments_lexer": "ipython3",
   "version": "3.6.4"
  }
 },
 "nbformat": 4,
 "nbformat_minor": 2
}
