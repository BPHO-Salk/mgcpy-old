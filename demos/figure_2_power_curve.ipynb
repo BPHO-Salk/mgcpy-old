{
 "cells": [
  {
   "cell_type": "code",
   "execution_count": 1,
   "metadata": {},
   "outputs": [],
   "source": [
    "import numpy as np\n",
    "from scipy.spatial.distance import pdist, squareform\n",
    "import matplotlib.pyplot as plt"
   ]
  },
  {
   "cell_type": "code",
   "execution_count": 2,
   "metadata": {},
   "outputs": [],
   "source": [
    "import sys\n",
    "module_path = '/Users/junhaoxiong 1/Documents/Projects/mgcpy'\n",
    "if module_path not in sys.path:\n",
    "    sys.path.append(module_path)\n",
    "from mgcpy.independence_tests.dcorr import DCorr\n",
    "from mgcpy.benchmarks.power import power\n",
    "from mgcpy.benchmarks.simulations import linear_sim, quad_sim, ubern_sim, exp_sim, w_sim, joint_sim, spiral_sim\n",
    "from mgcpy.independence_tests.mgc.mgc import MGC\n",
    "from mgcpy.independence_tests.rv_corr import RVCorr"
   ]
  },
  {
   "cell_type": "code",
   "execution_count": 3,
   "metadata": {},
   "outputs": [],
   "source": [
    "def compute_distance_matrix(data_matrix_X, data_matrix_Y):\n",
    "    # obtain the pairwise distance matrix for X and Y\n",
    "    dist_mtx_X = squareform(pdist(data_matrix_X, metric='euclidean'))\n",
    "    dist_mtx_Y = squareform(pdist(data_matrix_Y, metric='euclidean'))\n",
    "    return (dist_mtx_X, dist_mtx_Y)"
   ]
  },
  {
   "cell_type": "code",
   "execution_count": 4,
   "metadata": {},
   "outputs": [],
   "source": [
    "def power_vs_dimension(independence_test, simulation_type, dim_range):\n",
    "    '''\n",
    "    Generate power of an independence test given a simulation for a range of dimensions\n",
    "    \n",
    "    :param independence_test: an independence_test object\n",
    "    :param simulation_type: a simulation function from mgcpy.benchmarks.simulations\n",
    "    :param dim_range: the upper end of the range of dimension\n",
    "    :return: power for each dimension\n",
    "    '''\n",
    "    estimated_power = np.zeros(dim_range)\n",
    "    for d in range(1, dim_range+1):\n",
    "        estimated_power[d-1] = power(independence_test, simulation_type, num_samples=100, num_dimensions=d)\n",
    "    return estimated_power"
   ]
  },
  {
   "cell_type": "code",
   "execution_count": 5,
   "metadata": {},
   "outputs": [],
   "source": [
    "def compute_all_power(simulation_type, dim_range):\n",
    "    '''\n",
    "    Plot power curve for each independence test as dimension increases \n",
    "    '''\n",
    "\n",
    "    '''\n",
    "    Initialize all independence test objects\n",
    "    Data matrices initialized to np.nan, because in power computation each repeats involves generating new samples\n",
    "    '''\n",
    "    mcorr = DCorr(data_matrix_X=np.nan, data_matrix_Y=np.nan,\n",
    "                  compute_distance_matrix=compute_distance_matrix, corr_type='mcorr')\n",
    "    dcorr = DCorr(data_matrix_X=np.nan, data_matrix_Y=np.nan,\n",
    "                  compute_distance_matrix=compute_distance_matrix, corr_type='dcorr')\n",
    "    mantel = DCorr(data_matrix_X=np.nan, data_matrix_Y=np.nan,\n",
    "                  compute_distance_matrix=compute_distance_matrix, corr_type='mantel')\n",
    "    mgc = MGC(data_matrix_X=np.nan, data_matrix_Y=np.nan, compute_distance_matrix=compute_distance_matrix)\n",
    "    rv_corr = RVCorr(data_matrix_X=np.nan, data_matrix_Y=np.nan, compute_distance_matrix=compute_distance_matrix)\n",
    "    \n",
    "    independence_tests = {'MGC': mgc, 'MCorr': mcorr, 'DCorr': dcorr, 'Mantel': mantel, 'RV Corr': rv_corr}\n",
    "    power_results = {}\n",
    "    \n",
    "    for name, test in independence_tests.items():\n",
    "        power = power_vs_dimension(test, simulation_type, dim_range)\n",
    "        power_results[name] = power\n",
    "    \n",
    "    return power_results"
   ]
  },
  {
   "cell_type": "code",
   "execution_count": 9,
   "metadata": {},
   "outputs": [],
   "source": [
    "def plot_power_curve(power_results, simulation_name):\n",
    "    '''\n",
    "    Plot the power of each independence test relative to mgc\n",
    "    '''\n",
    "    mgc_power = power_results['MGC']\n",
    "\n",
    "    for name, power in power_results.items():     \n",
    "        plt.plot(power-mgc_power, label=name)\n",
    "   \n",
    "    plt.xlabel('Dimensions')\n",
    "    plt.ylabel('Power')\n",
    "    plt.legend()\n",
    "    plt.gca().set_xlim(1, mgc_power.shape[0]+1)\n",
    "    plt.xticks(np.arange(1, mgc_power.shape[0]+1))\n",
    "    plt.title('Power \\n Data: {} Simulation, 100 samples, noise=0'.format(simulation_name))\n",
    "    plt.show()"
   ]
  },
  {
   "cell_type": "code",
   "execution_count": 7,
   "metadata": {},
   "outputs": [
    {
     "name": "stdout",
     "output_type": "stream",
     "text": [
      "CPU times: user 4min 11s, sys: 1.58 s, total: 4min 12s\n",
      "Wall time: 4min 14s\n"
     ]
    }
   ],
   "source": [
    "%%time\n",
    "power_results = compute_all_power(quad_sim, 3)"
   ]
  },
  {
   "cell_type": "code",
   "execution_count": 11,
   "metadata": {},
   "outputs": [
    {
     "data": {
      "text/plain": [
       "{'DCorr': array([1., 1., 1.]),\n",
       " 'MCorr': array([1., 1., 1.]),\n",
       " 'MGC': array([1., 1., 1.]),\n",
       " 'Mantel': array([1., 1., 1.]),\n",
       " 'RV Corr': array([1.   , 0.998, 0.925])}"
      ]
     },
     "execution_count": 11,
     "metadata": {},
     "output_type": "execute_result"
    }
   ],
   "source": [
    "power_results"
   ]
  },
  {
   "cell_type": "code",
   "execution_count": 12,
   "metadata": {},
   "outputs": [
    {
     "data": {
      "image/png": "[encoded data removed]",
      "text/plain": [
       "<matplotlib.figure.Figure at 0x113672da0>"
      ]
     },
     "metadata": {},
     "output_type": "display_data"
    },
    {
     "name": "stdout",
     "output_type": "stream",
     "text": [
      "CPU times: user 208 ms, sys: 39.7 ms, total: 248 ms\n",
      "Wall time: 311 ms\n"
     ]
    }
   ],
   "source": [
    "%%time\n",
    "plot_power_curve(power_results, 'Quadratic')"
   ]
  }
 ],
 "metadata": {
  "kernelspec": {
   "display_name": "Python 3",
   "language": "python",
   "name": "python3"
  },
  "language_info": {
   "codemirror_mode": {
    "name": "ipython",
    "version": 3
   },
   "file_extension": ".py",
   "mimetype": "text/x-python",
   "name": "python",
   "nbconvert_exporter": "python",
   "pygments_lexer": "ipython3",
   "version": "3.6.4"
  }
 },
 "nbformat": 4,
 "nbformat_minor": 2
}
