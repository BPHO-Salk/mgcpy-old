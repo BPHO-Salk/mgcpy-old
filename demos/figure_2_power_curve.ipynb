{
 "cells": [
  {
   "cell_type": "code",
   "execution_count": 1,
   "metadata": {},
   "outputs": [],
   "source": [
    "import numpy as np\n",
    "from scipy.spatial.distance import pdist, squareform\n",
    "import matplotlib.pyplot as plt\n",
    "import pickle"
   ]
  },
  {
   "cell_type": "code",
   "execution_count": 11,
   "metadata": {},
   "outputs": [],
   "source": [
    "import sys\n",
    "module_path = '/Users/junhaoxiong 1/Documents/Projects/mgcpy'\n",
    "if module_path not in sys.path:\n",
    "    sys.path.append(module_path)\n",
    "from mgcpy.independence_tests.dcorr import DCorr\n",
    "from mgcpy.benchmarks.power import power\n",
    "from mgcpy.benchmarks.simulations import linear_sim, quad_sim, ubern_sim, exp_sim, w_sim, joint_sim, spiral_sim, two_parab_sim\n",
    "from mgcpy.independence_tests.mgc.mgc import MGC\n",
    "from mgcpy.independence_tests.rv_corr import RVCorr\n",
    "from mgcpy.independence_tests.hhg import HHG\n",
    "from mgcpy.independence_tests.kendall_spearman import KendallSpearman"
   ]
  },
  {
   "cell_type": "code",
   "execution_count": 3,
   "metadata": {},
   "outputs": [],
   "source": [
    "def compute_distance_matrix(data_matrix_X, data_matrix_Y):\n",
    "    # obtain the pairwise distance matrix for X and Y\n",
    "    dist_mtx_X = squareform(pdist(data_matrix_X, metric='euclidean'))\n",
    "    dist_mtx_Y = squareform(pdist(data_matrix_Y, metric='euclidean'))\n",
    "    return (dist_mtx_X, dist_mtx_Y)"
   ]
  },
  {
   "cell_type": "code",
   "execution_count": 4,
   "metadata": {},
   "outputs": [],
   "source": [
    "def power_vs_dimension(independence_test, simulation_type, dim_range):\n",
    "    '''\n",
    "    Generate power of an independence test given a simulation for a range of dimensions\n",
    "    \n",
    "    :param independence_test: an independence_test object\n",
    "    :param simulation_type: a simulation function from mgcpy.benchmarks.simulations\n",
    "    :param dim_range: the upper end of the range of dimension\n",
    "    :return: power for each dimension\n",
    "    '''\n",
    "    estimated_power = np.zeros(dim_range)\n",
    "    for d in range(1, dim_range+1):\n",
    "        estimated_power[d-1] = power(independence_test, simulation_type, num_samples=100, num_dimensions=d)\n",
    "    return estimated_power"
   ]
  },
  {
   "cell_type": "code",
   "execution_count": 5,
   "metadata": {},
   "outputs": [],
   "source": [
    "def compute_all_power(simulation_type, dim_range):\n",
    "    '''\n",
    "    Compute power for each independence test for each dimension in a specified range \n",
    "    '''\n",
    "\n",
    "    '''\n",
    "    Initialize all independence test objects\n",
    "    Data matrices initialized to np.nan, because in power computation each repeats involves generating new samples\n",
    "    '''\n",
    "    mcorr = DCorr(data_matrix_X=np.nan, data_matrix_Y=np.nan,\n",
    "                  compute_distance_matrix=compute_distance_matrix, corr_type='mcorr')\n",
    "    dcorr = DCorr(data_matrix_X=np.nan, data_matrix_Y=np.nan,\n",
    "                  compute_distance_matrix=compute_distance_matrix, corr_type='dcorr')\n",
    "    mantel = DCorr(data_matrix_X=np.nan, data_matrix_Y=np.nan,\n",
    "                  compute_distance_matrix=compute_distance_matrix, corr_type='mantel')\n",
    "    mgc = MGC(data_matrix_X=np.nan, data_matrix_Y=np.nan, compute_distance_matrix=compute_distance_matrix)\n",
    "    rv_corr = RVCorr(data_matrix_X=np.nan, data_matrix_Y=np.nan, compute_distance_matrix=compute_distance_matrix)\n",
    "    hhg = HHG(data_matrix_X=np.nan, data_matrix_Y=np.nan, compute_distance_matrix=compute_distance_matrix)\n",
    "    \n",
    "    independence_tests = {'MGC': mgc, 'MCorr': mcorr, 'DCorr': dcorr, 'Mantel': mantel, 'RV Corr': rv_corr} \n",
    "                          #'HHG': hhg, 'Kendall Spearman': ks}\n",
    "    power_results = {}\n",
    "    \n",
    "    # compute power for each test for each dimension\n",
    "    for name, test in independence_tests.items():\n",
    "        power = power_vs_dimension(test, simulation_type, dim_range)\n",
    "        power_results[name] = power\n",
    "        print('{} finished'.format(name))\n",
    "    \n",
    "    return power_results"
   ]
  },
  {
   "cell_type": "code",
   "execution_count": 17,
   "metadata": {},
   "outputs": [],
   "source": [
    "def plot_power_curve(power_results, simulation_name):\n",
    "    '''\n",
    "    Plot the power of each independence test relative to mgc\n",
    "    '''\n",
    "    mgc_power = power_results['MGC']\n",
    "\n",
    "    for name, power in power_results.items():     \n",
    "        plt.plot(power-mgc_power, label=name)\n",
    "   \n",
    "    plt.xlabel('Dimensions')\n",
    "    plt.ylabel('Power Relative to MGC')\n",
    "    plt.legend()\n",
    "    plt.gca().set_xlim(1, mgc_power.shape[0]+1)\n",
    "    plt.xticks(np.arange(1, mgc_power.shape[0]+1))\n",
    "    plt.title('Power \\n Data: {} Simulation, 100 samples, noise=0'.format(simulation_name))\n",
    "    plt.show()"
   ]
  },
  {
   "cell_type": "code",
   "execution_count": 21,
   "metadata": {},
   "outputs": [
    {
     "name": "stdout",
     "output_type": "stream",
     "text": [
      "MGC finished\n",
      "MCorr finished\n",
      "DCorr finished\n",
      "Mantel finished\n",
      "RV Corr finished\n",
      "CPU times: user 29min 6s, sys: 23 s, total: 29min 29s\n",
      "Wall time: 29min 47s\n"
     ]
    }
   ],
   "source": [
    "%%time\n",
    "power_results = compute_all_power(w_sim, 20)"
   ]
  },
  {
   "cell_type": "code",
   "execution_count": 22,
   "metadata": {},
   "outputs": [
    {
     "data": {
      "text/plain": [
       "{'DCorr': array([1.   , 0.993, 0.852, 0.71 , 0.499, 0.392, 0.38 , 0.328, 0.342,\n",
       "        0.278, 0.212, 0.214, 0.265, 0.227, 0.211, 0.209, 0.158, 0.213,\n",
       "        0.164, 0.166]),\n",
       " 'MCorr': array([1.   , 0.928, 0.632, 0.478, 0.367, 0.306, 0.267, 0.21 , 0.199,\n",
       "        0.173, 0.194, 0.167, 0.16 , 0.159, 0.123, 0.132, 0.132, 0.102,\n",
       "        0.113, 0.12 ]),\n",
       " 'MGC': array([1.   , 1.   , 1.   , 0.974, 0.909, 0.868, 0.848, 0.791, 0.745,\n",
       "        0.702, 0.608, 0.586, 0.561, 0.507, 0.468, 0.478, 0.403, 0.388,\n",
       "        0.405, 0.349]),\n",
       " 'Mantel': array([0.949, 1.   , 0.996, 0.97 , 0.908, 0.837, 0.741, 0.737, 0.619,\n",
       "        0.573, 0.52 , 0.487, 0.438, 0.448, 0.453, 0.351, 0.377, 0.36 ,\n",
       "        0.38 , 0.303]),\n",
       " 'RV Corr': array([0.864, 0.885, 0.729, 0.668, 0.541, 0.488, 0.451, 0.436, 0.38 ,\n",
       "        0.374, 0.35 , 0.326, 0.354, 0.297, 0.318, 0.257, 0.263, 0.264,\n",
       "        0.23 , 0.196])}"
      ]
     },
     "execution_count": 22,
     "metadata": {},
     "output_type": "execute_result"
    }
   ],
   "source": [
    "power_results"
   ]
  },
  {
   "cell_type": "code",
   "execution_count": 19,
   "metadata": {},
   "outputs": [
    {
     "name": "stderr",
     "output_type": "stream",
     "text": [
      "/anaconda3/lib/python3.6/site-packages/ipykernel_launcher.py:1: ResourceWarning: unclosed file <_io.BufferedReader name='../../NeuroData/power_curve_quadratic.pkl'>\n",
      "  \"\"\"Entry point for launching an IPython kernel.\n"
     ]
    }
   ],
   "source": [
    "#power_results = pickle.load(open('../../NeuroData/power_curve_quadratic.pkl', 'rb'))"
   ]
  },
  {
   "cell_type": "code",
   "execution_count": 23,
   "metadata": {},
   "outputs": [
    {
     "data": {
      "image/png": "[encoded data removed]",
      "text/plain": [
       "<matplotlib.figure.Figure at 0x1a1cf98be0>"
      ]
     },
     "metadata": {},
     "output_type": "display_data"
    },
    {
     "name": "stdout",
     "output_type": "stream",
     "text": [
      "CPU times: user 161 ms, sys: 34.6 ms, total: 196 ms\n",
      "Wall time: 198 ms\n"
     ]
    }
   ],
   "source": [
    "%%time\n",
    "plot_power_curve(power_results, 'W Shape')"
   ]
  },
  {
   "cell_type": "code",
   "execution_count": 24,
   "metadata": {},
   "outputs": [
    {
     "name": "stderr",
     "output_type": "stream",
     "text": [
      "/anaconda3/lib/python3.6/site-packages/ipykernel_launcher.py:1: ResourceWarning: unclosed file <_io.BufferedWriter name='../../NeuroData/power_curve_W.pkl'>\n",
      "  \"\"\"Entry point for launching an IPython kernel.\n"
     ]
    }
   ],
   "source": [
    "pickle.dump(power_results, open('../../NeuroData/power_curve_W.pkl', 'wb'))"
   ]
  },
  {
   "cell_type": "code",
   "execution_count": null,
   "metadata": {},
   "outputs": [],
   "source": []
  }
 ],
 "metadata": {
  "kernelspec": {
   "display_name": "Python 3",
   "language": "python",
   "name": "python3"
  },
  "language_info": {
   "codemirror_mode": {
    "name": "ipython",
    "version": 3
   },
   "file_extension": ".py",
   "mimetype": "text/x-python",
   "name": "python",
   "nbconvert_exporter": "python",
   "pygments_lexer": "ipython3",
   "version": "3.6.4"
  }
 },
 "nbformat": 4,
 "nbformat_minor": 2
}
