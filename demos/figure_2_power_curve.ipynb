{
 "cells": [
  {
   "cell_type": "code",
   "execution_count": 20,
   "metadata": {},
   "outputs": [],
   "source": [
    "import numpy as np\n",
    "from scipy.spatial.distance import pdist, squareform\n",
    "import matplotlib.pyplot as plt\n",
    "import pickle"
   ]
  },
  {
   "cell_type": "code",
   "execution_count": 2,
   "metadata": {},
   "outputs": [],
   "source": [
    "import sys\n",
    "module_path = '/Users/junhaoxiong 1/Documents/Projects/mgcpy'\n",
    "if module_path not in sys.path:\n",
    "    sys.path.append(module_path)\n",
    "from mgcpy.independence_tests.dcorr import DCorr\n",
    "from mgcpy.benchmarks.power import power\n",
    "from mgcpy.benchmarks.simulations import linear_sim, quad_sim, ubern_sim, exp_sim, w_sim, joint_sim, spiral_sim\n",
    "from mgcpy.independence_tests.mgc.mgc import MGC\n",
    "from mgcpy.independence_tests.rv_corr import RVCorr\n",
    "from mgcpy.independence_tests.hhg import HHG\n",
    "from mgcpy.independence_tests.kendall_spearman import KendallSpearman"
   ]
  },
  {
   "cell_type": "code",
   "execution_count": 3,
   "metadata": {},
   "outputs": [],
   "source": [
    "def compute_distance_matrix(data_matrix_X, data_matrix_Y):\n",
    "    # obtain the pairwise distance matrix for X and Y\n",
    "    dist_mtx_X = squareform(pdist(data_matrix_X, metric='euclidean'))\n",
    "    dist_mtx_Y = squareform(pdist(data_matrix_Y, metric='euclidean'))\n",
    "    return (dist_mtx_X, dist_mtx_Y)"
   ]
  },
  {
   "cell_type": "code",
   "execution_count": 4,
   "metadata": {},
   "outputs": [],
   "source": [
    "def power_vs_dimension(independence_test, simulation_type, dim_range):\n",
    "    '''\n",
    "    Generate power of an independence test given a simulation for a range of dimensions\n",
    "    \n",
    "    :param independence_test: an independence_test object\n",
    "    :param simulation_type: a simulation function from mgcpy.benchmarks.simulations\n",
    "    :param dim_range: the upper end of the range of dimension\n",
    "    :return: power for each dimension\n",
    "    '''\n",
    "    estimated_power = np.zeros(dim_range)\n",
    "    for d in range(1, dim_range+1):\n",
    "        estimated_power[d-1] = power(independence_test, simulation_type, num_samples=100, num_dimensions=d)\n",
    "    return estimated_power"
   ]
  },
  {
   "cell_type": "code",
   "execution_count": 15,
   "metadata": {},
   "outputs": [],
   "source": [
    "def compute_all_power(simulation_type, dim_range):\n",
    "    '''\n",
    "    Plot power curve for each independence test as dimension increases \n",
    "    '''\n",
    "\n",
    "    '''\n",
    "    Initialize all independence test objects\n",
    "    Data matrices initialized to np.nan, because in power computation each repeats involves generating new samples\n",
    "    '''\n",
    "    mcorr = DCorr(data_matrix_X=np.nan, data_matrix_Y=np.nan,\n",
    "                  compute_distance_matrix=compute_distance_matrix, corr_type='mcorr')\n",
    "    dcorr = DCorr(data_matrix_X=np.nan, data_matrix_Y=np.nan,\n",
    "                  compute_distance_matrix=compute_distance_matrix, corr_type='dcorr')\n",
    "    mantel = DCorr(data_matrix_X=np.nan, data_matrix_Y=np.nan,\n",
    "                  compute_distance_matrix=compute_distance_matrix, corr_type='mantel')\n",
    "    mgc = MGC(data_matrix_X=np.nan, data_matrix_Y=np.nan, compute_distance_matrix=compute_distance_matrix)\n",
    "    rv_corr = RVCorr(data_matrix_X=np.nan, data_matrix_Y=np.nan, compute_distance_matrix=compute_distance_matrix)\n",
    "    hhg = HHG(data_matrix_X=np.nan, data_matrix_Y=np.nan, compute_distance_matrix=compute_distance_matrix)\n",
    "    ks = KendallSpearman(data_matrix_X=np.nan, data_matrix_Y=np.nan, compute_distance_matrix=compute_distance_matrix)\n",
    "    \n",
    "    independence_tests = {'MGC': mgc, 'MCorr': mcorr, 'DCorr': dcorr, 'Mantel': mantel, 'RV Corr': rv_corr} \n",
    "                          #'HHG': hhg, 'Kendall Spearman': ks}\n",
    "    power_results = {}\n",
    "    \n",
    "    for name, test in independence_tests.items():\n",
    "        power = power_vs_dimension(test, simulation_type, dim_range)\n",
    "        power_results[name] = power\n",
    "        print('{} finished'.format(name))\n",
    "    \n",
    "    return power_results"
   ]
  },
  {
   "cell_type": "code",
   "execution_count": 16,
   "metadata": {},
   "outputs": [],
   "source": [
    "def plot_power_curve(power_results, simulation_name):\n",
    "    '''\n",
    "    Plot the power of each independence test relative to mgc\n",
    "    '''\n",
    "    mgc_power = power_results['MGC']\n",
    "\n",
    "    for name, power in power_results.items():     \n",
    "        plt.plot(power-mgc_power, label=name)\n",
    "   \n",
    "    plt.xlabel('Dimensions')\n",
    "    plt.ylabel('Power')\n",
    "    plt.legend()\n",
    "    plt.gca().set_xlim(1, mgc_power.shape[0]+1)\n",
    "    plt.xticks(np.arange(1, mgc_power.shape[0]+1))\n",
    "    plt.title('Power \\n Data: {} Simulation, 100 samples, noise=0'.format(simulation_name))\n",
    "    plt.show()"
   ]
  },
  {
   "cell_type": "code",
   "execution_count": 17,
   "metadata": {},
   "outputs": [
    {
     "name": "stdout",
     "output_type": "stream",
     "text": [
      "MGC finished\n",
      "MCorr finished\n",
      "DCorr finished\n",
      "Mantel finished\n",
      "RV Corr finished\n",
      "CPU times: user 27min 26s, sys: 13 s, total: 27min 39s\n",
      "Wall time: 27min 33s\n"
     ]
    }
   ],
   "source": [
    "%%time\n",
    "power_results = compute_all_power(quad_sim, 20)"
   ]
  },
  {
   "cell_type": "code",
   "execution_count": 18,
   "metadata": {},
   "outputs": [
    {
     "data": {
      "text/plain": [
       "{'DCorr': array([1.   , 1.   , 1.   , 0.984, 0.808, 0.53 , 0.453, 0.331, 0.303,\n",
       "        0.269, 0.206, 0.17 , 0.205, 0.16 , 0.182, 0.113, 0.162, 0.153,\n",
       "        0.132, 0.133]),\n",
       " 'MCorr': array([1.   , 1.   , 0.999, 0.932, 0.692, 0.567, 0.336, 0.292, 0.227,\n",
       "        0.185, 0.188, 0.191, 0.136, 0.14 , 0.131, 0.143, 0.101, 0.133,\n",
       "        0.107, 0.096]),\n",
       " 'MGC': array([1.   , 1.   , 1.   , 1.   , 1.   , 1.   , 0.994, 0.969, 0.919,\n",
       "        0.879, 0.814, 0.748, 0.679, 0.633, 0.556, 0.524, 0.432, 0.43 ,\n",
       "        0.386, 0.372]),\n",
       " 'Mantel': array([1.   , 1.   , 1.   , 0.995, 0.986, 0.935, 0.878, 0.853, 0.793,\n",
       "        0.713, 0.653, 0.631, 0.611, 0.56 , 0.501, 0.507, 0.466, 0.52 ,\n",
       "        0.416, 0.416]),\n",
       " 'RV Corr': array([1.   , 0.999, 0.944, 0.847, 0.745, 0.635, 0.538, 0.519, 0.464,\n",
       "        0.481, 0.424, 0.404, 0.381, 0.356, 0.303, 0.321, 0.275, 0.341,\n",
       "        0.246, 0.254])}"
      ]
     },
     "execution_count": 18,
     "metadata": {},
     "output_type": "execute_result"
    }
   ],
   "source": [
    "power_results"
   ]
  },
  {
   "cell_type": "code",
   "execution_count": 19,
   "metadata": {},
   "outputs": [
    {
     "data": {
      "image/png": "[encoded data removed]",
      "text/plain": [
       "<matplotlib.figure.Figure at 0x10cea9748>"
      ]
     },
     "metadata": {},
     "output_type": "display_data"
    },
    {
     "name": "stdout",
     "output_type": "stream",
     "text": [
      "CPU times: user 152 ms, sys: 14.7 ms, total: 167 ms\n",
      "Wall time: 167 ms\n"
     ]
    }
   ],
   "source": [
    "%%time\n",
    "plot_power_curve(power_results, 'Quadratic')"
   ]
  },
  {
   "cell_type": "code",
   "execution_count": 22,
   "metadata": {},
   "outputs": [
    {
     "name": "stderr",
     "output_type": "stream",
     "text": [
      "/anaconda3/lib/python3.6/site-packages/ipykernel_launcher.py:1: ResourceWarning: unclosed file <_io.BufferedWriter name='../../NeuroData/power_curve_quadratic.pkl'>\n",
      "  \"\"\"Entry point for launching an IPython kernel.\n"
     ]
    }
   ],
   "source": [
    "pickle.dump(power_results, open('../../NeuroData/power_curve_quadratic.pkl', 'wb'))"
   ]
  },
  {
   "cell_type": "code",
   "execution_count": null,
   "metadata": {},
   "outputs": [],
   "source": []
  }
 ],
 "metadata": {
  "kernelspec": {
   "display_name": "Python 3",
   "language": "python",
   "name": "python3"
  },
  "language_info": {
   "codemirror_mode": {
    "name": "ipython",
    "version": 3
   },
   "file_extension": ".py",
   "mimetype": "text/x-python",
   "name": "python",
   "nbconvert_exporter": "python",
   "pygments_lexer": "ipython3",
   "version": "3.6.4"
  }
 },
 "nbformat": 4,
 "nbformat_minor": 2
}
