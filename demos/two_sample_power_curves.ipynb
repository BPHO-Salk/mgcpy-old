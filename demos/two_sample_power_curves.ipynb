{
 "cells": [
  {
   "cell_type": "code",
   "execution_count": 1,
   "metadata": {},
   "outputs": [
    {
     "name": "stderr",
     "output_type": "stream",
     "text": [
      "C:\\Anaconda\\lib\\site-packages\\h5py\\__init__.py:34: FutureWarning: Conversion of the second argument of issubdtype from `float` to `np.floating` is deprecated. In future, it will be treated as `np.float64 == np.dtype(float).type`.\n",
      "  from ._conv import register_converters as _register_converters\n"
     ]
    }
   ],
   "source": [
    "import numpy as np\n",
    "from scipy.spatial.distance import pdist, squareform\n",
    "import matplotlib.pyplot as plt\n",
    "import pickle\n",
    "from numpy import genfromtxt\n",
    "import pandas as pd\n",
    "from joblib import Parallel, delayed\n",
    "import multiprocessing as mp\n",
    "import scipy.io\n",
    "from tqdm import tqdm_notebook as tqdm\n",
    "import h5py\n",
    "import math"
   ]
  },
  {
   "cell_type": "code",
   "execution_count": 2,
   "metadata": {
    "collapsed": true
   },
   "outputs": [],
   "source": [
    "import sys\n",
    "module_path = '/Users/junhaoxiong 1/Documents/Projects/mgcpy'\n",
    "if module_path not in sys.path:\n",
    "    sys.path.append(module_path)\n",
    "from mgcpy.independence_tests.dcorr import DCorr\n",
    "from mgcpy.benchmarks.power_two_sample import power, power_given_data\n",
    "from mgcpy.benchmarks.simulations import *\n",
    "from mgcpy.independence_tests.mgc.mgc import MGC\n",
    "from mgcpy.independence_tests.rv_corr import RVCorr\n",
    "from mgcpy.independence_tests.hhg import HHG\n",
    "from mgcpy.independence_tests.kendall_spearman import KendallSpearman"
   ]
  },
  {
   "cell_type": "code",
   "execution_count": 3,
   "metadata": {
    "collapsed": true
   },
   "outputs": [],
   "source": [
    "simulations = {'joint_normal': (joint_sim, 4), 'sine_4pi': (sin_sim, 12), 'sine_16pi': (sin_sim, 13), 'multi_noise': (multi_noise_sim, 19),\n",
    "               'step': (step_sim, 5), 'spiral': (spiral_sim, 8), 'circle': (circle_sim, 16), 'ellipse': (circle_sim, 17), 'diamond': (square_sim, 18),\n",
    "               'log': (log_sim, 10), 'quadratic': (quad_sim, 6), 'w_shape': (w_sim, 7), 'two_parabolas': (two_parab_sim, 15), 'fourth_root': (root_sim, 11),\n",
    "               'multi_indept': (multi_indep_sim, 20), 'bernoulli': (ubern_sim, 9), 'square': (square_sim, 14),\n",
    "              'linear': (linear_sim, 1), 'exponential': (exp_sim, 2), 'cubic': (cub_sim, 3)}"
   ]
  },
  {
   "cell_type": "code",
   "execution_count": 4,
   "metadata": {
    "collapsed": true
   },
   "outputs": [],
   "source": [
    "def fill_params_dict_list_dimensions():\n",
    "    mcorr = DCorr(which_test='unbiased')\n",
    "    dcorr = DCorr(which_test='biased')\n",
    "    mantel = DCorr(which_test='mantel')\n",
    "    mgc = MGC()\n",
    "    rv_corr = RVCorr(which_test='rv')\n",
    "    hhg = HHG()\n",
    "    cca = RVCorr(which_test='cca')\n",
    "    # initialize additional test \n",
    "    # add the test that you wish to run in the `independence_tests` list\n",
    "    independence_tests = [] #[mgc, mcorr, dcorr, mantel, rv_corr, cca] \n",
    "        \n",
    "    params_dict_list = []\n",
    "    for sim_name, sim_func in simulations.items():\n",
    "        for test in independence_tests:\n",
    "            params_dict = {'independence_test': test, 'simulation_type': sim_func[1], 'dim': find_dim(sim_name)}\n",
    "            params_dict_list.append(params_dict)\n",
    "    return params_dict_list"
   ]
  },
  {
   "cell_type": "code",
   "execution_count": 5,
   "metadata": {
    "collapsed": true
   },
   "outputs": [],
   "source": [
    "def power_vs_angle_parallel(params_dict):\n",
    "    angles = [i for i in range(0, 360, 20)]\n",
    "    estimated_power = np.zeros(len(angles))\n",
    "    test = params_dict['independence_test']\n",
    "    sim = params_dict['simulation_type']\n",
    "    print(sim, test.get_name())\n",
    "    \n",
    "    for i in range(len(angles)):\n",
    "        estimated_power[i] = power(test, sim, num_samples=100, num_dimensions=1, theta=angles[i])\n",
    "    \n",
    "    np.savetxt('../mgcpy/benchmarks/python_power_curves_angle/{}_{}_angle.csv'.format(sim, test.get_name()), estimated_power, delimiter=',')\n",
    "    print('{} {} finished'.format(sim, test.get_name()))\n",
    "    return (params_dict, estimated_power)"
   ]
  },
  {
   "cell_type": "code",
   "execution_count": null,
   "metadata": {
    "collapsed": true
   },
   "outputs": [],
   "source": [
    "def fill_params_dict_list_angles():\n",
    "    mcorr = DCorr(which_test='unbiased')\n",
    "    dcorr = DCorr(which_test='biased')\n",
    "    mantel = DCorr(which_test='mantel')\n",
    "    mgc = MGC()\n",
    "    pearson = RVCorr(which_test='pearson')\n",
    "    independence_tests = [mgc, mcorr, dcorr, mantel, pearson]\n",
    "    \n",
    "    params_dict_list = []\n",
    "    for sim_name, sim_func in simulations.items():\n",
    "        for test in independence_tests:\n",
    "            params_dict = {'independence_test': test, 'simulation_type': sim_func[1]}\n",
    "            params_dict_list.append(params_dict)\n",
    "    return params_dict_list"
   ]
  },
  {
   "cell_type": "code",
   "execution_count": null,
   "metadata": {},
   "outputs": [],
   "source": [
    "%%time\n",
    "params_dict = fill_params_dict_list_angles()\n",
    "pool = mp.Pool(mp.cpu_count()-1)\n",
    "results = pool.map(power_vs_angle_parallel, params_dict)\n",
    "#results = pool.map(power_vs_sample_size_parallel, params_dict)"
   ]
  },
  {
   "cell_type": "code",
   "execution_count": null,
   "metadata": {
    "collapsed": true
   },
   "outputs": [],
   "source": [
    "# for any additional test, add the name of the test (as defined in the `get_name` function in the class)\n",
    "# in the list `tests` in the following function\n",
    "def plot_all_curves():\n",
    "    simulation_names = ['linear', 'exponential', 'cubic','joint_normal', 'step', 'quadratic', 'w_shape', 'spiral', \n",
    "                         'bernoulli', 'log', 'fourth_root', 'sine_4pi',\n",
    "                       'sine_16pi', 'square', 'two_parabolas', 'circle', 'ellipse', 'diamond', 'multi_noise',\n",
    "                        'multi_indept']\n",
    "        \n",
    "        \n",
    "    fig, ax = plt.subplots(nrows=4, ncols=5, figsize=(14,12))  \n",
    "    simulation_type = 0\n",
    "    for i, row in enumerate(ax):\n",
    "        for j, col in enumerate(row):\n",
    "            sim_name = simulation_names[simulation_type]\n",
    "            simulation_type += 1\n",
    "            tests = ['mgc', 'unbiased', 'biased', 'mantel', 'pearson']\n",
    "            dir_name = '../mgcpy/benchmarks/python_power_curves_angle/'\n",
    "            mgc_power = np.genfromtxt(dir_name + '{}_mgc_angle.csv'.format(simulation_type), delimiter=',')\n",
    "\n",
    "            for test in tests:\n",
    "                power = np.genfromtxt(dir_name + '{}_{}_angle.csv'.format(simulation_type, test), delimiter=',')\n",
    "                x_axis = [i for i in range(0,360,20)]\n",
    "                col.plot(x_axis, power-mgc_power, label=test)\n",
    "                col.set_ylim(-1, 1)\n",
    "                col.set_yticks([])\n",
    "                col.set_title(sim_name) \n",
    "    plt.legend()\n",
    "    plt.subplots_adjust(hspace=.75)\n",
    "    fig.suptitle('Power Relative to MGC of Changing Angle')\n",
    "    plt.savefig('power_curves_angles')"
   ]
  },
  {
   "cell_type": "code",
   "execution_count": null,
   "metadata": {
    "collapsed": true
   },
   "outputs": [],
   "source": [
    "plot_all_curves()"
   ]
  },
  {
   "cell_type": "code",
   "execution_count": null,
   "metadata": {
    "collapsed": true
   },
   "outputs": [],
   "source": []
  }
 ],
 "metadata": {
  "kernelspec": {
   "display_name": "Python 3",
   "language": "python",
   "name": "python3"
  },
  "language_info": {
   "codemirror_mode": {
    "name": "ipython",
    "version": 3
   },
   "file_extension": ".py",
   "mimetype": "text/x-python",
   "name": "python",
   "nbconvert_exporter": "python",
   "pygments_lexer": "ipython3",
   "version": "3.6.3"
  }
 },
 "nbformat": 4,
 "nbformat_minor": 2
}
