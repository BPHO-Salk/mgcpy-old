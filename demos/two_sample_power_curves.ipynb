{
 "cells": [
  {
   "cell_type": "code",
   "execution_count": 1,
   "metadata": {
    "collapsed": true
   },
   "outputs": [],
   "source": [
    "import numpy as np\n",
    "from scipy.spatial.distance import pdist, squareform\n",
    "import matplotlib.pyplot as plt\n",
    "import pickle\n",
    "from numpy import genfromtxt\n",
    "import pandas as pd\n",
    "from joblib import Parallel, delayed\n",
    "import multiprocessing as mp\n",
    "import scipy.io\n",
    "from tqdm import tqdm_notebook as tqdm\n",
    "import h5py\n",
    "import math"
   ]
  },
  {
   "cell_type": "code",
   "execution_count": 2,
   "metadata": {
    "collapsed": true
   },
   "outputs": [],
   "source": [
    "import sys\n",
    "from mgcpy.independence_tests.dcorr import DCorr\n",
    "from mgcpy.benchmarks.power_two_sample import power, power_given_data\n",
    "from mgcpy.benchmarks.simulations import *\n",
    "from mgcpy.independence_tests.mgc.mgc import MGC\n",
    "from mgcpy.independence_tests.rv_corr import RVCorr\n",
    "from mgcpy.independence_tests.hhg import HHG\n",
    "from mgcpy.independence_tests.kendall_spearman import KendallSpearman"
   ]
  },
  {
   "cell_type": "code",
   "execution_count": 3,
   "metadata": {
    "collapsed": true
   },
   "outputs": [],
   "source": [
    "simulations = {'joint_normal': (joint_sim, 4), 'sine_4pi': (sin_sim, 12), 'sine_16pi': (sin_sim, 13),\n",
    "               'step': (step_sim, 5), 'spiral': (spiral_sim, 8), 'circle': (circle_sim, 16), 'ellipse': (circle_sim, 17), 'diamond': (square_sim, 18),\n",
    "               'log': (log_sim, 10), 'quadratic': (quad_sim, 6), 'w_shape': (w_sim, 7), 'two_parabolas': (two_parab_sim, 15), 'fourth_root': (root_sim, 11),\n",
    "               'multi_indept': (multi_indep_sim, 20), 'bernoulli': (ubern_sim, 9), 'square': (square_sim, 14),\n",
    "              'linear': (linear_sim, 1), 'exponential': (exp_sim, 2), 'cubic': (cub_sim, 3)}"
   ]
  },
  {
   "cell_type": "code",
   "execution_count": 4,
   "metadata": {
    "collapsed": true
   },
   "outputs": [],
   "source": [
    "def power_vs_angle_parallel(params_dict):\n",
    "    angles = [i for i in range(0, 380, 20)]\n",
    "    estimated_power = np.zeros(len(angles))\n",
    "    test = params_dict['independence_test']\n",
    "    sim = params_dict['simulation_type']\n",
    "    print(sim, test.get_name())\n",
    "    \n",
    "    for i in range(len(angles)):\n",
    "        estimated_power[i] = power(test, sim, num_samples=100, num_dimensions=1, theta=angles[i])\n",
    "    \n",
    "    np.savetxt('{}_{}_angle.csv'.format(sim, test.get_name()), estimated_power, delimiter=',')\n",
    "    print('{} {} finished'.format(sim, test.get_name()))\n",
    "    return (params_dict, estimated_power)"
   ]
  },
  {
   "cell_type": "code",
   "execution_count": 5,
   "metadata": {
    "collapsed": true
   },
   "outputs": [],
   "source": [
    "def fill_params_dict_list_angles():\n",
    "    mcorr = DCorr(which_test='unbiased')\n",
    "    dcorr = DCorr(which_test='biased')\n",
    "    mantel = DCorr(which_test='mantel')\n",
    "    mgc = MGC()\n",
    "    pearson = RVCorr(which_test='pearson')\n",
    "    independence_tests = [mgc, mcorr, dcorr, mantel, pearson]\n",
    "    \n",
    "    params_dict_list = []\n",
    "    for sim_name, sim_func in simulations.items():\n",
    "        for test in independence_tests:\n",
    "            params_dict = {'independence_test': test, 'simulation_type': sim_func[0]}\n",
    "            params_dict_list.append(params_dict)\n",
    "    return params_dict_list"
   ]
  },
  {
   "cell_type": "code",
   "execution_count": 6,
   "metadata": {},
   "outputs": [
    {
     "name": "stdout",
     "output_type": "stream",
     "text": [
      "<class 'list'>\n",
      "<function joint_sim at 0x116f82400> mgc\n",
      "<function step_sim at 0x116f82488> unbiased\n",
      "<function sin_sim at 0x116f82840> mantel\n",
      "<function sin_sim at 0x116f82840> mantel finished\n",
      "<function sin_sim at 0x116f82840> pearson\n",
      "<function sin_sim at 0x116f82840> pearson finished\n",
      "<function sin_sim at 0x116f82840> mgc\n",
      "<function step_sim at 0x116f82488> unbiased finished\n",
      "<function step_sim at 0x116f82488> biased\n",
      "<function step_sim at 0x116f82488> biased finished\n",
      "<function step_sim at 0x116f82488> mantel\n",
      "<function step_sim at 0x116f82488> mantel finished\n",
      "<function step_sim at 0x116f82488> pearson\n",
      "<function step_sim at 0x116f82488> pearson finished\n",
      "<function spiral_sim at 0x116f82620> mgc\n",
      "<function joint_sim at 0x116f82400> mgc finished\n",
      "<function joint_sim at 0x116f82400> unbiased\n",
      "<function sin_sim at 0x116f82840> mgc finished\n",
      "<function sin_sim at 0x116f82840> unbiased\n",
      "<function joint_sim at 0x116f82400> unbiased finished\n",
      "<function joint_sim at 0x116f82400> biased\n",
      "<function sin_sim at 0x116f82840> unbiased finished\n",
      "<function sin_sim at 0x116f82840> biased\n",
      "<function joint_sim at 0x116f82400> biased finished\n",
      "<function joint_sim at 0x116f82400> mantel\n",
      "<function spiral_sim at 0x116f82620> mgc finished\n",
      "<function spiral_sim at 0x116f82620> unbiased\n",
      "<function joint_sim at 0x116f82400> mantel finished\n",
      "<function joint_sim at 0x116f82400> pearson\n",
      "<function sin_sim at 0x116f82840> biased finished\n",
      "<function sin_sim at 0x116f82840> mantel\n",
      "<function joint_sim at 0x116f82400> pearson finished\n",
      "<function sin_sim at 0x116f82840> mgc\n",
      "<function sin_sim at 0x116f82840> mantel finished\n",
      "<function sin_sim at 0x116f82840> pearson\n",
      "<function spiral_sim at 0x116f82620> unbiased finished\n",
      "<function spiral_sim at 0x116f82620> biased\n",
      "<function sin_sim at 0x116f82840> pearson finished\n",
      "<function step_sim at 0x116f82488> mgc\n",
      "<function spiral_sim at 0x116f82620> biased finished\n",
      "<function spiral_sim at 0x116f82620> mantel\n",
      "<function spiral_sim at 0x116f82620> mantel finished\n",
      "<function spiral_sim at 0x116f82620> pearson\n",
      "<function spiral_sim at 0x116f82620> pearson finished\n",
      "<function circle_sim at 0x116f829d8> mgc\n",
      "<function sin_sim at 0x116f82840> mgc finished\n",
      "<function sin_sim at 0x116f82840> unbiased\n",
      "<function step_sim at 0x116f82488> mgc finished\n",
      "<function circle_sim at 0x116f829d8> biased\n",
      "<function sin_sim at 0x116f82840> unbiased finished\n",
      "<function sin_sim at 0x116f82840> biased\n",
      "<function circle_sim at 0x116f829d8> biased finished\n",
      "<function circle_sim at 0x116f829d8> mantel\n",
      "<function sin_sim at 0x116f82840> biased finished\n",
      "<function log_sim at 0x116f82730> mgc\n",
      "<function circle_sim at 0x116f829d8> mgc finished\n",
      "<function circle_sim at 0x116f829d8> unbiased\n",
      "<function circle_sim at 0x116f829d8> mantel finished\n",
      "<function circle_sim at 0x116f829d8> pearson\n",
      "<function circle_sim at 0x116f829d8> pearson finished\n",
      "<function square_sim at 0x116f828c8> mgc\n",
      "<function circle_sim at 0x116f829d8> unbiased finished\n",
      "<function circle_sim at 0x116f829d8> biased\n",
      "<function circle_sim at 0x116f829d8> biased finished\n",
      "<function circle_sim at 0x116f829d8> mantel\n",
      "<function circle_sim at 0x116f829d8> mantel finished\n",
      "<function circle_sim at 0x116f829d8> pearson\n",
      "<function circle_sim at 0x116f829d8> pearson finished\n",
      "<function circle_sim at 0x116f829d8> mgc\n",
      "<function log_sim at 0x116f82730> mgc finished\n",
      "<function log_sim at 0x116f82730> unbiased\n",
      "<function square_sim at 0x116f828c8> mgc finished\n",
      "<function square_sim at 0x116f828c8> unbiased\n",
      "<function log_sim at 0x116f82730> unbiased finished\n",
      "<function log_sim at 0x116f82730> biased\n",
      "<function square_sim at 0x116f828c8> unbiased finished\n",
      "<function square_sim at 0x116f828c8> biased\n",
      "<function log_sim at 0x116f82730> biased finished\n",
      "<function log_sim at 0x116f82730> mantel\n",
      "<function log_sim at 0x116f82730> mantel finished\n",
      "<function log_sim at 0x116f82730> pearson\n",
      "<function log_sim at 0x116f82730> pearson finished\n",
      "<function quad_sim at 0x116f82510> mgc\n",
      "<function square_sim at 0x116f828c8> biased finished\n",
      "<function square_sim at 0x116f828c8> mantel\n",
      "<function circle_sim at 0x116f829d8> mgc finished\n",
      "<function circle_sim at 0x116f829d8> unbiased\n",
      "<function square_sim at 0x116f828c8> mantel finished\n",
      "<function square_sim at 0x116f828c8> pearson\n",
      "<function square_sim at 0x116f828c8> pearson finished\n",
      "<function quad_sim at 0x116f82510> mantel\n",
      "<function circle_sim at 0x116f829d8> unbiased finished\n",
      "<function two_parab_sim at 0x116f82950> unbiased\n",
      "<function quad_sim at 0x116f82510> mantel finished\n",
      "<function quad_sim at 0x116f82510> pearson\n",
      "<function quad_sim at 0x116f82510> pearson finished\n",
      "<function w_sim at 0x116f82598> mgc\n",
      "<function two_parab_sim at 0x116f82950> unbiased finished\n",
      "<function two_parab_sim at 0x116f82950> biased\n",
      "<function two_parab_sim at 0x116f82950> biased finished\n",
      "<function two_parab_sim at 0x116f82950> mantel\n",
      "<function two_parab_sim at 0x116f82950> mantel finished\n",
      "<function two_parab_sim at 0x116f82950> pearson\n",
      "<function two_parab_sim at 0x116f82950> pearson finished\n",
      "<function root_sim at 0x116f827b8> mgc\n",
      "<function quad_sim at 0x116f82510> mgc finished\n",
      "<function quad_sim at 0x116f82510> unbiased\n",
      "<function quad_sim at 0x116f82510> unbiased finished\n",
      "<function quad_sim at 0x116f82510> biased\n",
      "<function quad_sim at 0x116f82510> biased finished\n",
      "<function root_sim at 0x116f827b8> pearson\n",
      "<function root_sim at 0x116f827b8> pearson finished\n",
      "<function multi_indep_sim at 0x116f82ae8> mgc\n",
      "<function ubern_sim at 0x116f826a8> biased\n",
      "<function w_sim at 0x116f82598> mgc finished\n",
      "<function w_sim at 0x116f82598> unbiased\n"
     ]
    },
    {
     "name": "stderr",
     "output_type": "stream",
     "text": [
      "Process ForkPoolWorker-1:\n",
      "  File \"/Users/drishtimannan/anaconda3/lib/python3.6/multiprocessing/process.py\", line 258, in _bootstrap\n",
      "    self.run()\n",
      "Process ForkPoolWorker-3:\n",
      "Traceback (most recent call last):\n",
      "Process ForkPoolWorker-2:\n",
      "Traceback (most recent call last):\n",
      "  File \"/Users/drishtimannan/anaconda3/lib/python3.6/multiprocessing/process.py\", line 93, in run\n",
      "    self._target(*self._args, **self._kwargs)\n",
      "  File \"/Users/drishtimannan/anaconda3/lib/python3.6/multiprocessing/pool.py\", line 119, in worker\n",
      "    result = (True, func(*args, **kwds))\n",
      "  File \"/Users/drishtimannan/anaconda3/lib/python3.6/multiprocessing/process.py\", line 258, in _bootstrap\n",
      "    self.run()\n",
      "  File \"/Users/drishtimannan/anaconda3/lib/python3.6/multiprocessing/pool.py\", line 44, in mapstar\n",
      "    return list(map(*args))\n",
      "  File \"/Users/drishtimannan/anaconda3/lib/python3.6/multiprocessing/process.py\", line 93, in run\n",
      "    self._target(*self._args, **self._kwargs)\n",
      "  File \"/Users/drishtimannan/anaconda3/lib/python3.6/multiprocessing/pool.py\", line 119, in worker\n",
      "    result = (True, func(*args, **kwds))\n",
      "  File \"<ipython-input-4-5f4faaba1e56>\", line 9, in power_vs_angle_parallel\n",
      "    estimated_power[i] = power(test, sim, num_samples=100, num_dimensions=1, theta=angles[i])\n",
      "  File \"/Users/drishtimannan/anaconda3/lib/python3.6/multiprocessing/pool.py\", line 44, in mapstar\n",
      "    return list(map(*args))\n",
      "  File \"/Users/drishtimannan/anaconda3/lib/python3.6/site-packages/mgcpy-0.1.0-py3.6-macosx-10.7-x86_64.egg/mgcpy/benchmarks/power_two_sample.py\", line 73, in power\n",
      "    num_samples, num_dimensions, noise=noise)\n",
      "  File \"<ipython-input-4-5f4faaba1e56>\", line 9, in power_vs_angle_parallel\n",
      "    estimated_power[i] = power(test, sim, num_samples=100, num_dimensions=1, theta=angles[i])\n",
      "  File \"/Users/drishtimannan/anaconda3/lib/python3.6/site-packages/mgcpy-0.1.0-py3.6-macosx-10.7-x86_64.egg/mgcpy/benchmarks/simulations.py\", line 310, in ubern_sim\n",
      "    + kappa*noise*gauss_noise2[i])\n",
      "  File \"/Users/drishtimannan/anaconda3/lib/python3.6/site-packages/mgcpy-0.1.0-py3.6-macosx-10.7-x86_64.egg/mgcpy/benchmarks/power_two_sample.py\", line 87, in power\n",
      "    matrix_X, matrix_Y)\n",
      "  File \"/Users/drishtimannan/anaconda3/lib/python3.6/site-packages/mgcpy-0.1.0-py3.6-macosx-10.7-x86_64.egg/mgcpy/independence_tests/mgc/mgc.py\", line 88, in test_statistic\n",
      "    base_global_correlation=self.base_global_correlation)[\"local_correlation_matrix\"]\n",
      "KeyboardInterrupt\n",
      "  File \"mgcpy/independence_tests/mgc/local_correlation.pyx\", line 83, in mgcpy.independence_tests.mgc.local_correlation.local_correlations\n",
      "  File \"mgcpy/independence_tests/mgc/local_correlation.pyx\", line 145, in mgcpy.independence_tests.mgc.local_correlation.local_correlations\n",
      "  File \"mgcpy/independence_tests/mgc/local_correlation.pyx\", line 66, in mgcpy.independence_tests.mgc.local_correlation.local_covariance\n",
      "  File \"/Users/drishtimannan/anaconda3/lib/python3.6/site-packages/numpy/core/fromnumeric.py\", line 2092, in cumsum\n",
      "    def cumsum(a, axis=None, dtype=None, out=None):\n",
      "KeyboardInterrupt\n",
      "Traceback (most recent call last):\n",
      "  File \"/Users/drishtimannan/anaconda3/lib/python3.6/multiprocessing/process.py\", line 258, in _bootstrap\n",
      "    self.run()\n",
      "  File \"/Users/drishtimannan/anaconda3/lib/python3.6/multiprocessing/process.py\", line 93, in run\n",
      "    self._target(*self._args, **self._kwargs)\n",
      "  File \"/Users/drishtimannan/anaconda3/lib/python3.6/multiprocessing/pool.py\", line 119, in worker\n",
      "    result = (True, func(*args, **kwds))\n",
      "  File \"/Users/drishtimannan/anaconda3/lib/python3.6/multiprocessing/pool.py\", line 44, in mapstar\n",
      "    return list(map(*args))\n",
      "  File \"<ipython-input-4-5f4faaba1e56>\", line 9, in power_vs_angle_parallel\n",
      "    estimated_power[i] = power(test, sim, num_samples=100, num_dimensions=1, theta=angles[i])\n",
      "  File \"/Users/drishtimannan/anaconda3/lib/python3.6/site-packages/mgcpy-0.1.0-py3.6-macosx-10.7-x86_64.egg/mgcpy/benchmarks/power_two_sample.py\", line 85, in power\n",
      "    matrix_X, permuted_y)\n",
      "  File \"/Users/drishtimannan/anaconda3/lib/python3.6/site-packages/mgcpy-0.1.0-py3.6-macosx-10.7-x86_64.egg/mgcpy/independence_tests/dcorr.py\", line 69, in test_statistic\n",
      "    transformed_distance_matrices = transform_distance_matrix(matrix_X, matrix_Y, base_global_correlation=self.which_test, is_ranked=False)\n",
      "  File \"mgcpy/independence_tests/mgc/distance_transform.pyx\", line 107, in mgcpy.independence_tests.mgc.distance_transform.transform_distance_matrix\n"
     ]
    },
    {
     "name": "stdout",
     "output_type": "stream",
     "text": [
      "<function linear_sim at 0x116f82268> mgc\n",
      "<function exp_sim at 0x116f822f0> mantel\n"
     ]
    },
    {
     "name": "stderr",
     "output_type": "stream",
     "text": [
      "  File \"mgcpy/independence_tests/mgc/distance_transform.pyx\", line 153, in mgcpy.independence_tests.mgc.distance_transform.transform_distance_matrix\n",
      "  File \"/Users/drishtimannan/anaconda3/lib/python3.6/site-packages/numpy/core/_methods.py\", line 75, in _mean\n",
      "    ret = umr_sum(arr, axis, dtype, out, keepdims)\n",
      "  File \"mgcpy/independence_tests/mgc/distance_transform.pyx\", line 80, in mgcpy.independence_tests.mgc.distance_transform.center_distance_matrix\n",
      "KeyboardInterrupt\n"
     ]
    },
    {
     "ename": "KeyboardInterrupt",
     "evalue": "",
     "output_type": "error",
     "traceback": [
      "\u001b[0;31m---------------------------------------------------------------------------\u001b[0m",
      "\u001b[0;31mKeyboardInterrupt\u001b[0m                         Traceback (most recent call last)",
      "\u001b[0;32m<timed exec>\u001b[0m in \u001b[0;36m<module>\u001b[0;34m()\u001b[0m\n",
      "\u001b[0;32m~/anaconda3/lib/python3.6/multiprocessing/pool.py\u001b[0m in \u001b[0;36mmap\u001b[0;34m(self, func, iterable, chunksize)\u001b[0m\n\u001b[1;32m    286\u001b[0m         \u001b[0;32min\u001b[0m \u001b[0ma\u001b[0m \u001b[0mlist\u001b[0m \u001b[0mthat\u001b[0m \u001b[0;32mis\u001b[0m \u001b[0mreturned\u001b[0m\u001b[0;34m.\u001b[0m\u001b[0;34m\u001b[0m\u001b[0;34m\u001b[0m\u001b[0m\n\u001b[1;32m    287\u001b[0m         '''\n\u001b[0;32m--> 288\u001b[0;31m         \u001b[0;32mreturn\u001b[0m \u001b[0mself\u001b[0m\u001b[0;34m.\u001b[0m\u001b[0m_map_async\u001b[0m\u001b[0;34m(\u001b[0m\u001b[0mfunc\u001b[0m\u001b[0;34m,\u001b[0m \u001b[0miterable\u001b[0m\u001b[0;34m,\u001b[0m \u001b[0mmapstar\u001b[0m\u001b[0;34m,\u001b[0m \u001b[0mchunksize\u001b[0m\u001b[0;34m)\u001b[0m\u001b[0;34m.\u001b[0m\u001b[0mget\u001b[0m\u001b[0;34m(\u001b[0m\u001b[0;34m)\u001b[0m\u001b[0;34m\u001b[0m\u001b[0;34m\u001b[0m\u001b[0m\n\u001b[0m\u001b[1;32m    289\u001b[0m \u001b[0;34m\u001b[0m\u001b[0m\n\u001b[1;32m    290\u001b[0m     \u001b[0;32mdef\u001b[0m \u001b[0mstarmap\u001b[0m\u001b[0;34m(\u001b[0m\u001b[0mself\u001b[0m\u001b[0;34m,\u001b[0m \u001b[0mfunc\u001b[0m\u001b[0;34m,\u001b[0m \u001b[0miterable\u001b[0m\u001b[0;34m,\u001b[0m \u001b[0mchunksize\u001b[0m\u001b[0;34m=\u001b[0m\u001b[0;32mNone\u001b[0m\u001b[0;34m)\u001b[0m\u001b[0;34m:\u001b[0m\u001b[0;34m\u001b[0m\u001b[0;34m\u001b[0m\u001b[0m\n",
      "\u001b[0;32m~/anaconda3/lib/python3.6/multiprocessing/pool.py\u001b[0m in \u001b[0;36mget\u001b[0;34m(self, timeout)\u001b[0m\n\u001b[1;32m    662\u001b[0m \u001b[0;34m\u001b[0m\u001b[0m\n\u001b[1;32m    663\u001b[0m     \u001b[0;32mdef\u001b[0m \u001b[0mget\u001b[0m\u001b[0;34m(\u001b[0m\u001b[0mself\u001b[0m\u001b[0;34m,\u001b[0m \u001b[0mtimeout\u001b[0m\u001b[0;34m=\u001b[0m\u001b[0;32mNone\u001b[0m\u001b[0;34m)\u001b[0m\u001b[0;34m:\u001b[0m\u001b[0;34m\u001b[0m\u001b[0;34m\u001b[0m\u001b[0m\n\u001b[0;32m--> 664\u001b[0;31m         \u001b[0mself\u001b[0m\u001b[0;34m.\u001b[0m\u001b[0mwait\u001b[0m\u001b[0;34m(\u001b[0m\u001b[0mtimeout\u001b[0m\u001b[0;34m)\u001b[0m\u001b[0;34m\u001b[0m\u001b[0;34m\u001b[0m\u001b[0m\n\u001b[0m\u001b[1;32m    665\u001b[0m         \u001b[0;32mif\u001b[0m \u001b[0;32mnot\u001b[0m \u001b[0mself\u001b[0m\u001b[0;34m.\u001b[0m\u001b[0mready\u001b[0m\u001b[0;34m(\u001b[0m\u001b[0;34m)\u001b[0m\u001b[0;34m:\u001b[0m\u001b[0;34m\u001b[0m\u001b[0;34m\u001b[0m\u001b[0m\n\u001b[1;32m    666\u001b[0m             \u001b[0;32mraise\u001b[0m \u001b[0mTimeoutError\u001b[0m\u001b[0;34m\u001b[0m\u001b[0;34m\u001b[0m\u001b[0m\n",
      "\u001b[0;32m~/anaconda3/lib/python3.6/multiprocessing/pool.py\u001b[0m in \u001b[0;36mwait\u001b[0;34m(self, timeout)\u001b[0m\n\u001b[1;32m    659\u001b[0m \u001b[0;34m\u001b[0m\u001b[0m\n\u001b[1;32m    660\u001b[0m     \u001b[0;32mdef\u001b[0m \u001b[0mwait\u001b[0m\u001b[0;34m(\u001b[0m\u001b[0mself\u001b[0m\u001b[0;34m,\u001b[0m \u001b[0mtimeout\u001b[0m\u001b[0;34m=\u001b[0m\u001b[0;32mNone\u001b[0m\u001b[0;34m)\u001b[0m\u001b[0;34m:\u001b[0m\u001b[0;34m\u001b[0m\u001b[0;34m\u001b[0m\u001b[0m\n\u001b[0;32m--> 661\u001b[0;31m         \u001b[0mself\u001b[0m\u001b[0;34m.\u001b[0m\u001b[0m_event\u001b[0m\u001b[0;34m.\u001b[0m\u001b[0mwait\u001b[0m\u001b[0;34m(\u001b[0m\u001b[0mtimeout\u001b[0m\u001b[0;34m)\u001b[0m\u001b[0;34m\u001b[0m\u001b[0;34m\u001b[0m\u001b[0m\n\u001b[0m\u001b[1;32m    662\u001b[0m \u001b[0;34m\u001b[0m\u001b[0m\n\u001b[1;32m    663\u001b[0m     \u001b[0;32mdef\u001b[0m \u001b[0mget\u001b[0m\u001b[0;34m(\u001b[0m\u001b[0mself\u001b[0m\u001b[0;34m,\u001b[0m \u001b[0mtimeout\u001b[0m\u001b[0;34m=\u001b[0m\u001b[0;32mNone\u001b[0m\u001b[0;34m)\u001b[0m\u001b[0;34m:\u001b[0m\u001b[0;34m\u001b[0m\u001b[0;34m\u001b[0m\u001b[0m\n",
      "\u001b[0;32m~/anaconda3/lib/python3.6/threading.py\u001b[0m in \u001b[0;36mwait\u001b[0;34m(self, timeout)\u001b[0m\n\u001b[1;32m    549\u001b[0m             \u001b[0msignaled\u001b[0m \u001b[0;34m=\u001b[0m \u001b[0mself\u001b[0m\u001b[0;34m.\u001b[0m\u001b[0m_flag\u001b[0m\u001b[0;34m\u001b[0m\u001b[0;34m\u001b[0m\u001b[0m\n\u001b[1;32m    550\u001b[0m             \u001b[0;32mif\u001b[0m \u001b[0;32mnot\u001b[0m \u001b[0msignaled\u001b[0m\u001b[0;34m:\u001b[0m\u001b[0;34m\u001b[0m\u001b[0;34m\u001b[0m\u001b[0m\n\u001b[0;32m--> 551\u001b[0;31m                 \u001b[0msignaled\u001b[0m \u001b[0;34m=\u001b[0m \u001b[0mself\u001b[0m\u001b[0;34m.\u001b[0m\u001b[0m_cond\u001b[0m\u001b[0;34m.\u001b[0m\u001b[0mwait\u001b[0m\u001b[0;34m(\u001b[0m\u001b[0mtimeout\u001b[0m\u001b[0;34m)\u001b[0m\u001b[0;34m\u001b[0m\u001b[0;34m\u001b[0m\u001b[0m\n\u001b[0m\u001b[1;32m    552\u001b[0m             \u001b[0;32mreturn\u001b[0m \u001b[0msignaled\u001b[0m\u001b[0;34m\u001b[0m\u001b[0;34m\u001b[0m\u001b[0m\n\u001b[1;32m    553\u001b[0m \u001b[0;34m\u001b[0m\u001b[0m\n",
      "\u001b[0;32m~/anaconda3/lib/python3.6/threading.py\u001b[0m in \u001b[0;36mwait\u001b[0;34m(self, timeout)\u001b[0m\n\u001b[1;32m    293\u001b[0m         \u001b[0;32mtry\u001b[0m\u001b[0;34m:\u001b[0m    \u001b[0;31m# restore state no matter what (e.g., KeyboardInterrupt)\u001b[0m\u001b[0;34m\u001b[0m\u001b[0;34m\u001b[0m\u001b[0m\n\u001b[1;32m    294\u001b[0m             \u001b[0;32mif\u001b[0m \u001b[0mtimeout\u001b[0m \u001b[0;32mis\u001b[0m \u001b[0;32mNone\u001b[0m\u001b[0;34m:\u001b[0m\u001b[0;34m\u001b[0m\u001b[0;34m\u001b[0m\u001b[0m\n\u001b[0;32m--> 295\u001b[0;31m                 \u001b[0mwaiter\u001b[0m\u001b[0;34m.\u001b[0m\u001b[0macquire\u001b[0m\u001b[0;34m(\u001b[0m\u001b[0;34m)\u001b[0m\u001b[0;34m\u001b[0m\u001b[0;34m\u001b[0m\u001b[0m\n\u001b[0m\u001b[1;32m    296\u001b[0m                 \u001b[0mgotit\u001b[0m \u001b[0;34m=\u001b[0m \u001b[0;32mTrue\u001b[0m\u001b[0;34m\u001b[0m\u001b[0;34m\u001b[0m\u001b[0m\n\u001b[1;32m    297\u001b[0m             \u001b[0;32melse\u001b[0m\u001b[0;34m:\u001b[0m\u001b[0;34m\u001b[0m\u001b[0;34m\u001b[0m\u001b[0m\n",
      "\u001b[0;31mKeyboardInterrupt\u001b[0m: "
     ]
    }
   ],
   "source": [
    "%%time\n",
    "params_dict = fill_params_dict_list_angles()\n",
    "print(type(params_dict))\n",
    "pool = mp.Pool(mp.cpu_count()-1)\n",
    "results = pool.map(power_vs_angle_parallel, params_dict)\n",
    "#results = pool.map(power_vs_sample_size_parallel, params_dict)"
   ]
  },
  {
   "cell_type": "code",
   "execution_count": 7,
   "metadata": {
    "collapsed": true
   },
   "outputs": [],
   "source": [
    "# for any additional test, add the name of the test (as defined in the `get_name` function in the class)\n",
    "# in the list `tests` in the following function\n",
    "def plot_all_curves():\n",
    "    simulation_names = ['linear', 'exponential', 'cubic','joint_normal', 'step', 'quadratic', 'w_shape', 'spiral', \n",
    "                         'bernoulli', 'log', 'fourth_root', 'sine_4pi',\n",
    "                       'sine_16pi', 'square', 'two_parabolas', 'circle', 'ellipse', 'diamond', \n",
    "                        'multi_indept']\n",
    "        \n",
    "        \n",
    "    fig, ax = plt.subplots(nrows=4, ncols=5, figsize=(14,12))  \n",
    "    simulation_type = 0\n",
    "    for i, row in enumerate(ax):\n",
    "        for j, col in enumerate(row):\n",
    "            sim_name = simulation_names[simulation_type]\n",
    "            simulation_type += 1\n",
    "            tests = ['mgc', 'unbiased', 'biased', 'mantel', 'pearson']\n",
    "            dir_name = '../mgcpy/benchmarks/python_power_curves_angle/'\n",
    "            mgc_power = np.genfromtxt('{}_mgc_angle.csv'.format(simulation_type), delimiter=',')\n",
    "\n",
    "            for test in tests:\n",
    "                power = np.genfromtxt('{}_{}_angle.csv'.format(simulation_type, test), delimiter=',')\n",
    "                x_axis = [i for i in range(0,380,20)]\n",
    "                col.plot(x_axis, power-mgc_power, label=test)\n",
    "                col.set_ylim(-1, 1)\n",
    "                col.set_yticks([])\n",
    "                col.set_title(sim_name) \n",
    "    plt.legend()\n",
    "    plt.subplots_adjust(hspace=.75)\n",
    "    fig.suptitle('Power Relative to MGC of Changing Angle')\n",
    "    plt.savefig('power_curves_angles')"
   ]
  },
  {
   "cell_type": "code",
   "execution_count": 8,
   "metadata": {},
   "outputs": [
    {
     "ename": "OSError",
     "evalue": "1_mgc_angle.csv not found.",
     "output_type": "error",
     "traceback": [
      "\u001b[0;31m---------------------------------------------------------------------------\u001b[0m",
      "\u001b[0;31mOSError\u001b[0m                                   Traceback (most recent call last)",
      "\u001b[0;32m<ipython-input-8-653548741d8c>\u001b[0m in \u001b[0;36m<module>\u001b[0;34m()\u001b[0m\n\u001b[0;32m----> 1\u001b[0;31m \u001b[0mplot_all_curves\u001b[0m\u001b[0;34m(\u001b[0m\u001b[0;34m)\u001b[0m\u001b[0;34m\u001b[0m\u001b[0;34m\u001b[0m\u001b[0m\n\u001b[0m",
      "\u001b[0;32m<ipython-input-7-41e1fcce4f6a>\u001b[0m in \u001b[0;36mplot_all_curves\u001b[0;34m()\u001b[0m\n\u001b[1;32m     16\u001b[0m             \u001b[0mtests\u001b[0m \u001b[0;34m=\u001b[0m \u001b[0;34m[\u001b[0m\u001b[0;34m'mgc'\u001b[0m\u001b[0;34m,\u001b[0m \u001b[0;34m'unbiased'\u001b[0m\u001b[0;34m,\u001b[0m \u001b[0;34m'biased'\u001b[0m\u001b[0;34m,\u001b[0m \u001b[0;34m'mantel'\u001b[0m\u001b[0;34m,\u001b[0m \u001b[0;34m'pearson'\u001b[0m\u001b[0;34m]\u001b[0m\u001b[0;34m\u001b[0m\u001b[0;34m\u001b[0m\u001b[0m\n\u001b[1;32m     17\u001b[0m             \u001b[0mdir_name\u001b[0m \u001b[0;34m=\u001b[0m \u001b[0;34m'../mgcpy/benchmarks/python_power_curves_angle/'\u001b[0m\u001b[0;34m\u001b[0m\u001b[0;34m\u001b[0m\u001b[0m\n\u001b[0;32m---> 18\u001b[0;31m             \u001b[0mmgc_power\u001b[0m \u001b[0;34m=\u001b[0m \u001b[0mnp\u001b[0m\u001b[0;34m.\u001b[0m\u001b[0mgenfromtxt\u001b[0m\u001b[0;34m(\u001b[0m\u001b[0;34m'{}_mgc_angle.csv'\u001b[0m\u001b[0;34m.\u001b[0m\u001b[0mformat\u001b[0m\u001b[0;34m(\u001b[0m\u001b[0msimulation_type\u001b[0m\u001b[0;34m)\u001b[0m\u001b[0;34m,\u001b[0m \u001b[0mdelimiter\u001b[0m\u001b[0;34m=\u001b[0m\u001b[0;34m','\u001b[0m\u001b[0;34m)\u001b[0m\u001b[0;34m\u001b[0m\u001b[0;34m\u001b[0m\u001b[0m\n\u001b[0m\u001b[1;32m     19\u001b[0m \u001b[0;34m\u001b[0m\u001b[0m\n\u001b[1;32m     20\u001b[0m             \u001b[0;32mfor\u001b[0m \u001b[0mtest\u001b[0m \u001b[0;32min\u001b[0m \u001b[0mtests\u001b[0m\u001b[0;34m:\u001b[0m\u001b[0;34m\u001b[0m\u001b[0;34m\u001b[0m\u001b[0m\n",
      "\u001b[0;32m~/anaconda3/lib/python3.6/site-packages/numpy/lib/npyio.py\u001b[0m in \u001b[0;36mgenfromtxt\u001b[0;34m(fname, dtype, comments, delimiter, skip_header, skip_footer, converters, missing_values, filling_values, usecols, names, excludelist, deletechars, replace_space, autostrip, case_sensitive, defaultfmt, unpack, usemask, loose, invalid_raise, max_rows, encoding)\u001b[0m\n\u001b[1;32m   1698\u001b[0m             \u001b[0mfname\u001b[0m \u001b[0;34m=\u001b[0m \u001b[0mstr\u001b[0m\u001b[0;34m(\u001b[0m\u001b[0mfname\u001b[0m\u001b[0;34m)\u001b[0m\u001b[0;34m\u001b[0m\u001b[0;34m\u001b[0m\u001b[0m\n\u001b[1;32m   1699\u001b[0m         \u001b[0;32mif\u001b[0m \u001b[0misinstance\u001b[0m\u001b[0;34m(\u001b[0m\u001b[0mfname\u001b[0m\u001b[0;34m,\u001b[0m \u001b[0mbasestring\u001b[0m\u001b[0;34m)\u001b[0m\u001b[0;34m:\u001b[0m\u001b[0;34m\u001b[0m\u001b[0;34m\u001b[0m\u001b[0m\n\u001b[0;32m-> 1700\u001b[0;31m             \u001b[0mfhd\u001b[0m \u001b[0;34m=\u001b[0m \u001b[0miter\u001b[0m\u001b[0;34m(\u001b[0m\u001b[0mnp\u001b[0m\u001b[0;34m.\u001b[0m\u001b[0mlib\u001b[0m\u001b[0;34m.\u001b[0m\u001b[0m_datasource\u001b[0m\u001b[0;34m.\u001b[0m\u001b[0mopen\u001b[0m\u001b[0;34m(\u001b[0m\u001b[0mfname\u001b[0m\u001b[0;34m,\u001b[0m \u001b[0;34m'rt'\u001b[0m\u001b[0;34m,\u001b[0m \u001b[0mencoding\u001b[0m\u001b[0;34m=\u001b[0m\u001b[0mencoding\u001b[0m\u001b[0;34m)\u001b[0m\u001b[0;34m)\u001b[0m\u001b[0;34m\u001b[0m\u001b[0;34m\u001b[0m\u001b[0m\n\u001b[0m\u001b[1;32m   1701\u001b[0m             \u001b[0mown_fhd\u001b[0m \u001b[0;34m=\u001b[0m \u001b[0;32mTrue\u001b[0m\u001b[0;34m\u001b[0m\u001b[0;34m\u001b[0m\u001b[0m\n\u001b[1;32m   1702\u001b[0m         \u001b[0;32melse\u001b[0m\u001b[0;34m:\u001b[0m\u001b[0;34m\u001b[0m\u001b[0;34m\u001b[0m\u001b[0m\n",
      "\u001b[0;32m~/anaconda3/lib/python3.6/site-packages/numpy/lib/_datasource.py\u001b[0m in \u001b[0;36mopen\u001b[0;34m(path, mode, destpath, encoding, newline)\u001b[0m\n\u001b[1;32m    260\u001b[0m \u001b[0;34m\u001b[0m\u001b[0m\n\u001b[1;32m    261\u001b[0m     \u001b[0mds\u001b[0m \u001b[0;34m=\u001b[0m \u001b[0mDataSource\u001b[0m\u001b[0;34m(\u001b[0m\u001b[0mdestpath\u001b[0m\u001b[0;34m)\u001b[0m\u001b[0;34m\u001b[0m\u001b[0;34m\u001b[0m\u001b[0m\n\u001b[0;32m--> 262\u001b[0;31m     \u001b[0;32mreturn\u001b[0m \u001b[0mds\u001b[0m\u001b[0;34m.\u001b[0m\u001b[0mopen\u001b[0m\u001b[0;34m(\u001b[0m\u001b[0mpath\u001b[0m\u001b[0;34m,\u001b[0m \u001b[0mmode\u001b[0m\u001b[0;34m,\u001b[0m \u001b[0mencoding\u001b[0m\u001b[0;34m=\u001b[0m\u001b[0mencoding\u001b[0m\u001b[0;34m,\u001b[0m \u001b[0mnewline\u001b[0m\u001b[0;34m=\u001b[0m\u001b[0mnewline\u001b[0m\u001b[0;34m)\u001b[0m\u001b[0;34m\u001b[0m\u001b[0;34m\u001b[0m\u001b[0m\n\u001b[0m\u001b[1;32m    263\u001b[0m \u001b[0;34m\u001b[0m\u001b[0m\n\u001b[1;32m    264\u001b[0m \u001b[0;34m\u001b[0m\u001b[0m\n",
      "\u001b[0;32m~/anaconda3/lib/python3.6/site-packages/numpy/lib/_datasource.py\u001b[0m in \u001b[0;36mopen\u001b[0;34m(self, path, mode, encoding, newline)\u001b[0m\n\u001b[1;32m    616\u001b[0m                                       encoding=encoding, newline=newline)\n\u001b[1;32m    617\u001b[0m         \u001b[0;32melse\u001b[0m\u001b[0;34m:\u001b[0m\u001b[0;34m\u001b[0m\u001b[0;34m\u001b[0m\u001b[0m\n\u001b[0;32m--> 618\u001b[0;31m             \u001b[0;32mraise\u001b[0m \u001b[0mIOError\u001b[0m\u001b[0;34m(\u001b[0m\u001b[0;34m\"%s not found.\"\u001b[0m \u001b[0;34m%\u001b[0m \u001b[0mpath\u001b[0m\u001b[0;34m)\u001b[0m\u001b[0;34m\u001b[0m\u001b[0;34m\u001b[0m\u001b[0m\n\u001b[0m\u001b[1;32m    619\u001b[0m \u001b[0;34m\u001b[0m\u001b[0m\n\u001b[1;32m    620\u001b[0m \u001b[0;34m\u001b[0m\u001b[0m\n",
      "\u001b[0;31mOSError\u001b[0m: 1_mgc_angle.csv not found."
     ]
    }
   ],
   "source": [
    "plot_all_curves()"
   ]
  },
  {
   "cell_type": "code",
   "execution_count": null,
   "metadata": {
    "collapsed": true
   },
   "outputs": [],
   "source": []
  },
  {
   "cell_type": "code",
   "execution_count": null,
   "metadata": {
    "collapsed": true
   },
   "outputs": [],
   "source": []
  }
 ],
 "metadata": {
  "kernelspec": {
   "display_name": "Python 3",
   "language": "python",
   "name": "python3"
  },
  "language_info": {
   "codemirror_mode": {
    "name": "ipython",
    "version": 3
   },
   "file_extension": ".py",
   "mimetype": "text/x-python",
   "name": "python",
   "nbconvert_exporter": "python",
   "pygments_lexer": "ipython3",
   "version": "3.6.3"
  }
 },
 "nbformat": 4,
 "nbformat_minor": 2
}
