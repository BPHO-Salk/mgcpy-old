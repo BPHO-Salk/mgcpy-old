{
 "cells": [
  {
   "cell_type": "code",
   "execution_count": 37,
   "metadata": {},
   "outputs": [],
   "source": [
    "%matplotlib inline\n",
    "import numpy as np\n",
    "import matplotlib.pyplot as plt\n",
    "from mgcpy.independence_tests.mgc.mgc import MGC\n",
    "from mgcpy.benchmarks import simulations as sims"
   ]
  },
  {
   "cell_type": "code",
   "execution_count": 38,
   "metadata": {},
   "outputs": [],
   "source": [
    "def mgc(X, Y):\n",
    "    mgc = MGC(X, Y, None)\n",
    "    mgc_statistic, independence_test_metadata = mgc.test_statistic()\n",
    "    p_value, metadata = mgc.p_value()\n",
    "\n",
    "    print(\"MGC stats from Python:\")\n",
    "    print(\"MGC test statistic:\", mgc_statistic)\n",
    "    print(\"P Value:\", p_value)\n",
    "    print(\"Optimal Scale:\", independence_test_metadata[\"optimal_scale\"])"
   ]
  },
  {
   "cell_type": "code",
   "execution_count": 39,
   "metadata": {},
   "outputs": [
    {
     "data": {
      "image/png": "[encoded data removed]",
      "text/plain": [
       "<Figure size 432x288 with 1 Axes>"
      ]
     },
     "metadata": {
      "needs_background": "light"
     },
     "output_type": "display_data"
    },
    {
     "name": "stdout",
     "output_type": "stream",
     "text": [
      "(50, 1)\n",
      "(50, 1)\n"
     ]
    }
   ],
   "source": [
    "# Linear data\n",
    "X, Y = sims.linear_sim(num_samp=50, num_dim=1, noise=0.1)\n",
    "\n",
    "plt.scatter(X, Y)\n",
    "plt.show()\n",
    "\n",
    "print(X.shape)\n",
    "print(Y.shape)"
   ]
  },
  {
   "cell_type": "code",
   "execution_count": 40,
   "metadata": {},
   "outputs": [
    {
     "name": "stdout",
     "output_type": "stream",
     "text": [
      "MGC stats from Python:\n",
      "MGC test statistic: 0.9808225\n",
      "P Value: 0.0\n",
      "Optimal Scale: [50, 50]\n"
     ]
    }
   ],
   "source": [
    "mgc(X, Y)"
   ]
  },
  {
   "cell_type": "code",
   "execution_count": 41,
   "metadata": {},
   "outputs": [
    {
     "data": {
      "image/png": "[encoded data removed]",
      "text/plain": [
       "<Figure size 432x288 with 1 Axes>"
      ]
     },
     "metadata": {
      "needs_background": "light"
     },
     "output_type": "display_data"
    },
    {
     "name": "stdout",
     "output_type": "stream",
     "text": [
      "(100, 1)\n",
      "(100, 1)\n"
     ]
    }
   ],
   "source": [
    "# Non-linear (spiral data)\n",
    "X, Y = sims.spiral_sim(num_samp=100, num_dim=1, noise=0.1)\n",
    "\n",
    "plt.scatter(X, Y)\n",
    "plt.show()\n",
    "\n",
    "print(X.shape)\n",
    "print(Y.shape)"
   ]
  },
  {
   "cell_type": "code",
   "execution_count": 42,
   "metadata": {},
   "outputs": [
    {
     "name": "stdout",
     "output_type": "stream",
     "text": [
      "MGC stats from Python:\n",
      "MGC test statistic: 0.1978843\n",
      "P Value: 0.0\n",
      "Optimal Scale: [5, 6]\n"
     ]
    }
   ],
   "source": [
    "mgc(X, Y)"
   ]
  },
  {
   "cell_type": "code",
   "execution_count": 43,
   "metadata": {},
   "outputs": [
    {
     "data": {
      "image/png": "[encoded data removed]",
      "text/plain": [
       "<Figure size 432x288 with 1 Axes>"
      ]
     },
     "metadata": {
      "needs_background": "light"
     },
     "output_type": "display_data"
    },
    {
     "name": "stdout",
     "output_type": "stream",
     "text": [
      "(100, 1)\n",
      "(100, 1)\n"
     ]
    }
   ],
   "source": [
    "# W data\n",
    "X, Y = sims.w_sim(num_samp=100, num_dim=1, noise=0.1)\n",
    "\n",
    "plt.scatter(X, Y)\n",
    "plt.show()\n",
    "\n",
    "print(X.shape)\n",
    "print(Y.shape)"
   ]
  },
  {
   "cell_type": "code",
   "execution_count": 44,
   "metadata": {},
   "outputs": [
    {
     "name": "stdout",
     "output_type": "stream",
     "text": [
      "MGC stats from Python:\n",
      "MGC test statistic: 0.353204\n",
      "P Value: 0.0\n",
      "Optimal Scale: [9, 30]\n"
     ]
    }
   ],
   "source": [
    "mgc(X, Y)"
   ]
  },
  {
   "cell_type": "code",
   "execution_count": null,
   "metadata": {},
   "outputs": [],
   "source": []
  }
 ],
 "metadata": {
  "kernelspec": {
   "display_name": "Python 3",
   "language": "python",
   "name": "python3"
  },
  "language_info": {
   "codemirror_mode": {
    "name": "ipython",
    "version": 3
   },
   "file_extension": ".py",
   "mimetype": "text/x-python",
   "name": "python",
   "nbconvert_exporter": "python",
   "pygments_lexer": "ipython3",
   "version": "3.6.5"
  }
 },
 "nbformat": 4,
 "nbformat_minor": 2
}
