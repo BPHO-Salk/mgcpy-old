{
 "cells": [
  {
   "cell_type": "markdown",
   "metadata": {},
   "source": [
    "# Multivariate Distance Matrix Regression"
   ]
  },
  {
   "cell_type": "code",
   "execution_count": 1,
   "metadata": {},
   "outputs": [],
   "source": [
    "from mgcpy.independence_tests.mdmr import MDMR\n",
    "from mgcpy.benchmarks.simulations import linear_sim"
   ]
  },
  {
   "cell_type": "markdown",
   "metadata": {},
   "source": [
    "MDMR is a statistical technique that tests the significance of associations between predictors using a permutation test. Suppose that an appropriate distance measure is used to calculate an $n \\times n$ distance matrix such that\n",
    "$\\bf{D} = d_{ij}\\ \\forall\\ i, j = 1, ..., n$ where $d_{ij}$ quantifies the dissimilarity between subject $i$ and $j$. Let $\\bf{y}$ be a $n \\times q$ matrix that will be regressed onto a $n \\times p$ matrix $\\bf{x}$ of $p$ predictor variables and a column of 1's for the intercept. MDMR~is used to quantify the sum of square distances (SSD), which is\n",
    "$$\n",
    "    SSD = \\sum_{i < j} d_{ij}^2 = \\sum_{j < i} d_{ij}^2,\n",
    "$$\n",
    "into a portion attributed to $\\bf{x}$ and a portion attributed to a residual. A symmetric projection matrix can be calculated as $\\bf{L} = \\bf{x} {\\left( {\\bf{x}} ^T \\bf{x} \\right)}^{-1} {\\bf{x}} ^T$. In addition, a matrix involved in centering can be calculated as $\\bf{A} = \\left( -1 / 2 \\right) d_{ij}^2$. Given that $\\bf{I}$ is the identify matrix of size $n \\times n$ and $\\bf{J}$ is a matrix of ones that is the same size, the Gower centered matrix \\citep{gower1966some} is\n",
    "$$\n",
    "\\bf{G} = \\left( \\bf{I} - \\frac{1}{n} \\bf{J} {\\bf{J}} ^T \\right) \\bf{A} \\left( \\bf{I} - \\frac{1}{n} \\bf{J} {\\bf{J}} ^T \\right).\n",
    "$$\n",
    "This is used because since $\\text{tr}{\\bf{D}} = 0$ while $\\text{tr}{\\bf{G}} = SSD/n$. The MDMR~test statistic can thus be written as\n",
    "\n",
    "$$\\begin{equation}\n",
    "    \\text{MDMR}_n = \\frac{\\text{tr}{\\bf{L} \\bf{G} \\bf{L}} / p}{\\text{tr}{\\left( \\bf{I} - \\bf{L} \\right) \\bf{G} \\left( \\bf{I} - \\bf{L} \\right)} / \\left( n - p - 1 \\right)}.\n",
    "\\end{equation}$$\n",
    "\n",
    "Since the degrees of freedom $p$ and $n - p - 1$ are constant and do not affect permuted p-values, they are typically omitted from the MDMR statistic."
   ]
  },
  {
   "cell_type": "markdown",
   "metadata": {},
   "source": [
    "As with the other tests, simply create an `MDMR` object and then call the test statistic method. This is done below, by utilizing a simulation and calculating the MDMR test statistic from that data:"
   ]
  },
  {
   "cell_type": "code",
   "execution_count": 2,
   "metadata": {},
   "outputs": [
    {
     "name": "stdout",
     "output_type": "stream",
     "text": [
      "MDMR test statistic: 1.21\n"
     ]
    }
   ],
   "source": [
    "x, y = linear_sim(10, 1)\n",
    "\n",
    "mdmr = MDMR()\n",
    "test_stat = mdmr.test_statistic(x, y)[0]\n",
    "print(\"MDMR test statistic: %.2f\" % test_stat)"
   ]
  },
  {
   "cell_type": "markdown",
   "metadata": {},
   "source": [
    "P-values are calculated via permutation tests as with other packages. This is done by permutting $y$ and calculating the test statistic. The number of times that the test statistics are greater than or equal to null divided by the replication factor is equal to the p-value. This is shown below:"
   ]
  },
  {
   "cell_type": "code",
   "execution_count": 3,
   "metadata": {},
   "outputs": [
    {
     "name": "stdout",
     "output_type": "stream",
     "text": [
      "MDMR p-value: 0.27\n"
     ]
    }
   ],
   "source": [
    "p_value = mdmr.p_value(x, y)[0]\n",
    "print(\"MDMR p-value: %.2f\" % p_value)"
   ]
  }
 ],
 "metadata": {
  "kernelspec": {
   "display_name": "Python 3",
   "language": "python",
   "name": "python3"
  },
  "language_info": {
   "codemirror_mode": {
    "name": "ipython",
    "version": 3
   },
   "file_extension": ".py",
   "mimetype": "text/x-python",
   "name": "python",
   "nbconvert_exporter": "python",
   "pygments_lexer": "ipython3",
   "version": "3.6.7"
  }
 },
 "nbformat": 4,
 "nbformat_minor": 2
}
