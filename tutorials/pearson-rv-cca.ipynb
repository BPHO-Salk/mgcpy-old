{
 "cells": [
  {
   "cell_type": "markdown",
   "metadata": {},
   "source": [
    "# Pearson’s Product-Moment Correlation Coefficient, RV, and Canonical Correlation Analysis"
   ]
  },
  {
   "cell_type": "code",
   "execution_count": 1,
   "metadata": {},
   "outputs": [],
   "source": [
    "from mgcpy.benchmarks.simulations import linear_sim\n",
    "from mgcpy.independence_tests.rv_corr import RVCorr"
   ]
  },
  {
   "cell_type": "markdown",
   "metadata": {},
   "source": [
    "Let $X$ and $Y$ be random variables, with realizations $x \\in \\mathbb{R}^p$ and $y \\in \\mathbb{R}^q$, respectively. "
   ]
  },
  {
   "cell_type": "markdown",
   "metadata": {},
   "source": [
    "## Pearson's Product-Moment Correlation\n",
    "Pearson correlation is a measure of the linear dependence between two univariate random variables.\n",
    "Given sample data $\\bf{x}$ and $\\bf{y}$ where $p = q = 1$, the sample Pearson correlation is\n",
    "\n",
    "$$\\begin{equation} \\label{eq:genpearson}\n",
    "    \\text{Pearson}_n \\left( \\bf{x}, \\bf{y} \\right) = \\frac{\\hat{\\text{cov}} \\left( \\bf{x}, \\bf{y} \\right)}{\\hat{\\sigma}_{\\bf{x}} \\hat{\\sigma}_{\\bf{y}}},\n",
    "\\end{equation}$$\n",
    "\n",
    "where $\\hat{\\text{cov}} \\left( \\bf{x}, \\bf{y} \\right)$ is the sample covariance, $\\hat{\\sigma}_{\\bf{x}}$ and $\\hat{\\sigma}_{\\bf{y}}$ are the sample standard deviations of $\\bf{x}$ and $\\bf{y}$ respectively.\n",
    "\n",
    "This is a test returns a statistic between -1 and 1 and measures the linear correlation between two vectors. <b>Note: The inputs for this test must be 1 dimensional.</b>"
   ]
  },
  {
   "cell_type": "markdown",
   "metadata": {},
   "source": [
    "Create an `RVCorr` object with `'pearson'` as the `which_test` parameter and then call the `test_statistic` method. This is done below, by utilizing a simulation and calculating the Pearson's test statistic from that data:"
   ]
  },
  {
   "cell_type": "code",
   "execution_count": 2,
   "metadata": {
    "scrolled": true
   },
   "outputs": [
    {
     "name": "stdout",
     "output_type": "stream",
     "text": [
      "Pearson's test statistic: 0.50\n"
     ]
    }
   ],
   "source": [
    "x, y = linear_sim(100, 1)\n",
    "\n",
    "pearson = RVCorr(which_test='pearson')\n",
    "test_stat = pearson.test_statistic(x, y)[0]\n",
    "print(\"Pearson's test statistic: %.2f\" % test_stat)"
   ]
  },
  {
   "cell_type": "markdown",
   "metadata": {},
   "source": [
    "p-values are calculated via permutation tests as with other packages. This is done by permutting $\\bf{y}$ and computing the test statistic for each permutation. This empirical distribution estimates that of the test statistic under the null. The p-value is equal to number of times that the permuted test statistics are greater than or equal to the observed statistic divided by the `replication_factor`."
   ]
  },
  {
   "cell_type": "code",
   "execution_count": 3,
   "metadata": {},
   "outputs": [
    {
     "name": "stdout",
     "output_type": "stream",
     "text": [
      "Pearson's p-value: 0.00\n"
     ]
    }
   ],
   "source": [
    "p_value = pearson.p_value(x, y)[0]\n",
    "print(\"Pearson's p-value: %.2f\" % p_value)"
   ]
  },
  {
   "cell_type": "markdown",
   "metadata": {},
   "source": [
    "## RV\n",
    "RV is a multivariate generalization of the squared Pearson coefficient. The derivation is as follows: assuming each column in $\\bf{x}$ and $\\bf{y}$ are pre-centered to zero mean in each dimension, then the sample covariance matrix is $\\bf{\\hat{\\Sigma}_{xy}} =  {\\bf{x}} \\bf{y}^T $, and the RV coefficient is\n",
    "\n",
    "$$\\begin{equation} \\label{eq:rv}\n",
    "    \\text{RV}_n \\left( \\bf{x}, \\bf{y} \\right) = \\frac{\\text{tr}{\\bf{\\hat{\\Sigma}_{xy}} \\bf{\\hat{\\Sigma}_{yx}}} }{\\text{tr}{\\bf{\\hat{\\Sigma}^2_{xx}}} \\text{tr}{\\bf{\\hat{\\Sigma}^2_{yy}} }}.\n",
    "\\end{equation}$$"
   ]
  },
  {
   "cell_type": "markdown",
   "metadata": {},
   "source": [
    "As with the other tests, simply create an `RVCorr` object with `'rv'` as the `which_test` parameter and then call the test statistic method. This is done below, by utilizing a simulation and calculating the RV test statistic from that data:"
   ]
  },
  {
   "cell_type": "code",
   "execution_count": 4,
   "metadata": {},
   "outputs": [
    {
     "name": "stdout",
     "output_type": "stream",
     "text": [
      "RV test statistic: 0.57\n"
     ]
    }
   ],
   "source": [
    "x, y = linear_sim(100, 3)\n",
    "\n",
    "rv = RVCorr(which_test='rv')\n",
    "test_stat = rv.test_statistic(x, y)[0]\n",
    "print(\"RV test statistic: %.2f\" % test_stat)"
   ]
  },
  {
   "cell_type": "markdown",
   "metadata": {},
   "source": [
    "p-values are calculated via permutation tests as with other packages. This is done by permutting $\\bf{y}$ and computing the test statistic for each permutation. This empirical distribution estimates that of the test statistic under the null. The p-value is equal to number of times that the permuted test statistics are greater than or equal to the observed statistic divided by the `replication_factor`."
   ]
  },
  {
   "cell_type": "code",
   "execution_count": 5,
   "metadata": {},
   "outputs": [
    {
     "name": "stdout",
     "output_type": "stream",
     "text": [
      "RV p-value: 0.00\n"
     ]
    }
   ],
   "source": [
    "p_value = rv.p_value(x, y)[0]\n",
    "print(\"RV p-value: %.2f\" % p_value)"
   ]
  },
  {
   "cell_type": "markdown",
   "metadata": {},
   "source": [
    "## CCA\n",
    "Another similarly defined tool is CCA, which  finds the linear combinations with respect to the dimensions of $\\bf{x}$ and $\\bf{y}$ that maximize their correlation. \n",
    "It seeks a vector $\\bf{a} \\in {\\mathbb{R}}^p$ and $\\bf{b} \\in {\\mathbb{R}}^q$ to compute the first correlation coefficient as\n",
    "\n",
    "$$\\begin{equation} \\label{eq:tomaxcca}\n",
    " \\max_{\\bf{a} \\in {\\mathbb{R}}^n, \\bf{b} \\in {\\mathbb{R}}^m}{ \\frac{{\\bf{a}} ^T \\bf{\\hat{\\Sigma}_{xy} b}}{\\sqrt{{\\bf{a}} ^T \\bf{\\hat{\\Sigma}_{xx} a}} \\sqrt{{\\bf{b}} ^T \\bf{\\hat{\\Sigma}_{yy} b}}}}.\n",
    "\\end{equation}$$\n",
    "\n",
    "One can keep on deriving the second and the third canonical correlation coefficients in a similar manner until the end, and CCA can also be generalized to more than two random variables. Therefore, CCA can be used to define a test statistic for dependence, and usually people take the first correlation coefficient or the sum of all correlation coefficients as the statistic."
   ]
  },
  {
   "cell_type": "markdown",
   "metadata": {},
   "source": [
    "As with the other tests, simply create an `RVCorr` object with `'cca'` as the `which_test` parameter and then call the test statistic method. This is done below, by utilizing a simulation and calculating the CCA test statistic from that data:"
   ]
  },
  {
   "cell_type": "code",
   "execution_count": 6,
   "metadata": {},
   "outputs": [
    {
     "name": "stdout",
     "output_type": "stream",
     "text": [
      "CCA test statistic: 0.37\n"
     ]
    }
   ],
   "source": [
    "x, y = linear_sim(100, 6)\n",
    "\n",
    "cca = RVCorr(which_test='cca')\n",
    "test_stat = cca.test_statistic(x, y)[0]\n",
    "print(\"CCA test statistic: %.2f\" % test_stat)"
   ]
  },
  {
   "cell_type": "markdown",
   "metadata": {},
   "source": [
    "p-values are calculated via permutation tests as with other packages. This is done by permutting $\\bf{y}$ and computing the test statistic for each permutation. This empirical distribution estimates that of the test statistic under the null. The p-value is equal to number of times that the permuted test statistics are greater than or equal to the observed statistic divided by the `replication_factor`."
   ]
  },
  {
   "cell_type": "code",
   "execution_count": 7,
   "metadata": {},
   "outputs": [
    {
     "name": "stdout",
     "output_type": "stream",
     "text": [
      "CCA p-value: 0.00\n"
     ]
    }
   ],
   "source": [
    "p_value = cca.p_value(x, y)[0]\n",
    "print(\"CCA p-value: %.2f\" % p_value)"
   ]
  }
 ],
 "metadata": {
  "kernelspec": {
   "display_name": "Python 3",
   "language": "python",
   "name": "python3"
  },
  "language_info": {
   "codemirror_mode": {
    "name": "ipython",
    "version": 3
   },
   "file_extension": ".py",
   "mimetype": "text/x-python",
   "name": "python",
   "nbconvert_exporter": "python",
   "pygments_lexer": "ipython3",
   "version": "3.6.7"
  }
 },
 "nbformat": 4,
 "nbformat_minor": 2
}
