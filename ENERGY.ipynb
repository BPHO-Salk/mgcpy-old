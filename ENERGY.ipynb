{
 "cells": [
  {
   "cell_type": "code",
   "execution_count": 1,
   "metadata": {
    "collapsed": true
   },
   "outputs": [],
   "source": [
    "import numpy as np\n",
    "import pandas as pd\n",
    "from scipy import spatial\n",
    "import matplotlib.pyplot as plt"
   ]
  },
  {
   "cell_type": "code",
   "execution_count": 2,
   "metadata": {
    "collapsed": true
   },
   "outputs": [],
   "source": [
    "x=pd.read_csv('salary_csv.csv')\n",
    "men=[]\n",
    "women=[]"
   ]
  },
  {
   "cell_type": "code",
   "execution_count": 3,
   "metadata": {
    "collapsed": true
   },
   "outputs": [],
   "source": [
    "a=[0 for i in range(len(x))]\n",
    "b=[0 for i in range(len(x))]\n",
    "dx=[[0 for j in range (len(x))] for i in range (len(x))]\n",
    "dy=[[0 for j in range (len(x))] for i in range (len(x))]\n",
    "iden=[[0 for j in range (len(x))] for i in range (len(x))]\n",
    "jmat=[[1/len(x) for j in range (len(x))] for i in range (len(x))]\n",
    "hmat=[[0 for j in range (len(x))] for i in range (len(x))]"
   ]
  },
  {
   "cell_type": "code",
   "execution_count": 4,
   "metadata": {
    "collapsed": true
   },
   "outputs": [],
   "source": [
    "for i in range (len(x)):\n",
    "    if x.loc[i][0]=='M':\n",
    "        men.append(x.loc[i][1])\n",
    "    elif x.loc[i][0]=='F':\n",
    "        women.append(x.loc[i][1])"
   ]
  },
  {
   "cell_type": "code",
   "execution_count": 5,
   "metadata": {
    "collapsed": true
   },
   "outputs": [],
   "source": [
    "for t1 in range (len(men)):\n",
    "    a[t1]=men[t1]\n",
    "    b[t1]=0\n",
    "for t2 in range (len(women)):\n",
    "    a[len(men)+t2]=women[t2]\n",
    "    b[len(men)+t2]=1"
   ]
  },
  {
   "cell_type": "code",
   "execution_count": 6,
   "metadata": {
    "collapsed": true
   },
   "outputs": [],
   "source": [
    "for num in range (len(a)):\n",
    "    for num2 in range (len(a)):\n",
    "        dx[num][num2]=abs(a[num]-a[num2])\n",
    "        dy[num][num2]=abs(b[num]-b[num2])\n",
    "        if num==num2:\n",
    "            iden[num][num2]=1"
   ]
  },
  {
   "cell_type": "code",
   "execution_count": 7,
   "metadata": {
    "collapsed": true
   },
   "outputs": [],
   "source": [
    "for thing in range (len(x)):\n",
    "    for thing2 in range (len(x)):\n",
    "        hmat[thing][thing2]=iden[thing][thing2] - jmat[thing][thing2]"
   ]
  },
  {
   "cell_type": "code",
   "execution_count": 8,
   "metadata": {
    "collapsed": true
   },
   "outputs": [],
   "source": [
    "ans=np.matmul(dx,hmat)\n",
    "ans2=np.matmul(ans,dy)\n",
    "ans3=np.matmul(ans2,hmat)"
   ]
  },
  {
   "cell_type": "code",
   "execution_count": 9,
   "metadata": {
    "collapsed": true
   },
   "outputs": [],
   "source": [
    "count=0"
   ]
  },
  {
   "cell_type": "code",
   "execution_count": 10,
   "metadata": {
    "collapsed": true
   },
   "outputs": [],
   "source": [
    "for why in range (len(ans3)):\n",
    "    for why2 in range(len(ans3)):\n",
    "        if why==why2:\n",
    "            count=count+ans3[why][why2]"
   ]
  },
  {
   "cell_type": "code",
   "execution_count": 11,
   "metadata": {},
   "outputs": [
    {
     "name": "stdout",
     "output_type": "stream",
     "text": [
      "47.672533222658636\n"
     ]
    }
   ],
   "source": [
    "print(count/(len(x)**2))"
   ]
  },
  {
   "cell_type": "code",
   "execution_count": null,
   "metadata": {
    "collapsed": true
   },
   "outputs": [],
   "source": []
  }
 ],
 "metadata": {
  "kernelspec": {
   "display_name": "Python 3",
   "language": "python",
   "name": "python3"
  },
  "language_info": {
   "codemirror_mode": {
    "name": "ipython",
    "version": 3
   },
   "file_extension": ".py",
   "mimetype": "text/x-python",
   "name": "python",
   "nbconvert_exporter": "python",
   "pygments_lexer": "ipython3",
   "version": "3.6.3"
  }
 },
 "nbformat": 4,
 "nbformat_minor": 2
}
